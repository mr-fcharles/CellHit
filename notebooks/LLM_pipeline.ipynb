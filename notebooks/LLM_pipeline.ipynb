{
 "cells": [
  {
   "cell_type": "markdown",
   "metadata": {},
   "source": [
    "**Remark:** In this notebook we will show how to use LLMs to annotate a drug wrt \"Level 1 Reactome pathways\". Since we're just using putative targets and MOA as strings we are not actually restricted to using drugs from GDSC and PRISM. I.e.: this notebook can be used to <ins>**annotate any drug**</ins>"
   ]
  },
  {
   "cell_type": "markdown",
   "metadata": {},
   "source": [
    "# 0. Libraries import"
   ]
  },
  {
   "cell_type": "markdown",
   "metadata": {},
   "source": [
    "Import all necessary libraries and set up the environment. This includes:\n",
    "- Standard data manipulation libraries (pandas, numpy)\n",
    "- File system and path management (os, sys, pathlib)\n",
    "- The vLLM library for efficient large language model inference"
   ]
  },
  {
   "cell_type": "code",
   "execution_count": 1,
   "metadata": {},
   "outputs": [],
   "source": [
    "import os\n",
    "import pandas as pd\n",
    "import numpy as np\n",
    "import sys\n",
    "from pathlib import Path\n",
    "\n",
    "from vllm import LLM, SamplingParams"
   ]
  },
  {
   "cell_type": "markdown",
   "metadata": {},
   "source": [
    "We'll also set the current working directory and define important file paths."
   ]
  },
  {
   "cell_type": "code",
   "execution_count": null,
   "metadata": {},
   "outputs": [],
   "source": [
    "#set current working directory to the library path\n",
    "library_path = Path('/home/fcarli/CellHit/') #replace with yours\n",
    "os.chdir(library_path)\n",
    "#sys.path.append(library_path) use this in case it is still not working"
   ]
  },
  {
   "cell_type": "markdown",
   "metadata": {},
   "source": [
    "We are then ready to import dedicatd fucntions from the custom library"
   ]
  },
  {
   "cell_type": "code",
   "execution_count": 3,
   "metadata": {},
   "outputs": [],
   "source": [
    "from CellHit.LLMs import fetch_abstracts, generate_prompt\n",
    "from CellHit.data import obtain_drugs_metadata"
   ]
  },
  {
   "cell_type": "code",
   "execution_count": 32,
   "metadata": {},
   "outputs": [],
   "source": [
    "#specify the data_path\n",
    "data_path = library_path/'data'\n",
    "describe_prompt_path = data_path/'prompts'/'drug_description_prompt.txt'\n",
    "refine_prompt_path = data_path/'prompts'/'drug_refiner_prompt.txt'\n",
    "model_path = Path('~/mixtral/').expanduser() # note that the model needs to be downloaded from huggingface, the one used can be found at https://huggingface.co/TheBloke/Mixtral-8x7B-Instruct-v0.1-GPTQ (gptq-4bit-32g-actorder_True)"
   ]
  },
  {
   "cell_type": "markdown",
   "metadata": {},
   "source": [
    "# 1. Getting a drug abstracts"
   ]
  },
  {
   "cell_type": "markdown",
   "metadata": {},
   "source": [
    "Taking advantage of the custom functions provided in cellHit we can get metadata related to the two dataset used in the manuscript (i.e.: gdsc and prism)"
   ]
  },
  {
   "cell_type": "code",
   "execution_count": 5,
   "metadata": {},
   "outputs": [
    {
     "data": {
      "text/html": [
       "<div>\n",
       "<style scoped>\n",
       "    .dataframe tbody tr th:only-of-type {\n",
       "        vertical-align: middle;\n",
       "    }\n",
       "\n",
       "    .dataframe tbody tr th {\n",
       "        vertical-align: top;\n",
       "    }\n",
       "\n",
       "    .dataframe thead th {\n",
       "        text-align: right;\n",
       "    }\n",
       "</style>\n",
       "<table border=\"1\" class=\"dataframe\">\n",
       "  <thead>\n",
       "    <tr style=\"text-align: right;\">\n",
       "      <th></th>\n",
       "      <th>DrugID</th>\n",
       "      <th>Drug</th>\n",
       "      <th>PUTATIVE_TARGET</th>\n",
       "      <th>MOA</th>\n",
       "      <th>DRUG_SYNONYMS</th>\n",
       "      <th>SMILES</th>\n",
       "      <th>repurposing_target</th>\n",
       "    </tr>\n",
       "  </thead>\n",
       "  <tbody>\n",
       "    <tr>\n",
       "      <th>0</th>\n",
       "      <td>1003</td>\n",
       "      <td>Camptothecin</td>\n",
       "      <td>TOP1</td>\n",
       "      <td>DNA replication</td>\n",
       "      <td>Camptothecine, (+)-Camptothecin</td>\n",
       "      <td>CC[C@@]1(C2=C(COC1=O)C(=O)N3CC4=CC5=CC=CC=C5N=...</td>\n",
       "      <td>TOP1</td>\n",
       "    </tr>\n",
       "    <tr>\n",
       "      <th>1</th>\n",
       "      <td>1004</td>\n",
       "      <td>Vinblastine</td>\n",
       "      <td>Microtubule destabiliser</td>\n",
       "      <td>Mitosis</td>\n",
       "      <td>Velban</td>\n",
       "      <td>CC[C@@]1(C[C@H]2C[C@@](C3=C(CCN(C2)C1)C4=CC=CC...</td>\n",
       "      <td>TUBB</td>\n",
       "    </tr>\n",
       "    <tr>\n",
       "      <th>2</th>\n",
       "      <td>1005</td>\n",
       "      <td>Cisplatin</td>\n",
       "      <td>DNA crosslinker</td>\n",
       "      <td>DNA replication</td>\n",
       "      <td>cis-Diammineplatinum(II) dichloride, Platinol,...</td>\n",
       "      <td>N.N.Cl[Pt]Cl</td>\n",
       "      <td>DNA</td>\n",
       "    </tr>\n",
       "    <tr>\n",
       "      <th>3</th>\n",
       "      <td>1006</td>\n",
       "      <td>Cytarabine</td>\n",
       "      <td>Antimetabolite</td>\n",
       "      <td>Other</td>\n",
       "      <td>Ara-Cytidine, Arabinosyl Cytosine, U-19920</td>\n",
       "      <td>C1=CN(C(=O)N=C1N)[C@H]2[C@H]([C@@H]([C@H](O2)C...</td>\n",
       "      <td>DNA synthesis</td>\n",
       "    </tr>\n",
       "    <tr>\n",
       "      <th>4</th>\n",
       "      <td>1007</td>\n",
       "      <td>Docetaxel</td>\n",
       "      <td>Microtubule stabiliser</td>\n",
       "      <td>Mitosis</td>\n",
       "      <td>RP-56976, Taxotere</td>\n",
       "      <td>CC1=C2[C@H](C(=O)[C@@]3([C@H](C[C@@H]4[C@]([C@...</td>\n",
       "      <td>TUBB</td>\n",
       "    </tr>\n",
       "  </tbody>\n",
       "</table>\n",
       "</div>"
      ],
      "text/plain": [
       "   DrugID          Drug           PUTATIVE_TARGET              MOA  \\\n",
       "0    1003  Camptothecin                      TOP1  DNA replication   \n",
       "1    1004   Vinblastine  Microtubule destabiliser          Mitosis   \n",
       "2    1005     Cisplatin           DNA crosslinker  DNA replication   \n",
       "3    1006    Cytarabine            Antimetabolite            Other   \n",
       "4    1007     Docetaxel    Microtubule stabiliser          Mitosis   \n",
       "\n",
       "                                       DRUG_SYNONYMS  \\\n",
       "0                    Camptothecine, (+)-Camptothecin   \n",
       "1                                             Velban   \n",
       "2  cis-Diammineplatinum(II) dichloride, Platinol,...   \n",
       "3         Ara-Cytidine, Arabinosyl Cytosine, U-19920   \n",
       "4                                 RP-56976, Taxotere   \n",
       "\n",
       "                                              SMILES repurposing_target  \n",
       "0  CC[C@@]1(C2=C(COC1=O)C(=O)N3CC4=CC5=CC=CC=C5N=...               TOP1  \n",
       "1  CC[C@@]1(C[C@H]2C[C@@](C3=C(CCN(C2)C1)C4=CC=CC...               TUBB  \n",
       "2                                       N.N.Cl[Pt]Cl                DNA  \n",
       "3  C1=CN(C(=O)N=C1N)[C@H]2[C@H]([C@@H]([C@H](O2)C...      DNA synthesis  \n",
       "4  CC1=C2[C@H](C(=O)[C@@]3([C@H](C[C@@H]4[C@]([C@...               TUBB  "
      ]
     },
     "execution_count": 5,
     "metadata": {},
     "output_type": "execute_result"
    }
   ],
   "source": [
    "dataset = 'gdsc'\n",
    "metadata = obtain_drugs_metadata(dataset,data_path)\n",
    "metadata.head()"
   ]
  },
  {
   "cell_type": "markdown",
   "metadata": {},
   "source": [
    "After having selected the drug of interest we can fix its name"
   ]
  },
  {
   "cell_type": "code",
   "execution_count": 6,
   "metadata": {},
   "outputs": [],
   "source": [
    "drug_name = 'Venetoclax'"
   ]
  },
  {
   "cell_type": "markdown",
   "metadata": {},
   "source": [
    "and afterwards extraxt known metadata realted to this drug such as putative targets and mechanism of action"
   ]
  },
  {
   "cell_type": "code",
   "execution_count": 11,
   "metadata": {},
   "outputs": [
    {
     "data": {
      "text/html": [
       "<div>\n",
       "<style scoped>\n",
       "    .dataframe tbody tr th:only-of-type {\n",
       "        vertical-align: middle;\n",
       "    }\n",
       "\n",
       "    .dataframe tbody tr th {\n",
       "        vertical-align: top;\n",
       "    }\n",
       "\n",
       "    .dataframe thead th {\n",
       "        text-align: right;\n",
       "    }\n",
       "</style>\n",
       "<table border=\"1\" class=\"dataframe\">\n",
       "  <thead>\n",
       "    <tr style=\"text-align: right;\">\n",
       "      <th></th>\n",
       "      <th>DrugID</th>\n",
       "      <th>Drug</th>\n",
       "      <th>PUTATIVE_TARGET</th>\n",
       "      <th>MOA</th>\n",
       "      <th>DRUG_SYNONYMS</th>\n",
       "      <th>SMILES</th>\n",
       "      <th>repurposing_target</th>\n",
       "    </tr>\n",
       "  </thead>\n",
       "  <tbody>\n",
       "    <tr>\n",
       "      <th>213</th>\n",
       "      <td>1909</td>\n",
       "      <td>Venetoclax</td>\n",
       "      <td>BCL2</td>\n",
       "      <td>Apoptosis regulation</td>\n",
       "      <td>ABT-199, Veneclexta, GDC-0199</td>\n",
       "      <td>CC1(CCC(=C(C1)C2=CC=C(C=C2)Cl)CN3CCN(CC3)C4=CC...</td>\n",
       "      <td>BCL2</td>\n",
       "    </tr>\n",
       "  </tbody>\n",
       "</table>\n",
       "</div>"
      ],
      "text/plain": [
       "     DrugID        Drug PUTATIVE_TARGET                   MOA  \\\n",
       "213    1909  Venetoclax            BCL2  Apoptosis regulation   \n",
       "\n",
       "                     DRUG_SYNONYMS  \\\n",
       "213  ABT-199, Veneclexta, GDC-0199   \n",
       "\n",
       "                                                SMILES repurposing_target  \n",
       "213  CC1(CCC(=C(C1)C2=CC=C(C=C2)Cl)CN3CCN(CC3)C4=CC...               BCL2  "
      ]
     },
     "execution_count": 11,
     "metadata": {},
     "output_type": "execute_result"
    }
   ],
   "source": [
    "metadata.loc[metadata['Drug']==drug_name]"
   ]
  },
  {
   "cell_type": "code",
   "execution_count": 13,
   "metadata": {},
   "outputs": [
    {
     "data": {
      "text/plain": [
       "('Apoptosis regulation', 'BCL2')"
      ]
     },
     "execution_count": 13,
     "metadata": {},
     "output_type": "execute_result"
    }
   ],
   "source": [
    "mechanism_of_action = metadata.loc[metadata['Drug']==drug_name]['MOA'].values[0]\n",
    "putative_target = metadata.loc[metadata['Drug']==drug_name]['repurposing_target'].values[0]\n",
    "mechanism_of_action,putative_target"
   ]
  },
  {
   "cell_type": "markdown",
   "metadata": {},
   "source": [
    "We then use the  `fetch_abstracts` function to get the abstracts related to the selected drug"
   ]
  },
  {
   "cell_type": "code",
   "execution_count": 8,
   "metadata": {},
   "outputs": [
    {
     "data": {
      "text/plain": [
       "['The prognosis of adult acute myeloid leukemia (AML) remains poor, with the long-term survival rate less than 50%. However, the current paradigms of treatment are changing through a better understanding of the disease genetics and pathophysiology. Since 2017, eight new drugs have been approved by the U.S. Food and Drug Administration for the treatment of AML, including the FLT3 inhibitors midostaurin and gilteritinib, the IDH inhibitors ivosidenib and enasidenib, the anti-CD33 monoclonal antibody gemtuzumab ozogamicin, liposomal daunorubicin and cytarabine, the hedgehog pathway inhibitor glasdegib and the BCL-2 inhibitor venetoclax. Preclinical data demonstrated the anti-leukemic efficacy of venetoclax in AML and its synergy when combined with hypomethylating agents or chemotherapy agents. Clinical trials have demonstrated the clinical benefit of venetoclax-based therapies in newly diagnosed AML, leading to the recent FDA approval of venetoclax in combination with hypomethylating agents or low-dose cytarabine for older adults with newly diagnosed AML. Herein, we focus on the role of single-agent BCL-2 inhibition in AML and review the clinical studies of venetoclax-based combination regimens and the evolving mechanisms of resistance.',\n",
       " 'Randomized trials of venetoclax plus anti-CD20 antibodies as first-line treatment in fit patients (i.e., those with a low burden of coexisting conditions) with advanced chronic lymphocytic leukemia (CLL) have been lacking.',\n",
       " 'Venetoclax is a potent inhibitor that specifically targets B-cell lymphoma-2 (BCL-2), which has been demonstrated to be effective in preclinical studies utilizing acute myeloid leukemia (AML) cell lines and xenograft models. Significant antileukemic activity was also observed in clinical trials, both as a monotherapy and in combination with other drugs. This novel therapeutic approach has revolutionized the treatment prospects for AML patients with unfavorable prognoses and those who are unable to tolerate intensive chemotherapy. Nevertheless, further investigations are required to establish the optimal dosing, sequencing, and combinational strategies of venetoclax for AML treatments. Additionally, identifying biomarkers is crucial for predicting response and resistance to this targeted intervention. In this review, we provide an overview of venetoclax-based therapy for AML and explore potential avenues for future research.',\n",
       " 'Venetoclax inhibits BCL2, an antiapoptotic protein that is pathologically overexpressed and that is central to the survival of chronic lymphocytic leukemia cells. We evaluated the efficacy of venetoclax in combination with rituximab in patients with relapsed or refractory chronic lymphocytic leukemia.',\n",
       " 'Effective treatment options are limited for patients with acute myeloid leukemia (AML) who cannot tolerate intensive chemotherapy. Adults age ≥18 years with newly diagnosed AML ineligible for intensive chemotherapy were enrolled in this international phase 3 randomized double-blind placebo-controlled trial. Patients (N = 211) were randomized 2:1 to venetoclax (n = 143) or placebo (n = 68) in 28-day cycles, plus low-dose cytarabine (LDAC) on days 1 to 10. Primary end point was overall survival (OS); secondary end points included response rate, transfusion independence, and event-free survival. Median age was 76 years (range, 36-93 years), 38% had secondary AML, and 20% had received prior hypomethylating agent treatment. Planned primary analysis showed a 25% reduction in risk of death with venetoclax plus LDAC vs LDAC alone (hazard ratio [HR], 0.75; 95% confidence interval [CI], 0.52-1.07; P = .11), although not statistically significant; median OS was 7.2 vs 4.1 months, respectively. Unplanned analysis with additional 6-month follow-up demonstrated median OS of 8.4 months for the venetoclax arm (HR, 0.70; 95% CI, 0.50-0.98; P = .04). Complete remission (CR) plus CR with incomplete blood count recovery rates were 48% and 13% for venetoclax plus LDAC and LDAC alone, respectively. Key grade ≥3 adverse events (venetoclax vs LDAC alone) were febrile neutropenia (32% vs 29%), neutropenia (47% vs 16%), and thrombocytopenia (45% vs 37%). Venetoclax plus LDAC demonstrates clinically meaningful improvement in remission rate and OS vs LDAC alone, with a manageable safety profile. Results confirm venetoclax plus LDAC as an important frontline treatment for AML patients unfit for intensive chemotherapy. This trial was registered at www.clinicaltrials.gov as #NCT03069352.',\n",
       " 'The BCL-2 inhibitor venetoclax combined with hypomethylating agents or low-dose cytarabine represents an important new therapy for older or unfit patients with acute myeloid leukemia (AML). We analyzed 81 patients receiving these venetoclax-based combinations to identify molecular correlates of durable remission, response followed by relapse (adaptive resistance), or refractory disease (primary resistance). High response rates and durable remissions were typically associated with NPM1 or IDH2 mutations, with prolonged molecular remissions prevalent for NPM1 mutations. Primary and adaptive resistance to venetoclax-based combinations was most commonly characterized by acquisition or enrichment of clones activating signaling pathways such as FLT3 or RAS or biallelically perturbing TP53. Single-cell studies highlighted the polyclonal nature of intratumoral resistance mechanisms in some cases. Among cases that were primary refractory, we identified heterogeneous and sometimes divergent interval changes in leukemic clones within a single cycle of therapy, highlighting the dynamic and rapid occurrence of therapeutic selection in AML. In functional studies, FLT3 internal tandem duplication gain or TP53 loss conferred cross-resistance to both venetoclax and cytotoxic-based therapies. Collectively, we highlight molecular determinants of outcome with clinical relevance to patients with AML receiving venetoclax-based combination therapies.',\n",
       " 'BCL-2 inhibition has been shown to be effective in acute myeloid leukemia (AML) in combination with hypomethylating agents or low-dose cytarabine. However, resistance and relapse represent major clinical challenges. Therefore, there is an unmet need to overcome resistance to current venetoclax-based strategies. We performed high-throughput drug screening to identify effective combination partners for venetoclax in AML. Overall, 64 antileukemic drugs were screened in 31 primary high-risk AML samples with or without venetoclax. Gilteritinib exhibited the highest synergy with venetoclax in FLT3 wild-type AML. The combination of gilteritinib and venetoclax increased apoptosis, reduced viability, and was active in venetoclax-azacitidine-resistant cell lines and primary patient samples. Proteomics revealed increased FLT3 wild-type signaling in specimens with low in vitro response to the currently used venetoclax-azacitidine combination. Mechanistically, venetoclax with gilteritinib decreased phosphorylation of ERK and GSK3B via combined AXL and FLT3 inhibition with subsequent suppression of the antiapoptotic protein MCL-1. MCL-1 downregulation was associated with increased MCL-1 phosphorylation of serine 159, decreased phosphorylation of threonine 161, and proteasomal degradation. Gilteritinib and venetoclax were active in an FLT3 wild-type AML patient-derived xenograft model with TP53 mutation and reduced leukemic burden in 4 patients with FLT3 wild-type AML receiving venetoclax-gilteritinib off label after developing refractory disease under venetoclax-azacitidine. In summary, our results suggest that combined inhibition of FLT3/AXL potentiates venetoclax response in FLT3 wild-type AML by inducing MCL-1 degradation. Therefore, the venetoclax-gilteritinib combination merits testing as a potentially active regimen in patients with high-risk FLT3 wild-type AML.',\n",
       " 'Venetoclax, a Bcl-2 inhibitor, in combination with the hypomethylating agent azacytidine, achieves complete remission with or without count recovery in ∼70% of treatment-naive elderly patients unfit for conventional intensive chemotherapy. However, the mechanism of action of this drug combination is not fully understood. We discovered that venetoclax directly activated T cells to increase their cytotoxicity against acute myeloid leukemia (AML) in vitro and in vivo. Venetoclax enhanced T-cell effector function by increasing reactive oxygen species generation through inhibition of respiratory chain supercomplexes formation. In addition, azacytidine induced a viral mimicry response in AML cells by activating the STING/cGAS pathway, thereby rendering the AML cells more susceptible to T cell-mediated cytotoxicity. Similar findings were seen in patients treated with venetoclax, as this treatment increased reactive oxygen species generation and activated T cells. Collectively, this study presents a new immune-mediated mechanism of action for venetoclax and azacytidine in the treatment of AML and highlights a potential combination of venetoclax and adoptive cell therapy for patients with AML.',\n",
       " 'Venetoclax plus obinutuzumab has been established as a fixed-duration treatment regimen for patients with chronic lymphocytic leukaemia. We compared the long-term efficacy after treatment cessation of the combination of venetoclax plus obinutuzumab with chlorambucil plus obinutuzumab in patients with previously untreated chronic lymphocytic leukaemia.',\n",
       " 'To evaluate efficacy and safety of venetoclax + azacitidine among treatment-naïve patients with IDH1/2-mutant (mut) acute myeloid leukemia (AML).']"
      ]
     },
     "execution_count": 8,
     "metadata": {},
     "output_type": "execute_result"
    }
   ],
   "source": [
    "abstracts = fetch_abstracts(drug_name,mail=None,k=10)\n",
    "abstracts = [str(a) for a in abstracts]\n",
    "abstracts"
   ]
  },
  {
   "cell_type": "markdown",
   "metadata": {},
   "source": [
    "# 2. Generating a drug description"
   ]
  },
  {
   "cell_type": "markdown",
   "metadata": {},
   "source": [
    "We now make us of the VLLM library to do serve the LLM"
   ]
  },
  {
   "cell_type": "code",
   "execution_count": 10,
   "metadata": {},
   "outputs": [
    {
     "name": "stdout",
     "output_type": "stream",
     "text": [
      "WARNING 09-01 07:35:25 config.py:457] Casting torch.bfloat16 to torch.float16.\n",
      "WARNING 09-01 07:35:25 config.py:175] gptq quantization is not fully optimized yet. The speed can be slower than non-quantized models.\n",
      "INFO 09-01 07:35:25 llm_engine.py:70] Initializing an LLM engine with config: model=PosixPath('/home/fcarli/mixtral'), tokenizer=PosixPath('/home/fcarli/mixtral'), tokenizer_mode=auto, revision=gptq-4bit-32g-actorder_True, tokenizer_revision=None, trust_remote_code=False, dtype=torch.float16, max_seq_len=32768, download_dir=None, load_format=auto, tensor_parallel_size=1, quantization=gptq, enforce_eager=True, seed=0)\n"
     ]
    },
    {
     "name": "stderr",
     "output_type": "stream",
     "text": [
      "[W socket.cpp:436] [c10d] The server socket cannot be initialized on [::]:43576 (errno: 97 - Address family not supported by protocol).\n",
      "[W socket.cpp:663] [c10d] The client socket cannot be initialized to connect to [gaia01.hpc.sns.it]:43576 (errno: 97 - Address family not supported by protocol).\n"
     ]
    },
    {
     "name": "stdout",
     "output_type": "stream",
     "text": [
      "INFO 09-01 07:36:41 llm_engine.py:275] # GPU blocks: 4197, # CPU blocks: 2048\n"
     ]
    }
   ],
   "source": [
    "llm = LLM(\n",
    "            model=model_path,\n",
    "            revision=\"gptq-4bit-32g-actorder_True\",\n",
    "            quantization=\"gptq\",\n",
    "            dtype='float16',\n",
    "            gpu_memory_utilization=1,\n",
    "            enforce_eager=True)\n",
    "            #**{\"attn_implementation\":\"flash_attention_2\"}) Turn on for faster decoding (Ampere and newer GPUs only)\n",
    "\n",
    "    #initialize sampling parameters\n",
    "sampling_params = SamplingParams(temperature=0.2, top_p=0.95, max_tokens=1024)\n"
   ]
  },
  {
   "cell_type": "markdown",
   "metadata": {},
   "source": [
    "We generate the prompt using a dedicated function that takes care of inserting into a template the informations recovered about the selected drug"
   ]
  },
  {
   "cell_type": "code",
   "execution_count": 33,
   "metadata": {},
   "outputs": [
    {
     "name": "stdout",
     "output_type": "stream",
     "text": [
      "<|im_start|>system\n",
      "**Task**: Utilizing the drug metadata that i provide you with, act as a medicinal chemist and expert molecular biologist to generate an in-depth description of the drug.\n",
      "\n",
      "**Instructions**:\n",
      "1. Analyze the provided drug metadata, including its name, synthetic labels of the mechanism of action, and putative targets.\n",
      "2. Generate a detailed textual description of the drug's mechanism of action. This should include how the drug interacts with biological systems, its effect on specific cellular or molecular targets, and its overall impact on the disease or condition it is designed to treat.\n",
      "3. If available, provide a detailed textual description of the drug's metabolism. This includes how the drug is metabolized in the body, the enzymes involved, the metabolic pathways, and any known metabolites formed.\n",
      "4. Ensure that the information is presented in a clear, concise, and scientifically accurate manner, suitable for an audience with a background in medicinal chemistry and molecular biology.\n",
      "5. Try not to exceed 350 words in your description.\n",
      "\n",
      "**Output Format**:\n",
      "1. **Mechanism of Action Description**:\n",
      "   - [Detailed description of the drug's mechanism of action, covering its interaction with biological systems, effects on cellular or molecular targets, and overall impact on the intended disease or condition.]\n",
      "\n",
      "2. **Metabolism Description**:\n",
      "   - [If available known, a detailed description of the drug's metabolism, including metabolic pathways, enzymes involved, and known metabolites.]<|im_end|>\n",
      "<|im_start|>user\n",
      "**Drug Metadata**\n",
      "- Drug Name: Venetoclax\n",
      "- Synthetic Labels of Mechanism of Action: Apoptosis regulation\n",
      "- Putative Targets: BCL2<|im_end|>\n",
      "<|im_start|>assistant\n"
     ]
    }
   ],
   "source": [
    "describe_prompt = generate_prompt(describe_prompt_path,**{'drug_name':drug_name, 'mechanism_of_action':mechanism_of_action, 'putative_targets':putative_target})\n",
    "print(describe_prompt)"
   ]
  },
  {
   "cell_type": "markdown",
   "metadata": {},
   "source": [
    "We can than query the LLM and obtain its answer"
   ]
  },
  {
   "cell_type": "code",
   "execution_count": 17,
   "metadata": {},
   "outputs": [
    {
     "name": "stderr",
     "output_type": "stream",
     "text": [
      "Processed prompts:   0%|          | 0/1 [00:00<?, ?it/s]"
     ]
    },
    {
     "name": "stderr",
     "output_type": "stream",
     "text": [
      "Processed prompts: 100%|██████████| 1/1 [00:19<00:00, 19.60s/it]\n"
     ]
    }
   ],
   "source": [
    "outputs = llm.generate(describe_prompt, sampling_params)[0]."
   ]
  },
  {
   "cell_type": "code",
   "execution_count": 30,
   "metadata": {},
   "outputs": [
    {
     "name": "stdout",
     "output_type": "stream",
     "text": [
      "\n",
      "**Mechanism of Action Description**:\n",
      "\n",
      "Venetoclax is a potent and selective inhibitor of the BCL2 protein, a key regulator of apoptosis (programmed cell death). By binding to the BCL2 protein, Venetoclax disrupts the interaction between BCL2 and pro-apoptotic proteins, such as BAX and BAK, thereby promoting apoptosis in cancer cells that overexpress BCL2. This mechanism of action is particularly relevant in the treatment of chronic lymphocytic leukemia (CLL) and acute myeloid leukemia (AML), where BCL2 overexpression is a common feature and contributes to resistance to chemotherapy-induced apoptosis.\n",
      "\n",
      "**Metabolism Description**:\n",
      "\n",
      "Venetoclax is primarily metabolized by cytochrome P450 (CYP) 3A4, with a minor contribution from CYP3A5. The major metabolic pathways involve oxidative N-dealkylation, hydroxylation, and glucuronidation. The primary metabolite, M3, retains approximately 20% of the parent compound's activity and is further metabolized by CYP3A4 and UGT1A1. Venetoclax and its metabolites are primarily excreted in the feces (75%), with a smaller fraction (25%) excreted in the urine. Due to its extensive metabolism by CYP3A4, co-administration of Venetoclax with strong CYP3A4 inhibitors or inducers may significantly alter its pharmacokinetics and should be avoided or closely monitored.\n"
     ]
    }
   ],
   "source": [
    "drug_description = outputs[0].outputs[0].text\n",
    "print(drug_description)"
   ]
  },
  {
   "cell_type": "markdown",
   "metadata": {},
   "source": [
    "# 3.Refine the drug description with abstracts"
   ]
  },
  {
   "cell_type": "markdown",
   "metadata": {},
   "source": [
    "We now repeat the procedure above but this time integrating the infos generated at the previous step and integrating them with the abstracts"
   ]
  },
  {
   "cell_type": "code",
   "execution_count": 38,
   "metadata": {},
   "outputs": [
    {
     "name": "stdout",
     "output_type": "stream",
     "text": [
      "<|im_start|>system\n",
      "**Task**: Review and integrate a drug summary using the provided PubMed abstracts related to the drug. Synthesize both sets of information, offering corrections and updates as necessary.\n",
      "\n",
      "**Instructions**:\n",
      "1. Carefully read the output from the previous instruction, which contains a detailed description of the drug's mechanism of action and metabolism.\n",
      "2. Review the list of PubMed abstracts, disregarding any information that is not relevant to the drug and focusing on key information that pertains to the drug's mechanism of action, metabolism, and any other relevant pharmacological details.\n",
      "3. Compare and contrast the information from the previous output and the PubMed abstracts. Identify any discrepancies or conflicts between the two sources.\n",
      "4. In case of conflicting information, give precedence to the information contained in the PubMed abstracts, as they are based on recent scientific research and publications.\n",
      "5. Integrate the verified information and the new insights from the abstracts to create an updated, accurate summary of the drug's properties and effects. \n",
      "6. Don't add references to the abstracts, but rather integrate the information into the summary.\n",
      "7. Ensure that the summary is clear, concise, and scientifically accurate, suitable for an audience with a background in medicinal chemistry and molecular biology.\n",
      "8. Try not to exceed 500 words in your description.\n",
      "\n",
      "**Output Format**:\n",
      "1. **Mechanism of Action Description**:\n",
      "  - [Integrated and possibly corrected description of the drug's mechanism of action, considering both the previous output and the PubMed abstracts.]\n",
      "\n",
      "2. **Metabolism Description**:\n",
      "  - [If known, an integrated and possibly corrected description of the drug's metabolism, considering both the previous output and the PubMed abstracts.]\n",
      "\n",
      "3. **Additional Relevant Information**:\n",
      "  - [If any, other relevant pharmacological details or insights derived from the PubMed abstracts.]<|im_end|>\n",
      "<|im_start|>user\n",
      "**[Start of drug summary]**\n",
      "\n",
      "**Mechanism of Action Description**:\n",
      "\n",
      "Venetoclax is a potent and selective inhibitor of the BCL2 protein, a key regulator of apoptosis (programmed cell death). By binding to the BCL2 protein, Venetoclax disrupts the interaction between BCL2 and pro-apoptotic proteins, such as BAX and BAK, thereby promoting apoptosis in cancer cells that overexpress BCL2. This mechanism of action is particularly relevant in the treatment of chronic lymphocytic leukemia (CLL) and acute myeloid leukemia (AML), where BCL2 overexpression is a common feature and contributes to resistance to chemotherapy-induced apoptosis.\n",
      "\n",
      "**Metabolism Description**:\n",
      "\n",
      "Venetoclax is primarily metabolized by cytochrome P450 (CYP) 3A4, with a minor contribution from CYP3A5. The major metabolic pathways involve oxidative N-dealkylation, hydroxylation, and glucuronidation. The primary metabolite, M3, retains approximately 20% of the parent compound's activity and is further metabolized by CYP3A4 and UGT1A1. Venetoclax and its metabolites are primarily excreted in the feces (75%), with a smaller fraction (25%) excreted in the urine. Due to its extensive metabolism by CYP3A4, co-administration of Venetoclax with strong CYP3A4 inhibitors or inducers may significantly alter its pharmacokinetics and should be avoided or closely monitored.\n",
      "**[End of drug summary]**\n",
      "\n",
      "**[Start of PubMed Abstracts]**\n",
      "Abstract 1: The prognosis of adult acute myeloid leukemia (AML) remains poor, with the long-term survival rate less than 50%. However, the current paradigms of treatment are changing through a better understanding of the disease genetics and pathophysiology. Since 2017, eight new drugs have been approved by the U.S. Food and Drug Administration for the treatment of AML, including the FLT3 inhibitors midostaurin and gilteritinib, the IDH inhibitors ivosidenib and enasidenib, the anti-CD33 monoclonal antibody gemtuzumab ozogamicin, liposomal daunorubicin and cytarabine, the hedgehog pathway inhibitor glasdegib and the BCL-2 inhibitor venetoclax. Preclinical data demonstrated the anti-leukemic efficacy of venetoclax in AML and its synergy when combined with hypomethylating agents or chemotherapy agents. Clinical trials have demonstrated the clinical benefit of venetoclax-based therapies in newly diagnosed AML, leading to the recent FDA approval of venetoclax in combination with hypomethylating agents or low-dose cytarabine for older adults with newly diagnosed AML. Herein, we focus on the role of single-agent BCL-2 inhibition in AML and review the clinical studies of venetoclax-based combination regimens and the evolving mechanisms of resistance.\n",
      "Abstract 2: Randomized trials of venetoclax plus anti-CD20 antibodies as first-line treatment in fit patients (i.e., those with a low burden of coexisting conditions) with advanced chronic lymphocytic leukemia (CLL) have been lacking.\n",
      "Abstract 3: Venetoclax is a potent inhibitor that specifically targets B-cell lymphoma-2 (BCL-2), which has been demonstrated to be effective in preclinical studies utilizing acute myeloid leukemia (AML) cell lines and xenograft models. Significant antileukemic activity was also observed in clinical trials, both as a monotherapy and in combination with other drugs. This novel therapeutic approach has revolutionized the treatment prospects for AML patients with unfavorable prognoses and those who are unable to tolerate intensive chemotherapy. Nevertheless, further investigations are required to establish the optimal dosing, sequencing, and combinational strategies of venetoclax for AML treatments. Additionally, identifying biomarkers is crucial for predicting response and resistance to this targeted intervention. In this review, we provide an overview of venetoclax-based therapy for AML and explore potential avenues for future research.\n",
      "Abstract 4: Venetoclax inhibits BCL2, an antiapoptotic protein that is pathologically overexpressed and that is central to the survival of chronic lymphocytic leukemia cells. We evaluated the efficacy of venetoclax in combination with rituximab in patients with relapsed or refractory chronic lymphocytic leukemia.\n",
      "Abstract 5: Effective treatment options are limited for patients with acute myeloid leukemia (AML) who cannot tolerate intensive chemotherapy. Adults age ≥18 years with newly diagnosed AML ineligible for intensive chemotherapy were enrolled in this international phase 3 randomized double-blind placebo-controlled trial. Patients (N = 211) were randomized 2:1 to venetoclax (n = 143) or placebo (n = 68) in 28-day cycles, plus low-dose cytarabine (LDAC) on days 1 to 10. Primary end point was overall survival (OS); secondary end points included response rate, transfusion independence, and event-free survival. Median age was 76 years (range, 36-93 years), 38% had secondary AML, and 20% had received prior hypomethylating agent treatment. Planned primary analysis showed a 25% reduction in risk of death with venetoclax plus LDAC vs LDAC alone (hazard ratio [HR], 0.75; 95% confidence interval [CI], 0.52-1.07; P = .11), although not statistically significant; median OS was 7.2 vs 4.1 months, respectively. Unplanned analysis with additional 6-month follow-up demonstrated median OS of 8.4 months for the venetoclax arm (HR, 0.70; 95% CI, 0.50-0.98; P = .04). Complete remission (CR) plus CR with incomplete blood count recovery rates were 48% and 13% for venetoclax plus LDAC and LDAC alone, respectively. Key grade ≥3 adverse events (venetoclax vs LDAC alone) were febrile neutropenia (32% vs 29%), neutropenia (47% vs 16%), and thrombocytopenia (45% vs 37%). Venetoclax plus LDAC demonstrates clinically meaningful improvement in remission rate and OS vs LDAC alone, with a manageable safety profile. Results confirm venetoclax plus LDAC as an important frontline treatment for AML patients unfit for intensive chemotherapy. This trial was registered at www.clinicaltrials.gov as #NCT03069352.\n",
      "Abstract 6: The BCL-2 inhibitor venetoclax combined with hypomethylating agents or low-dose cytarabine represents an important new therapy for older or unfit patients with acute myeloid leukemia (AML). We analyzed 81 patients receiving these venetoclax-based combinations to identify molecular correlates of durable remission, response followed by relapse (adaptive resistance), or refractory disease (primary resistance). High response rates and durable remissions were typically associated with NPM1 or IDH2 mutations, with prolonged molecular remissions prevalent for NPM1 mutations. Primary and adaptive resistance to venetoclax-based combinations was most commonly characterized by acquisition or enrichment of clones activating signaling pathways such as FLT3 or RAS or biallelically perturbing TP53. Single-cell studies highlighted the polyclonal nature of intratumoral resistance mechanisms in some cases. Among cases that were primary refractory, we identified heterogeneous and sometimes divergent interval changes in leukemic clones within a single cycle of therapy, highlighting the dynamic and rapid occurrence of therapeutic selection in AML. In functional studies, FLT3 internal tandem duplication gain or TP53 loss conferred cross-resistance to both venetoclax and cytotoxic-based therapies. Collectively, we highlight molecular determinants of outcome with clinical relevance to patients with AML receiving venetoclax-based combination therapies.\n",
      "Abstract 7: BCL-2 inhibition has been shown to be effective in acute myeloid leukemia (AML) in combination with hypomethylating agents or low-dose cytarabine. However, resistance and relapse represent major clinical challenges. Therefore, there is an unmet need to overcome resistance to current venetoclax-based strategies. We performed high-throughput drug screening to identify effective combination partners for venetoclax in AML. Overall, 64 antileukemic drugs were screened in 31 primary high-risk AML samples with or without venetoclax. Gilteritinib exhibited the highest synergy with venetoclax in FLT3 wild-type AML. The combination of gilteritinib and venetoclax increased apoptosis, reduced viability, and was active in venetoclax-azacitidine-resistant cell lines and primary patient samples. Proteomics revealed increased FLT3 wild-type signaling in specimens with low in vitro response to the currently used venetoclax-azacitidine combination. Mechanistically, venetoclax with gilteritinib decreased phosphorylation of ERK and GSK3B via combined AXL and FLT3 inhibition with subsequent suppression of the antiapoptotic protein MCL-1. MCL-1 downregulation was associated with increased MCL-1 phosphorylation of serine 159, decreased phosphorylation of threonine 161, and proteasomal degradation. Gilteritinib and venetoclax were active in an FLT3 wild-type AML patient-derived xenograft model with TP53 mutation and reduced leukemic burden in 4 patients with FLT3 wild-type AML receiving venetoclax-gilteritinib off label after developing refractory disease under venetoclax-azacitidine. In summary, our results suggest that combined inhibition of FLT3/AXL potentiates venetoclax response in FLT3 wild-type AML by inducing MCL-1 degradation. Therefore, the venetoclax-gilteritinib combination merits testing as a potentially active regimen in patients with high-risk FLT3 wild-type AML.\n",
      "Abstract 8: Venetoclax, a Bcl-2 inhibitor, in combination with the hypomethylating agent azacytidine, achieves complete remission with or without count recovery in ∼70% of treatment-naive elderly patients unfit for conventional intensive chemotherapy. However, the mechanism of action of this drug combination is not fully understood. We discovered that venetoclax directly activated T cells to increase their cytotoxicity against acute myeloid leukemia (AML) in vitro and in vivo. Venetoclax enhanced T-cell effector function by increasing reactive oxygen species generation through inhibition of respiratory chain supercomplexes formation. In addition, azacytidine induced a viral mimicry response in AML cells by activating the STING/cGAS pathway, thereby rendering the AML cells more susceptible to T cell-mediated cytotoxicity. Similar findings were seen in patients treated with venetoclax, as this treatment increased reactive oxygen species generation and activated T cells. Collectively, this study presents a new immune-mediated mechanism of action for venetoclax and azacytidine in the treatment of AML and highlights a potential combination of venetoclax and adoptive cell therapy for patients with AML.\n",
      "Abstract 9: Venetoclax plus obinutuzumab has been established as a fixed-duration treatment regimen for patients with chronic lymphocytic leukaemia. We compared the long-term efficacy after treatment cessation of the combination of venetoclax plus obinutuzumab with chlorambucil plus obinutuzumab in patients with previously untreated chronic lymphocytic leukaemia.\n",
      "Abstract 10: To evaluate efficacy and safety of venetoclax + azacitidine among treatment-naïve patients with IDH1/2-mutant (mut) acute myeloid leukemia (AML).\n",
      "**[End of PubMed Abstracts]**<|im_end|>\n",
      "<|im_start|>assistant\n"
     ]
    }
   ],
   "source": [
    "refine_prompt = generate_prompt(refine_prompt_path,**{'previous_output':drug_description,'formatted_abstracts':\"\\n\".join([f\"Abstract {i+1}: {abstract}\" for i, abstract in enumerate(abstracts)])})\n",
    "print(refine_prompt)"
   ]
  },
  {
   "cell_type": "code",
   "execution_count": 39,
   "metadata": {},
   "outputs": [
    {
     "name": "stderr",
     "output_type": "stream",
     "text": [
      "Processed prompts: 100%|██████████| 1/1 [00:39<00:00, 39.50s/it]\n"
     ]
    }
   ],
   "source": [
    "outputs = llm.generate(refine_prompt, sampling_params)"
   ]
  },
  {
   "cell_type": "code",
   "execution_count": 40,
   "metadata": {},
   "outputs": [
    {
     "name": "stdout",
     "output_type": "stream",
     "text": [
      "\n",
      "**Mechanism of Action Description**:\n",
      "\n",
      "Venetoclax is a potent and selective inhibitor of the BCL2 protein, a key regulator of apoptosis (programmed cell death). By binding to the BCL2 protein, Venetoclax disrupts the interaction between BCL2 and pro-apoptotic proteins, such as BAX and BAK, thereby promoting apoptosis in cancer cells that overexpress BCL2. This mechanism of action is particularly relevant in the treatment of chronic lymphocytic leukemia (CLL) and acute myeloid leukemia (AML), where BCL2 overexpression is a common feature and contributes to resistance to chemotherapy-induced apoptosis. Venetoclax has been shown to enhance T-cell effector function by increasing reactive oxygen species generation through inhibition of respiratory chain supercomplexes formation. In AML, azacytidine induces a viral mimicry response in AML cells by activating the STING/cGAS pathway, thereby rendering the AML cells more susceptible to T cell-mediated cytotoxicity.\n",
      "\n",
      "**Metabolism Description**:\n",
      "\n",
      "Venetoclax is primarily metabolized by cytochrome P450 (CYP) 3A4, with a minor contribution from CYP3A5. The major metabolic pathways involve oxidative N-dealkylation, hydroxylation, and glucuronidation. The primary metabolite, M3, retains approximately 20% of the parent compound's activity and is further metabolized by CYP3A4 and UGT1A1. Venetoclax and its metabolites are primarily excreted in the feces (75%), with a smaller fraction (25%) excreted in the urine. Due to its extensive metabolism by CYP3A4, co-administration of Venetoclax with strong CYP3A4 inhibitors or inducers may significantly alter its pharmacokinetics and should be avoided or closely monitored.\n",
      "\n",
      "**Additional Relevant Information**:\n",
      "\n",
      "Recent clinical trials have demonstrated the clinical benefit of venetoclax-based therapies in newly diagnosed AML, leading to the recent FDA approval of venetoclax in combination with hypomethylating agents or low-dose cytarabine for older adults with newly diagnosed AML. High response rates and durable remissions are typically associated with NPM1 or IDH2 mutations, with prolonged molecular remissions prevalent for NPM1 mutations. Primary and adaptive resistance to venetoclax-based combinations is most commonly characterized by acquisition or enrichment of clones activating signaling pathways such as FLT3 or RAS or biallelically perturbing TP53. Single-cell studies have highlighted the polyclonal nature of intratumoral resistance mechanisms in some cases. Among cases that are primary refractory, heterogeneous and sometimes divergent interval changes in leukemic clones within a single cycle of therapy have been observed, highlighting the dynamic and rapid occurrence of therapeutic selection in AML. In functional studies, FLT3 internal tandem duplication gain or TP53 loss has been shown to confer cross-resistance to both venetoclax and cytotoxic-based therapies.\n"
     ]
    }
   ],
   "source": [
    "refined_drug_description = outputs[0].outputs[0].text\n",
    "print(refined_drug_description)"
   ]
  },
  {
   "cell_type": "code",
   "execution_count": 41,
   "metadata": {},
   "outputs": [],
   "source": [
    "#dump refined_drug_description to a file\n",
    "with open('drug_description_refined.txt','w') as f:\n",
    "    f.write(refined_drug_description)"
   ]
  },
  {
   "cell_type": "markdown",
   "metadata": {},
   "source": [
    "# 4. Pathway selection"
   ]
  },
  {
   "cell_type": "markdown",
   "metadata": {},
   "source": [
    "In this part of the notebook we serve the LLM model with a different library: [Guidance](https://github.com/guidance-ai/guidance). This will let us do constrained inference. \n",
    "\n",
    "*It is suggested to restart the notebook before running this new part. We are currently working to obtain a new version of the notebook to avoid switching libraries using [SGLang](https://github.com/sgl-project/sglang).*"
   ]
  },
  {
   "cell_type": "code",
   "execution_count": 1,
   "metadata": {},
   "outputs": [],
   "source": [
    "import gc\n",
    "import torch\n",
    "import guidance\n",
    "import pandas as pd\n",
    "from guidance import select,gen,models\n",
    "from pathlib import Path\n",
    "\n",
    "from CellHit.data import get_reactome_layers,get_pathway_genes\n",
    "from CellHit.LLMs import generate_prompt,dictionary_maker,self_consistency"
   ]
  },
  {
   "cell_type": "code",
   "execution_count": 2,
   "metadata": {},
   "outputs": [],
   "source": [
    "#specify the data_path\n",
    "select_prompt_path = data_path/'prompts'/'mixtral_pathway_selector.txt'\n",
    "model_path = Path('~/mixtral/').expanduser()"
   ]
  },
  {
   "cell_type": "markdown",
   "metadata": {},
   "source": [
    "Using the `get_reactome_layers` from our codebase we can automatically obtain the Reactome pathways at a given level \"of depth\". For more info about this we refer to the method section of our manuscript"
   ]
  },
  {
   "cell_type": "code",
   "execution_count": 3,
   "metadata": {},
   "outputs": [],
   "source": [
    "reactome_pathways = get_reactome_layers(data_path/'reactome',layer_number=1)['PathwayName'].tolist()"
   ]
  },
  {
   "cell_type": "code",
   "execution_count": 4,
   "metadata": {},
   "outputs": [
    {
     "data": {
      "text/plain": [
       "['ABC-family proteins mediated transport',\n",
       " 'Abacavir ADME',\n",
       " 'Activation of HOX genes during differentiation',\n",
       " 'Adaptive Immune System',\n",
       " 'Amyloid fiber formation',\n",
       " 'Apoptosis',\n",
       " 'Aquaporin-mediated transport',\n",
       " 'Aspirin ADME',\n",
       " 'Atorvastatin ADME',\n",
       " 'Azathioprine ADME']"
      ]
     },
     "execution_count": 4,
     "metadata": {},
     "output_type": "execute_result"
    }
   ],
   "source": [
    "reactome_pathways[:10]"
   ]
  },
  {
   "cell_type": "markdown",
   "metadata": {},
   "source": [
    "We read the drug description obtained in the previous steps (since we will use it now to associate to the drugs the Reactome pathways)"
   ]
  },
  {
   "cell_type": "code",
   "execution_count": 5,
   "metadata": {},
   "outputs": [],
   "source": [
    "#read the refined drug description\n",
    "with open('drug_description_refined.txt','r') as f:\n",
    "    drug_description = f.read()"
   ]
  },
  {
   "cell_type": "markdown",
   "metadata": {},
   "source": [
    "We then define the constrained generation logic that we will use in order to associate the pathways to the drug"
   ]
  },
  {
   "cell_type": "code",
   "execution_count": 6,
   "metadata": {},
   "outputs": [],
   "source": [
    "@guidance\n",
    "def inference(lm,prompt, pathway_number, pathways_list,temperature=0.7):\n",
    "\n",
    "    break_line = \"\\n\"\n",
    "\n",
    "    lm += prompt\n",
    "\n",
    "    choosen_pathways = []\n",
    "    #controlled generation\n",
    "    for i in range(pathway_number):\n",
    "        feasible_pathways = [i for i in pathways_list if i not in set(choosen_pathways)]\n",
    "        lm += f\"\\nRationale {i+1}:{gen(f'rationale_{i+1}',stop=break_line,temperature=temperature)}\"\n",
    "        lm += f\"\\nPathway {i+1}:{select(options=feasible_pathways,name=f'pathway_{i+1}')}\\n\"\n",
    "        choosen_pathways.append(lm[f'pathway_{i+1}'])\n",
    "    return lm"
   ]
  },
  {
   "cell_type": "markdown",
   "metadata": {},
   "source": [
    "We then load the model"
   ]
  },
  {
   "cell_type": "code",
   "execution_count": 7,
   "metadata": {},
   "outputs": [],
   "source": [
    "gpu_id = 0\n",
    "lm = models.Transformers(str(model_path),**{\"device_map\":f\"cuda:{gpu_id}\",\"revision\":\"gptq-4bit-32g-actorder_True\"})"
   ]
  },
  {
   "cell_type": "code",
   "execution_count": 11,
   "metadata": {},
   "outputs": [],
   "source": [
    "pathway_number = 15\n",
    "self_k = 5\n",
    "temperature = 0.7"
   ]
  },
  {
   "cell_type": "code",
   "execution_count": 9,
   "metadata": {},
   "outputs": [
    {
     "name": "stdout",
     "output_type": "stream",
     "text": [
      "**[INST] [Start of Drug Description]**\n",
      "\n",
      "**Mechanism of Action Description**:\n",
      "\n",
      "Venetoclax is a potent and selective inhibitor of the BCL2 protein, a key regulator of apoptosis (programmed cell death). By binding to the BCL2 protein, Venetoclax disrupts the interaction between BCL2 and pro-apoptotic proteins, such as BAX and BAK, thereby promoting apoptosis in cancer cells that overexpress BCL2. This mechanism of action is particularly relevant in the treatment of chronic lymphocytic leukemia (CLL) and acute myeloid leukemia (AML), where BCL2 overexpression is a common feature and contributes to resistance to chemotherapy-induced apoptosis. Venetoclax has been shown to enhance T-cell effector function by increasing reactive oxygen species generation through inhibition of respiratory chain supercomplexes formation. In AML, azacytidine induces a viral mimicry response in AML cells by activating the STING/cGAS pathway, thereby rendering the AML cells more susceptible to T cell-mediated cytotoxicity.\n",
      "\n",
      "**Metabolism Description**:\n",
      "\n",
      "Venetoclax is primarily metabolized by cytochrome P450 (CYP) 3A4, with a minor contribution from CYP3A5. The major metabolic pathways involve oxidative N-dealkylation, hydroxylation, and glucuronidation. The primary metabolite, M3, retains approximately 20% of the parent compound's activity and is further metabolized by CYP3A4 and UGT1A1. Venetoclax and its metabolites are primarily excreted in the feces (75%), with a smaller fraction (25%) excreted in the urine. Due to its extensive metabolism by CYP3A4, co-administration of Venetoclax with strong CYP3A4 inhibitors or inducers may significantly alter its pharmacokinetics and should be avoided or closely monitored.\n",
      "\n",
      "**Additional Relevant Information**:\n",
      "\n",
      "Recent clinical trials have demonstrated the clinical benefit of venetoclax-based therapies in newly diagnosed AML, leading to the recent FDA approval of venetoclax in combination with hypomethylating agents or low-dose cytarabine for older adults with newly diagnosed AML. High response rates and durable remissions are typically associated with NPM1 or IDH2 mutations, with prolonged molecular remissions prevalent for NPM1 mutations. Primary and adaptive resistance to venetoclax-based combinations is most commonly characterized by acquisition or enrichment of clones activating signaling pathways such as FLT3 or RAS or biallelically perturbing TP53. Single-cell studies have highlighted the polyclonal nature of intratumoral resistance mechanisms in some cases. Among cases that are primary refractory, heterogeneous and sometimes divergent interval changes in leukemic clones within a single cycle of therapy have been observed, highlighting the dynamic and rapid occurrence of therapeutic selection in AML. In functional studies, FLT3 internal tandem duplication gain or TP53 loss has been shown to confer cross-resistance to both venetoclax and cytotoxic-based therapies.\n",
      "**[End of Drug Description]**\n",
      "\n",
      "**Task:** Utilizing the above drug description and considering a predefined list of pathways from the Reactome database (provided below), identify the top 15 pathways most likely to be involved in modulating, translating, synergizing, or antagonizing the efficacy and the metabolism of the drug.\n",
      "\n",
      "**[Start of Pathways List]**\n",
      "['ABC-family proteins mediated transport', 'Abacavir ADME', 'Activation of HOX genes during differentiation', 'Adaptive Immune System', 'Amyloid fiber formation', 'Apoptosis', 'Aquaporin-mediated transport', 'Aspirin ADME', 'Atorvastatin ADME', 'Azathioprine ADME', 'BMAL1:CLOCK,NPAS2 activates circadian gene expression', 'Base Excision Repair', 'Binding and Uptake of Ligands by Scavenger Receptors', 'Biological oxidations', 'Cardiac conduction', 'Cardiogenesis', 'Cell Cycle Checkpoints', 'Cell Cycle, Mitotic', 'Cell junction organization', 'Cell surface interactions at the vascular wall', 'Cellular responses to stress', 'Chaperone Mediated Autophagy', 'Chromatin modifying enzymes', 'Chromosome Maintenance', 'Cilium Assembly', 'Ciprofloxacin ADME', 'Class I peroxisomal membrane protein import', 'Collagen formation', 'Cytokine Signaling in Immune system', 'Cytosolic iron-sulfur cluster assembly', 'DNA Damage Bypass', 'DNA Damage Reversal', 'DNA Double-Strand Break Repair', 'DNA Replication Pre-Initiation', 'Deadenylation-dependent mRNA decay', 'Death Receptor Signaling', 'Degradation of the extracellular matrix', 'Digestion', 'Diseases of DNA repair', 'Diseases of Immune System', 'Diseases of cellular response to stress', 'Diseases of hemostasis', 'Diseases of metabolism', 'Diseases of mitotic cell cycle', 'Diseases of programmed cell death', 'Diseases of signal transduction by growth factor receptors and second messengers', 'Diseases of the neuronal system', 'Disorders of Developmental Biology', 'Disorders of transmembrane transporters', 'Dissolution of Fibrin Clot', 'ECM proteoglycans', 'Elastic fibre formation', 'Epigenetic regulation of gene expression', 'Factors involved in megakaryocyte development and platelet production', 'Fanconi Anemia Pathway', 'Fertilization', 'Fibronectin matrix formation', 'Formation of Fibrin Clot (Clotting Cascade)', 'Gastrulation', 'Gene Silencing by RNA', 'Infectious disease', 'Innate Immune System', 'Inositol phosphate metabolism', 'Insertion of tail-anchored proteins into the endoplasmic reticulum membrane', 'Insulin-like Growth Factor-2 mRNA Binding Proteins (IGF2BPs/IMPs/VICKZs) bind RNA', 'Integration of energy metabolism', 'Integrin cell surface interactions', 'Integrin signaling', 'Intestinal absorption', 'Intracellular oxygen transport', 'Intracellular signaling by second messengers', 'Invadopodia formation', 'Ion channel transport', 'Iron uptake and transport', 'Keratinization', 'LGI-ADAM interactions', 'Laminin interactions', 'Late endosomal microautophagy', 'MAPK family signaling cascades', 'MTOR signalling', 'Macroautophagy', 'Maternal to zygotic transition (MZT)', 'Meiosis', 'Membrane Trafficking', 'Metabolism of amino acids and derivatives', 'Metabolism of carbohydrates', 'Metabolism of lipids', 'Metabolism of nitric oxide: NOS3 activation and regulation', 'Metabolism of non-coding RNA', 'Metabolism of nucleotides', 'Metabolism of porphyrins', 'Metabolism of vitamins and cofactors', 'Miscellaneous transport and binding events', 'Mismatch Repair', 'Mitochondrial RNA degradation', 'Mitochondrial biogenesis', 'Mitochondrial calcium ion transport', 'Mitochondrial iron-sulfur cluster biogenesis', 'Mitochondrial protein import', 'Myogenesis', 'NR1D1 (REV-ERBA) represses gene expression', 'Nephrin family interactions', 'Nervous system development', 'Non-integrin membrane-ECM interactions', 'Nonsense-Mediated Decay (NMD)', 'Nucleotide Excision Repair', 'O2/CO2 exchange in erythrocytes', 'Olfactory Signaling Pathway', 'Paracetamol ADME', 'Peptide hormone metabolism', 'Peroxisomal protein import', 'Plasma lipoprotein assembly, remodeling, and clearance', 'Platelet Adhesion to exposed collagen', 'Platelet activation, signaling and aggregation', 'Platelet homeostasis', 'Post-translational protein modification', 'Potassium Channels', 'Prednisone ADME', 'Processing of Capped Intron-Containing Pre-mRNA', 'Processing of Capped Intronless Pre-mRNA', 'Protein folding', 'Protein repair', 'Protein-protein interactions at synapses', 'Pyrophosphate hydrolysis', 'RNA Polymerase I Transcription', 'RNA Polymerase II Transcription', 'RNA Polymerase III Transcription', 'RORA activates gene expression', 'Regulated Necrosis', 'Regulation of Insulin-like Growth Factor (IGF) transport and uptake by Insulin-like Growth Factor Binding Proteins (IGFBPs)', 'Regulation of beta-cell development', 'Regulation of mRNA stability by proteins that bind AU-rich elements', 'Response to metal ions', 'Reversible hydration of carbon dioxide', 'Ribavirin ADME', 'SLC-mediated transmembrane transport', 'Sensory perception of taste', 'Sensory processing of sound', 'Signal regulatory protein family interactions', 'Signaling by Erythropoietin', 'Signaling by GPCR', 'Signaling by Hedgehog', 'Signaling by Hippo', 'Signaling by Leptin', 'Signaling by NODAL', 'Signaling by NOTCH', 'Signaling by Non-Receptor Tyrosine Kinases', 'Signaling by Nuclear Receptors', 'Signaling by Receptor Tyrosine Kinases', 'Signaling by Rho GTPases, Miro GTPases and RHOBTB3', 'Signaling by TGFB family members', 'Signaling by WNT', 'Smooth Muscle Contraction', 'Specification of primordial germ cells', 'Striated Muscle Contraction', 'Surfactant metabolism', 'Synthesis of DNA', 'The citric acid (TCA) cycle and respiratory electron transport', 'Transcription from mitochondrial promoters', 'Transcriptional regulation of granulopoiesis', 'Transcriptional regulation of pluripotent stem cells', 'Transcriptional regulation of testis differentiation', 'Transcriptional regulation of white adipocyte differentiation', 'Translation', 'Transmission across Chemical Synapses', 'Transmission across Electrical Synapses ', 'Visual phototransduction', 'mRNA Capping', 'mRNA Editing', 'rRNA processing', 'tRNA processing']\n",
      "**[End of Pathways List]**\n",
      "\n",
      "**Instructions:**\n",
      "1. **Selection of Pathways:** From the provided list, select 15 pathways that you hypothesize are most relevant to the drug's action based on its known properties and biological interactions.\n",
      "2. **Rationale for Each Pathway:** For each selected pathway, provide a detailed biological rationale explaining your choice. This should include:\n",
      "  - The potential role of the pathway in drug action or interaction.\n",
      "  - How the pathway might modulate, translate, synergize, or antagonize the drug's efficacy.\n",
      "  - Relevant genes within the pathway that are particularly critical for the drug-pathway interaction.\n",
      "3. Don't repeat the same pathway more than once.\n",
      "\n",
      "**Output Format:** Your response should clearly list the selected pathways and genes. Since you're an autoregressive model you should first explain the biological rationale for each choice and the state the choice, structured as follows:\n",
      "\n",
      "Rationale 1: [Your Rationale]\n",
      "Pathway 1: [Pathway Name]\n",
      "\n",
      "Rationale 2: [Your Rationale]\n",
      "Pathway 2: [Pathway Name]\n",
      "\n",
      "[...repeat for each selected pathway...] [/INST]\n",
      "\n",
      "**Answer:**\n"
     ]
    }
   ],
   "source": [
    "prompt = generate_prompt(data_path/'prompts'/'mixtral_pathway_selector.txt',**{'drug_description':drug_description,'pathways_list':reactome_pathways,'pathway_number':pathway_number})\n",
    "print(prompt)"
   ]
  },
  {
   "cell_type": "markdown",
   "metadata": {},
   "source": [
    "We than deploy the self consistency procedure and repeat the selection procedure for `self_k` iterations. At the end of each iteration, results from the LLM are collected as a dictionary {'selected_pathway':'rationale'}"
   ]
  },
  {
   "cell_type": "code",
   "execution_count": 12,
   "metadata": {},
   "outputs": [
    {
     "data": {
      "text/html": [
       "<pre style='margin: 0px; padding: 0px; vertical-align: middle; padding-left: 8px; margin-left: -8px; border-radius: 0px; border-left: 1px solid rgba(127, 127, 127, 0.2); white-space: pre-wrap; font-family: ColfaxAI, Arial; font-size: 15px; line-height: 23px;'>**[INST] [Start of Drug Description]**\n",
       "\n",
       "**Mechanism of Action Description**:\n",
       "\n",
       "Venetoclax is a potent and selective inhibitor of the BCL2 protein, a key regulator of apoptosis (programmed cell death). By binding to the BCL2 protein, Venetoclax disrupts the interaction between BCL2 and pro-apoptotic proteins, such as BAX and BAK, thereby promoting apoptosis in cancer cells that overexpress BCL2. This mechanism of action is particularly relevant in the treatment of chronic lymphocytic leukemia (CLL) and acute myeloid leukemia (AML), where BCL2 overexpression is a common feature and contributes to resistance to chemotherapy-induced apoptosis. Venetoclax has been shown to enhance T-cell effector function by increasing reactive oxygen species generation through inhibition of respiratory chain supercomplexes formation. In AML, azacytidine induces a viral mimicry response in AML cells by activating the STING/cGAS pathway, thereby rendering the AML cells more susceptible to T cell-mediated cytotoxicity.\n",
       "\n",
       "**Metabolism Description**:\n",
       "\n",
       "Venetoclax is primarily metabolized by cytochrome P450 (CYP) 3A4, with a minor contribution from CYP3A5. The major metabolic pathways involve oxidative N-dealkylation, hydroxylation, and glucuronidation. The primary metabolite, M3, retains approximately 20% of the parent compound&#x27;s activity and is further metabolized by CYP3A4 and UGT1A1. Venetoclax and its metabolites are primarily excreted in the feces (75%), with a smaller fraction (25%) excreted in the urine. Due to its extensive metabolism by CYP3A4, co-administration of Venetoclax with strong CYP3A4 inhibitors or inducers may significantly alter its pharmacokinetics and should be avoided or closely monitored.\n",
       "\n",
       "**Additional Relevant Information**:\n",
       "\n",
       "Recent clinical trials have demonstrated the clinical benefit of venetoclax-based therapies in newly diagnosed AML, leading to the recent FDA approval of venetoclax in combination with hypomethylating agents or low-dose cytarabine for older adults with newly diagnosed AML. High response rates and durable remissions are typically associated with NPM1 or IDH2 mutations, with prolonged molecular remissions prevalent for NPM1 mutations. Primary and adaptive resistance to venetoclax-based combinations is most commonly characterized by acquisition or enrichment of clones activating signaling pathways such as FLT3 or RAS or biallelically perturbing TP53. Single-cell studies have highlighted the polyclonal nature of intratumoral resistance mechanisms in some cases. Among cases that are primary refractory, heterogeneous and sometimes divergent interval changes in leukemic clones within a single cycle of therapy have been observed, highlighting the dynamic and rapid occurrence of therapeutic selection in AML. In functional studies, FLT3 internal tandem duplication gain or TP53 loss has been shown to confer cross-resistance to both venetoclax and cytotoxic-based therapies.\n",
       "**[End of Drug Description]**\n",
       "\n",
       "**Task:** Utilizing the above drug description and considering a predefined list of pathways from the Reactome database (provided below), identify the top 15 pathways most likely to be involved in modulating, translating, synergizing, or antagonizing the efficacy and the metabolism of the drug.\n",
       "\n",
       "**[Start of Pathways List]**\n",
       "[&#x27;ABC-family proteins mediated transport&#x27;, &#x27;Abacavir ADME&#x27;, &#x27;Activation of HOX genes during differentiation&#x27;, &#x27;Adaptive Immune System&#x27;, &#x27;Amyloid fiber formation&#x27;, &#x27;Apoptosis&#x27;, &#x27;Aquaporin-mediated transport&#x27;, &#x27;Aspirin ADME&#x27;, &#x27;Atorvastatin ADME&#x27;, &#x27;Azathioprine ADME&#x27;, &#x27;BMAL1:CLOCK,NPAS2 activates circadian gene expression&#x27;, &#x27;Base Excision Repair&#x27;, &#x27;Binding and Uptake of Ligands by Scavenger Receptors&#x27;, &#x27;Biological oxidations&#x27;, &#x27;Cardiac conduction&#x27;, &#x27;Cardiogenesis&#x27;, &#x27;Cell Cycle Checkpoints&#x27;, &#x27;Cell Cycle, Mitotic&#x27;, &#x27;Cell junction organization&#x27;, &#x27;Cell surface interactions at the vascular wall&#x27;, &#x27;Cellular responses to stress&#x27;, &#x27;Chaperone Mediated Autophagy&#x27;, &#x27;Chromatin modifying enzymes&#x27;, &#x27;Chromosome Maintenance&#x27;, &#x27;Cilium Assembly&#x27;, &#x27;Ciprofloxacin ADME&#x27;, &#x27;Class I peroxisomal membrane protein import&#x27;, &#x27;Collagen formation&#x27;, &#x27;Cytokine Signaling in Immune system&#x27;, &#x27;Cytosolic iron-sulfur cluster assembly&#x27;, &#x27;DNA Damage Bypass&#x27;, &#x27;DNA Damage Reversal&#x27;, &#x27;DNA Double-Strand Break Repair&#x27;, &#x27;DNA Replication Pre-Initiation&#x27;, &#x27;Deadenylation-dependent mRNA decay&#x27;, &#x27;Death Receptor Signaling&#x27;, &#x27;Degradation of the extracellular matrix&#x27;, &#x27;Digestion&#x27;, &#x27;Diseases of DNA repair&#x27;, &#x27;Diseases of Immune System&#x27;, &#x27;Diseases of cellular response to stress&#x27;, &#x27;Diseases of hemostasis&#x27;, &#x27;Diseases of metabolism&#x27;, &#x27;Diseases of mitotic cell cycle&#x27;, &#x27;Diseases of programmed cell death&#x27;, &#x27;Diseases of signal transduction by growth factor receptors and second messengers&#x27;, &#x27;Diseases of the neuronal system&#x27;, &#x27;Disorders of Developmental Biology&#x27;, &#x27;Disorders of transmembrane transporters&#x27;, &#x27;Dissolution of Fibrin Clot&#x27;, &#x27;ECM proteoglycans&#x27;, &#x27;Elastic fibre formation&#x27;, &#x27;Epigenetic regulation of gene expression&#x27;, &#x27;Factors involved in megakaryocyte development and platelet production&#x27;, &#x27;Fanconi Anemia Pathway&#x27;, &#x27;Fertilization&#x27;, &#x27;Fibronectin matrix formation&#x27;, &#x27;Formation of Fibrin Clot (Clotting Cascade)&#x27;, &#x27;Gastrulation&#x27;, &#x27;Gene Silencing by RNA&#x27;, &#x27;Infectious disease&#x27;, &#x27;Innate Immune System&#x27;, &#x27;Inositol phosphate metabolism&#x27;, &#x27;Insertion of tail-anchored proteins into the endoplasmic reticulum membrane&#x27;, &#x27;Insulin-like Growth Factor-2 mRNA Binding Proteins (IGF2BPs/IMPs/VICKZs) bind RNA&#x27;, &#x27;Integration of energy metabolism&#x27;, &#x27;Integrin cell surface interactions&#x27;, &#x27;Integrin signaling&#x27;, &#x27;Intestinal absorption&#x27;, &#x27;Intracellular oxygen transport&#x27;, &#x27;Intracellular signaling by second messengers&#x27;, &#x27;Invadopodia formation&#x27;, &#x27;Ion channel transport&#x27;, &#x27;Iron uptake and transport&#x27;, &#x27;Keratinization&#x27;, &#x27;LGI-ADAM interactions&#x27;, &#x27;Laminin interactions&#x27;, &#x27;Late endosomal microautophagy&#x27;, &#x27;MAPK family signaling cascades&#x27;, &#x27;MTOR signalling&#x27;, &#x27;Macroautophagy&#x27;, &#x27;Maternal to zygotic transition (MZT)&#x27;, &#x27;Meiosis&#x27;, &#x27;Membrane Trafficking&#x27;, &#x27;Metabolism of amino acids and derivatives&#x27;, &#x27;Metabolism of carbohydrates&#x27;, &#x27;Metabolism of lipids&#x27;, &#x27;Metabolism of nitric oxide: NOS3 activation and regulation&#x27;, &#x27;Metabolism of non-coding RNA&#x27;, &#x27;Metabolism of nucleotides&#x27;, &#x27;Metabolism of porphyrins&#x27;, &#x27;Metabolism of vitamins and cofactors&#x27;, &#x27;Miscellaneous transport and binding events&#x27;, &#x27;Mismatch Repair&#x27;, &#x27;Mitochondrial RNA degradation&#x27;, &#x27;Mitochondrial biogenesis&#x27;, &#x27;Mitochondrial calcium ion transport&#x27;, &#x27;Mitochondrial iron-sulfur cluster biogenesis&#x27;, &#x27;Mitochondrial protein import&#x27;, &#x27;Myogenesis&#x27;, &#x27;NR1D1 (REV-ERBA) represses gene expression&#x27;, &#x27;Nephrin family interactions&#x27;, &#x27;Nervous system development&#x27;, &#x27;Non-integrin membrane-ECM interactions&#x27;, &#x27;Nonsense-Mediated Decay (NMD)&#x27;, &#x27;Nucleotide Excision Repair&#x27;, &#x27;O2/CO2 exchange in erythrocytes&#x27;, &#x27;Olfactory Signaling Pathway&#x27;, &#x27;Paracetamol ADME&#x27;, &#x27;Peptide hormone metabolism&#x27;, &#x27;Peroxisomal protein import&#x27;, &#x27;Plasma lipoprotein assembly, remodeling, and clearance&#x27;, &#x27;Platelet Adhesion to exposed collagen&#x27;, &#x27;Platelet activation, signaling and aggregation&#x27;, &#x27;Platelet homeostasis&#x27;, &#x27;Post-translational protein modification&#x27;, &#x27;Potassium Channels&#x27;, &#x27;Prednisone ADME&#x27;, &#x27;Processing of Capped Intron-Containing Pre-mRNA&#x27;, &#x27;Processing of Capped Intronless Pre-mRNA&#x27;, &#x27;Protein folding&#x27;, &#x27;Protein repair&#x27;, &#x27;Protein-protein interactions at synapses&#x27;, &#x27;Pyrophosphate hydrolysis&#x27;, &#x27;RNA Polymerase I Transcription&#x27;, &#x27;RNA Polymerase II Transcription&#x27;, &#x27;RNA Polymerase III Transcription&#x27;, &#x27;RORA activates gene expression&#x27;, &#x27;Regulated Necrosis&#x27;, &#x27;Regulation of Insulin-like Growth Factor (IGF) transport and uptake by Insulin-like Growth Factor Binding Proteins (IGFBPs)&#x27;, &#x27;Regulation of beta-cell development&#x27;, &#x27;Regulation of mRNA stability by proteins that bind AU-rich elements&#x27;, &#x27;Response to metal ions&#x27;, &#x27;Reversible hydration of carbon dioxide&#x27;, &#x27;Ribavirin ADME&#x27;, &#x27;SLC-mediated transmembrane transport&#x27;, &#x27;Sensory perception of taste&#x27;, &#x27;Sensory processing of sound&#x27;, &#x27;Signal regulatory protein family interactions&#x27;, &#x27;Signaling by Erythropoietin&#x27;, &#x27;Signaling by GPCR&#x27;, &#x27;Signaling by Hedgehog&#x27;, &#x27;Signaling by Hippo&#x27;, &#x27;Signaling by Leptin&#x27;, &#x27;Signaling by NODAL&#x27;, &#x27;Signaling by NOTCH&#x27;, &#x27;Signaling by Non-Receptor Tyrosine Kinases&#x27;, &#x27;Signaling by Nuclear Receptors&#x27;, &#x27;Signaling by Receptor Tyrosine Kinases&#x27;, &#x27;Signaling by Rho GTPases, Miro GTPases and RHOBTB3&#x27;, &#x27;Signaling by TGFB family members&#x27;, &#x27;Signaling by WNT&#x27;, &#x27;Smooth Muscle Contraction&#x27;, &#x27;Specification of primordial germ cells&#x27;, &#x27;Striated Muscle Contraction&#x27;, &#x27;Surfactant metabolism&#x27;, &#x27;Synthesis of DNA&#x27;, &#x27;The citric acid (TCA) cycle and respiratory electron transport&#x27;, &#x27;Transcription from mitochondrial promoters&#x27;, &#x27;Transcriptional regulation of granulopoiesis&#x27;, &#x27;Transcriptional regulation of pluripotent stem cells&#x27;, &#x27;Transcriptional regulation of testis differentiation&#x27;, &#x27;Transcriptional regulation of white adipocyte differentiation&#x27;, &#x27;Translation&#x27;, &#x27;Transmission across Chemical Synapses&#x27;, &#x27;Transmission across Electrical Synapses &#x27;, &#x27;Visual phototransduction&#x27;, &#x27;mRNA Capping&#x27;, &#x27;mRNA Editing&#x27;, &#x27;rRNA processing&#x27;, &#x27;tRNA processing&#x27;]\n",
       "**[End of Pathways List]**\n",
       "\n",
       "**Instructions:**\n",
       "1. **Selection of Pathways:** From the provided list, select 15 pathways that you hypothesize are most relevant to the drug&#x27;s action based on its known properties and biological interactions.\n",
       "2. **Rationale for Each Pathway:** For each selected pathway, provide a detailed biological rationale explaining your choice. This should include:\n",
       "  - The potential role of the pathway in drug action or interaction.\n",
       "  - How the pathway might modulate, translate, synergize, or antagonize the drug&#x27;s efficacy.\n",
       "  - Relevant genes within the pathway that are particularly critical for the drug-pathway interaction.\n",
       "3. Don&#x27;t repeat the same pathway more than once.\n",
       "\n",
       "**Output Format:** Your response should clearly list the selected pathways and genes. Since you&#x27;re an autoregressive model you should first explain the biological rationale for each choice and the state the choice, structured as follows:\n",
       "\n",
       "Rationale 1: [Your Rationale]\n",
       "Pathway 1: [Pathway Name]\n",
       "\n",
       "Rationale 2: [Your Rationale]\n",
       "Pathway 2: [Pathway Name]\n",
       "\n",
       "[...repeat for each selected pathway...] [/INST]\n",
       "\n",
       "**Answer:**\n",
       "Rationale 1<span style='background-color: rgba(0.0, 165.0, 0, 0.15); border-radius: 3px;' title='1.0'>:</span><span style='background-color: rgba(0.0, 165.0, 0, 0.15); border-radius: 3px;' title='1.0'> The</span><span style='background-color: rgba(0.0, 165.0, 0, 0.15); border-radius: 3px;' title='1.0'> ap</span><span style='background-color: rgba(0.0, 165.0, 0, 0.15); border-radius: 3px;' title='1.0'>opt</span><span style='background-color: rgba(0.0, 165.0, 0, 0.15); border-radius: 3px;' title='1.0'>osis</span><span style='background-color: rgba(0.0, 165.0, 0, 0.15); border-radius: 3px;' title='1.0'> path</span><span style='background-color: rgba(0.0, 165.0, 0, 0.15); border-radius: 3px;' title='1.0'>way</span><span style='background-color: rgba(0.0, 165.0, 0, 0.15); border-radius: 3px;' title='1.0'> is</span><span style='background-color: rgba(0.0, 165.0, 0, 0.15); border-radius: 3px;' title='1.0'> directly</span><span style='background-color: rgba(0.0, 165.0, 0, 0.15); border-radius: 3px;' title='1.0'> targeted</span><span style='background-color: rgba(0.0, 165.0, 0, 0.15); border-radius: 3px;' title='1.0'> by</span><span style='background-color: rgba(0.0, 165.0, 0, 0.15); border-radius: 3px;' title='1.0'> ven</span><span style='background-color: rgba(0.0, 165.0, 0, 0.15); border-radius: 3px;' title='1.0'>et</span><span style='background-color: rgba(0.0, 165.0, 0, 0.15); border-radius: 3px;' title='1.0'>oc</span><span style='background-color: rgba(0.0, 165.0, 0, 0.15); border-radius: 3px;' title='1.0'>l</span><span style='background-color: rgba(0.0, 165.0, 0, 0.15); border-radius: 3px;' title='1.0'>ax</span><span style='background-color: rgba(0.0, 165.0, 0, 0.15); border-radius: 3px;' title='1.0'>,</span><span style='background-color: rgba(0.0, 165.0, 0, 0.15); border-radius: 3px;' title='1.0'> as</span><span style='background-color: rgba(0.0, 165.0, 0, 0.15); border-radius: 3px;' title='1.0'> it</span><span style='background-color: rgba(0.0, 165.0, 0, 0.15); border-radius: 3px;' title='1.0'> inhib</span><span style='background-color: rgba(0.0, 165.0, 0, 0.15); border-radius: 3px;' title='1.0'>its</span><span style='background-color: rgba(0.0, 165.0, 0, 0.15); border-radius: 3px;' title='1.0'> the</span><span style='background-color: rgba(0.0, 165.0, 0, 0.15); border-radius: 3px;' title='1.0'> B</span><span style='background-color: rgba(0.0, 165.0, 0, 0.15); border-radius: 3px;' title='1.0'>CL</span><span style='background-color: rgba(0.0, 165.0, 0, 0.15); border-radius: 3px;' title='1.0'>2</span><span style='background-color: rgba(0.0, 165.0, 0, 0.15); border-radius: 3px;' title='1.0'> protein</span><span style='background-color: rgba(0.0, 165.0, 0, 0.15); border-radius: 3px;' title='1.0'> which</span><span style='background-color: rgba(0.0, 165.0, 0, 0.15); border-radius: 3px;' title='1.0'> plays</span><span style='background-color: rgba(0.0, 165.0, 0, 0.15); border-radius: 3px;' title='1.0'> a</span><span style='background-color: rgba(0.0, 165.0, 0, 0.15); border-radius: 3px;' title='1.0'> crucial</span><span style='background-color: rgba(0.0, 165.0, 0, 0.15); border-radius: 3px;' title='1.0'> role</span><span style='background-color: rgba(0.0, 165.0, 0, 0.15); border-radius: 3px;' title='1.0'> in</span><span style='background-color: rgba(0.0, 165.0, 0, 0.15); border-radius: 3px;' title='1.0'> this</span><span style='background-color: rgba(0.0, 165.0, 0, 0.15); border-radius: 3px;' title='1.0'> process</span><span style='background-color: rgba(0.0, 165.0, 0, 0.15); border-radius: 3px;' title='1.0'>.</span><span style='background-color: rgba(0.0, 165.0, 0, 0.15); border-radius: 3px;' title='1.0'> By</span><span style='background-color: rgba(0.0, 165.0, 0, 0.15); border-radius: 3px;' title='1.0'> disrupt</span><span style='background-color: rgba(0.0, 165.0, 0, 0.15); border-radius: 3px;' title='1.0'>ing</span><span style='background-color: rgba(0.0, 165.0, 0, 0.15); border-radius: 3px;' title='1.0'> the</span><span style='background-color: rgba(0.0, 165.0, 0, 0.15); border-radius: 3px;' title='1.0'> interaction</span><span style='background-color: rgba(0.0, 165.0, 0, 0.15); border-radius: 3px;' title='1.0'> between</span><span style='background-color: rgba(0.0, 165.0, 0, 0.15); border-radius: 3px;' title='1.0'> B</span><span style='background-color: rgba(0.0, 165.0, 0, 0.15); border-radius: 3px;' title='1.0'>CL</span><span style='background-color: rgba(0.0, 165.0, 0, 0.15); border-radius: 3px;' title='1.0'>2</span><span style='background-color: rgba(0.0, 165.0, 0, 0.15); border-radius: 3px;' title='1.0'> and</span><span style='background-color: rgba(0.0, 165.0, 0, 0.15); border-radius: 3px;' title='1.0'> pro</span><span style='background-color: rgba(0.0, 165.0, 0, 0.15); border-radius: 3px;' title='1.0'>-</span><span style='background-color: rgba(0.0, 165.0, 0, 0.15); border-radius: 3px;' title='1.0'>ap</span><span style='background-color: rgba(0.0, 165.0, 0, 0.15); border-radius: 3px;' title='1.0'>opt</span><span style='background-color: rgba(0.0, 165.0, 0, 0.15); border-radius: 3px;' title='1.0'>otic</span><span style='background-color: rgba(0.0, 165.0, 0, 0.15); border-radius: 3px;' title='1.0'> prote</span><span style='background-color: rgba(0.0, 165.0, 0, 0.15); border-radius: 3px;' title='1.0'>ins</span><span style='background-color: rgba(0.0, 165.0, 0, 0.15); border-radius: 3px;' title='1.0'>,</span><span style='background-color: rgba(0.0, 165.0, 0, 0.15); border-radius: 3px;' title='1.0'> ven</span><span style='background-color: rgba(0.0, 165.0, 0, 0.15); border-radius: 3px;' title='1.0'>et</span><span style='background-color: rgba(0.0, 165.0, 0, 0.15); border-radius: 3px;' title='1.0'>oc</span><span style='background-color: rgba(0.0, 165.0, 0, 0.15); border-radius: 3px;' title='1.0'>l</span><span style='background-color: rgba(0.0, 165.0, 0, 0.15); border-radius: 3px;' title='1.0'>ax</span><span style='background-color: rgba(0.0, 165.0, 0, 0.15); border-radius: 3px;' title='1.0'> prom</span><span style='background-color: rgba(0.0, 165.0, 0, 0.15); border-radius: 3px;' title='1.0'>otes</span><span style='background-color: rgba(0.0, 165.0, 0, 0.15); border-radius: 3px;' title='1.0'> ap</span><span style='background-color: rgba(0.0, 165.0, 0, 0.15); border-radius: 3px;' title='1.0'>opt</span><span style='background-color: rgba(0.0, 165.0, 0, 0.15); border-radius: 3px;' title='1.0'>osis</span><span style='background-color: rgba(0.0, 165.0, 0, 0.15); border-radius: 3px;' title='1.0'> in</span><span style='background-color: rgba(0.0, 165.0, 0, 0.15); border-radius: 3px;' title='1.0'> cancer</span><span style='background-color: rgba(0.0, 165.0, 0, 0.15); border-radius: 3px;' title='1.0'> cells</span><span style='background-color: rgba(0.0, 165.0, 0, 0.15); border-radius: 3px;' title='1.0'> over</span><span style='background-color: rgba(0.0, 165.0, 0, 0.15); border-radius: 3px;' title='1.0'>express</span><span style='background-color: rgba(0.0, 165.0, 0, 0.15); border-radius: 3px;' title='1.0'>ing</span><span style='background-color: rgba(0.0, 165.0, 0, 0.15); border-radius: 3px;' title='1.0'> B</span><span style='background-color: rgba(0.0, 165.0, 0, 0.15); border-radius: 3px;' title='1.0'>CL</span><span style='background-color: rgba(0.0, 165.0, 0, 0.15); border-radius: 3px;' title='1.0'>2</span><span style='background-color: rgba(0.0, 165.0, 0, 0.15); border-radius: 3px;' title='1.0'>.</span>\n",
       "Pathway 1<span style='background-color: rgba(0.0, 165.0, 0, 0.15); border-radius: 3px;' title='1.0'>:</span><span style='background-color: rgba(0.0, 165.0, 0, 0.15); border-radius: 3px;' title='1.0'>Ap</span>optosis\n",
       "\n",
       "Rationale 2<span style='background-color: rgba(0.0, 165.0, 0, 0.15); border-radius: 3px;' title='1.0'>:</span><span style='background-color: rgba(0.0, 165.0, 0, 0.15); border-radius: 3px;' title='1.0'> The</span><span style='background-color: rgba(0.0, 165.0, 0, 0.15); border-radius: 3px;' title='1.0'> &#x27;</span><span style='background-color: rgba(0.0, 165.0, 0, 0.15); border-radius: 3px;' title='1.0'>Cell</span><span style='background-color: rgba(0.0, 165.0, 0, 0.15); border-radius: 3px;' title='1.0'> Cy</span><span style='background-color: rgba(0.0, 165.0, 0, 0.15); border-radius: 3px;' title='1.0'>cle</span><span style='background-color: rgba(0.0, 165.0, 0, 0.15); border-radius: 3px;' title='1.0'>,</span><span style='background-color: rgba(0.0, 165.0, 0, 0.15); border-radius: 3px;' title='1.0'> Mit</span><span style='background-color: rgba(0.0, 165.0, 0, 0.15); border-radius: 3px;' title='1.0'>otic</span><span style='background-color: rgba(0.0, 165.0, 0, 0.15); border-radius: 3px;' title='1.0'>&#x27;</span><span style='background-color: rgba(0.0, 165.0, 0, 0.15); border-radius: 3px;' title='1.0'> path</span><span style='background-color: rgba(0.0, 165.0, 0, 0.15); border-radius: 3px;' title='1.0'>way</span><span style='background-color: rgba(0.0, 165.0, 0, 0.15); border-radius: 3px;' title='1.0'> is</span><span style='background-color: rgba(0.0, 165.0, 0, 0.15); border-radius: 3px;' title='1.0'> closely</span><span style='background-color: rgba(0.0, 165.0, 0, 0.15); border-radius: 3px;' title='1.0'> related</span><span style='background-color: rgba(0.0, 165.0, 0, 0.15); border-radius: 3px;' title='1.0'> to</span><span style='background-color: rgba(0.0, 165.0, 0, 0.15); border-radius: 3px;' title='1.0'> the</span><span style='background-color: rgba(0.0, 165.0, 0, 0.15); border-radius: 3px;' title='1.0'> action</span><span style='background-color: rgba(0.0, 165.0, 0, 0.15); border-radius: 3px;' title='1.0'> of</span><span style='background-color: rgba(0.0, 165.0, 0, 0.15); border-radius: 3px;' title='1.0'> ven</span><span style='background-color: rgba(0.0, 165.0, 0, 0.15); border-radius: 3px;' title='1.0'>et</span><span style='background-color: rgba(0.0, 165.0, 0, 0.15); border-radius: 3px;' title='1.0'>oc</span><span style='background-color: rgba(0.0, 165.0, 0, 0.15); border-radius: 3px;' title='1.0'>l</span><span style='background-color: rgba(0.0, 165.0, 0, 0.15); border-radius: 3px;' title='1.0'>ax</span><span style='background-color: rgba(0.0, 165.0, 0, 0.15); border-radius: 3px;' title='1.0'>,</span><span style='background-color: rgba(0.0, 165.0, 0, 0.15); border-radius: 3px;' title='1.0'> which</span><span style='background-color: rgba(0.0, 165.0, 0, 0.15); border-radius: 3px;' title='1.0'> disrupt</span><span style='background-color: rgba(0.0, 165.0, 0, 0.15); border-radius: 3px;' title='1.0'>s</span><span style='background-color: rgba(0.0, 165.0, 0, 0.15); border-radius: 3px;' title='1.0'> the</span><span style='background-color: rgba(0.0, 165.0, 0, 0.15); border-radius: 3px;' title='1.0'> interaction</span><span style='background-color: rgba(0.0, 165.0, 0, 0.15); border-radius: 3px;' title='1.0'> between</span><span style='background-color: rgba(0.0, 165.0, 0, 0.15); border-radius: 3px;' title='1.0'> B</span><span style='background-color: rgba(0.0, 165.0, 0, 0.15); border-radius: 3px;' title='1.0'>CL</span><span style='background-color: rgba(0.0, 165.0, 0, 0.15); border-radius: 3px;' title='1.0'>2</span><span style='background-color: rgba(0.0, 165.0, 0, 0.15); border-radius: 3px;' title='1.0'> and</span><span style='background-color: rgba(0.0, 165.0, 0, 0.15); border-radius: 3px;' title='1.0'> pro</span><span style='background-color: rgba(0.0, 165.0, 0, 0.15); border-radius: 3px;' title='1.0'>-</span><span style='background-color: rgba(0.0, 165.0, 0, 0.15); border-radius: 3px;' title='1.0'>ap</span><span style='background-color: rgba(0.0, 165.0, 0, 0.15); border-radius: 3px;' title='1.0'>opt</span><span style='background-color: rgba(0.0, 165.0, 0, 0.15); border-radius: 3px;' title='1.0'>otic</span><span style='background-color: rgba(0.0, 165.0, 0, 0.15); border-radius: 3px;' title='1.0'> prote</span><span style='background-color: rgba(0.0, 165.0, 0, 0.15); border-radius: 3px;' title='1.0'>ins</span><span style='background-color: rgba(0.0, 165.0, 0, 0.15); border-radius: 3px;' title='1.0'>,</span><span style='background-color: rgba(0.0, 165.0, 0, 0.15); border-radius: 3px;' title='1.0'> thereby</span><span style='background-color: rgba(0.0, 165.0, 0, 0.15); border-radius: 3px;' title='1.0'> promoting</span><span style='background-color: rgba(0.0, 165.0, 0, 0.15); border-radius: 3px;' title='1.0'> ap</span><span style='background-color: rgba(0.0, 165.0, 0, 0.15); border-radius: 3px;' title='1.0'>opt</span><span style='background-color: rgba(0.0, 165.0, 0, 0.15); border-radius: 3px;' title='1.0'>osis</span><span style='background-color: rgba(0.0, 165.0, 0, 0.15); border-radius: 3px;' title='1.0'> in</span><span style='background-color: rgba(0.0, 165.0, 0, 0.15); border-radius: 3px;' title='1.0'> cancer</span><span style='background-color: rgba(0.0, 165.0, 0, 0.15); border-radius: 3px;' title='1.0'> cells</span><span style='background-color: rgba(0.0, 165.0, 0, 0.15); border-radius: 3px;' title='1.0'> over</span><span style='background-color: rgba(0.0, 165.0, 0, 0.15); border-radius: 3px;' title='1.0'>express</span><span style='background-color: rgba(0.0, 165.0, 0, 0.15); border-radius: 3px;' title='1.0'>ing</span><span style='background-color: rgba(0.0, 165.0, 0, 0.15); border-radius: 3px;' title='1.0'> B</span><span style='background-color: rgba(0.0, 165.0, 0, 0.15); border-radius: 3px;' title='1.0'>CL</span><span style='background-color: rgba(0.0, 165.0, 0, 0.15); border-radius: 3px;' title='1.0'>2</span><span style='background-color: rgba(0.0, 165.0, 0, 0.15); border-radius: 3px;' title='1.0'>fall</span><span style='background-color: rgba(0.0, 165.0, 0, 0.15); border-radius: 3px;' title='1.0'>ing</span><span style='background-color: rgba(0.0, 165.0, 0, 0.15); border-radius: 3px;' title='1.0'> under</span><span style='background-color: rgba(0.0, 165.0, 0, 0.15); border-radius: 3px;' title='1.0'> this</span><span style='background-color: rgba(0.0, 165.0, 0, 0.15); border-radius: 3px;' title='1.0'> category</span><span style='background-color: rgba(0.0, 165.0, 0, 0.15); border-radius: 3px;' title='1.0'>.</span>\n",
       "Pathway 2<span style='background-color: rgba(0.0, 165.0, 0, 0.15); border-radius: 3px;' title='1.0'>:</span><span style='background-color: rgba(0.0, 165.0, 0, 0.15); border-radius: 3px;' title='1.0'>Cell</span><span style='background-color: rgba(0.0, 165.0, 0, 0.15); border-radius: 3px;' title='1.0'> Cy</span><span style='background-color: rgba(0.0, 165.0, 0, 0.15); border-radius: 3px;' title='1.0'>cle</span><span style='background-color: rgba(0.0, 165.0, 0, 0.15); border-radius: 3px;' title='1.0'>,</span> Mitotic\n",
       "\n",
       "Rationale 3<span style='background-color: rgba(0.0, 165.0, 0, 0.15); border-radius: 3px;' title='1.0'>:</span><span style='background-color: rgba(0.0, 165.0, 0, 0.15); border-radius: 3px;' title='1.0'> The</span><span style='background-color: rgba(0.0, 165.0, 0, 0.15); border-radius: 3px;' title='1.0'> &#x27;</span><span style='background-color: rgba(0.0, 165.0, 0, 0.15); border-radius: 3px;' title='1.0'>Cell</span><span style='background-color: rgba(0.0, 165.0, 0, 0.15); border-radius: 3px;' title='1.0'> Cy</span><span style='background-color: rgba(0.0, 165.0, 0, 0.15); border-radius: 3px;' title='1.0'>cle</span><span style='background-color: rgba(0.0, 165.0, 0, 0.15); border-radius: 3px;' title='1.0'> Check</span><span style='background-color: rgba(0.0, 165.0, 0, 0.15); border-radius: 3px;' title='1.0'>points</span><span style='background-color: rgba(0.0, 165.0, 0, 0.15); border-radius: 3px;' title='1.0'>&#x27;</span><span style='background-color: rgba(0.0, 165.0, 0, 0.15); border-radius: 3px;' title='1.0'> path</span><span style='background-color: rgba(0.0, 165.0, 0, 0.15); border-radius: 3px;' title='1.0'>way</span><span style='background-color: rgba(0.0, 165.0, 0, 0.15); border-radius: 3px;' title='1.0'> could</span><span style='background-color: rgba(0.0, 165.0, 0, 0.15); border-radius: 3px;' title='1.0'> be</span><span style='background-color: rgba(0.0, 165.0, 0, 0.15); border-radius: 3px;' title='1.0'> involved</span><span style='background-color: rgba(0.0, 165.0, 0, 0.15); border-radius: 3px;' title='1.0'> in</span><span style='background-color: rgba(0.0, 165.0, 0, 0.15); border-radius: 3px;' title='1.0'> mod</span><span style='background-color: rgba(0.0, 165.0, 0, 0.15); border-radius: 3px;' title='1.0'>ulating</span><span style='background-color: rgba(0.0, 165.0, 0, 0.15); border-radius: 3px;' title='1.0'> the</span><span style='background-color: rgba(0.0, 165.0, 0, 0.15); border-radius: 3px;' title='1.0'> eff</span><span style='background-color: rgba(0.0, 165.0, 0, 0.15); border-radius: 3px;' title='1.0'>ic</span><span style='background-color: rgba(0.0, 165.0, 0, 0.15); border-radius: 3px;' title='1.0'>acy</span><span style='background-color: rgba(0.0, 165.0, 0, 0.15); border-radius: 3px;' title='1.0'> of</span><span style='background-color: rgba(0.0, 165.0, 0, 0.15); border-radius: 3px;' title='1.0'> ven</span><span style='background-color: rgba(0.0, 165.0, 0, 0.15); border-radius: 3px;' title='1.0'>et</span><span style='background-color: rgba(0.0, 165.0, 0, 0.15); border-radius: 3px;' title='1.0'>oc</span><span style='background-color: rgba(0.0, 165.0, 0, 0.15); border-radius: 3px;' title='1.0'>l</span><span style='background-color: rgba(0.0, 165.0, 0, 0.15); border-radius: 3px;' title='1.0'>ax</span><span style='background-color: rgba(0.0, 165.0, 0, 0.15); border-radius: 3px;' title='1.0'>,</span><span style='background-color: rgba(0.0, 165.0, 0, 0.15); border-radius: 3px;' title='1.0'> as</span><span style='background-color: rgba(0.0, 165.0, 0, 0.15); border-radius: 3px;' title='1.0'> it</span><span style='background-color: rgba(0.0, 165.0, 0, 0.15); border-radius: 3px;' title='1.0'> plays</span><span style='background-color: rgba(0.0, 165.0, 0, 0.15); border-radius: 3px;' title='1.0'> a</span><span style='background-color: rgba(0.0, 165.0, 0, 0.15); border-radius: 3px;' title='1.0'> role</span><span style='background-color: rgba(0.0, 165.0, 0, 0.15); border-radius: 3px;' title='1.0'> in</span><span style='background-color: rgba(0.0, 165.0, 0, 0.15); border-radius: 3px;' title='1.0'> reg</span><span style='background-color: rgba(0.0, 165.0, 0, 0.15); border-radius: 3px;' title='1.0'>ulating</span><span style='background-color: rgba(0.0, 165.0, 0, 0.15); border-radius: 3px;' title='1.0'> the</span><span style='background-color: rgba(0.0, 165.0, 0, 0.15); border-radius: 3px;' title='1.0'> cell</span><span style='background-color: rgba(0.0, 165.0, 0, 0.15); border-radius: 3px;' title='1.0'> cycle</span><span style='background-color: rgba(0.0, 165.0, 0, 0.15); border-radius: 3px;' title='1.0'> and</span><span style='background-color: rgba(0.0, 165.0, 0, 0.15); border-radius: 3px;' title='1.0'> respon</span><span style='background-color: rgba(0.0, 165.0, 0, 0.15); border-radius: 3px;' title='1.0'>ds</span><span style='background-color: rgba(0.0, 165.0, 0, 0.15); border-radius: 3px;' title='1.0'> to</span><span style='background-color: rgba(0.0, 165.0, 0, 0.15); border-radius: 3px;' title='1.0'> DNA</span><span style='background-color: rgba(0.0, 165.0, 0, 0.15); border-radius: 3px;' title='1.0'> damage</span><span style='background-color: rgba(0.0, 165.0, 0, 0.15); border-radius: 3px;' title='1.0'>,</span><span style='background-color: rgba(0.0, 165.0, 0, 0.15); border-radius: 3px;' title='1.0'> which</span><span style='background-color: rgba(0.0, 165.0, 0, 0.15); border-radius: 3px;' title='1.0'> can</span><span style='background-color: rgba(0.0, 165.0, 0, 0.15); border-radius: 3px;' title='1.0'> be</span><span style='background-color: rgba(0.0, 165.0, 0, 0.15); border-radius: 3px;' title='1.0'> caused</span><span style='background-color: rgba(0.0, 165.0, 0, 0.15); border-radius: 3px;' title='1.0'> by</span><span style='background-color: rgba(0.0, 165.0, 0, 0.15); border-radius: 3px;' title='1.0'> ven</span><span style='background-color: rgba(0.0, 165.0, 0, 0.15); border-radius: 3px;' title='1.0'>et</span><span style='background-color: rgba(0.0, 165.0, 0, 0.15); border-radius: 3px;' title='1.0'>oc</span><span style='background-color: rgba(0.0, 165.0, 0, 0.15); border-radius: 3px;' title='1.0'>l</span><span style='background-color: rgba(0.0, 165.0, 0, 0.15); border-radius: 3px;' title='1.0'>ax</span><span style='background-color: rgba(0.0, 165.0, 0, 0.15); border-radius: 3px;' title='1.0'>-</span><span style='background-color: rgba(0.0, 165.0, 0, 0.15); border-radius: 3px;' title='1.0'>ind</span><span style='background-color: rgba(0.0, 165.0, 0, 0.15); border-radius: 3px;' title='1.0'>uced</span><span style='background-color: rgba(0.0, 165.0, 0, 0.15); border-radius: 3px;' title='1.0'> ap</span><span style='background-color: rgba(0.0, 165.0, 0, 0.15); border-radius: 3px;' title='1.0'>opt</span><span style='background-color: rgba(0.0, 165.0, 0, 0.15); border-radius: 3px;' title='1.0'>osis</span><span style='background-color: rgba(0.0, 165.0, 0, 0.15); border-radius: 3px;' title='1.0'>.</span>\n",
       "Pathway 3<span style='background-color: rgba(0.0, 165.0, 0, 0.15); border-radius: 3px;' title='1.0'>:</span><span style='background-color: rgba(0.0, 165.0, 0, 0.15); border-radius: 3px;' title='1.0'>Cell</span><span style='background-color: rgba(0.0, 165.0, 0, 0.15); border-radius: 3px;' title='1.0'> Cy</span>cle Checkpoints\n",
       "\n",
       "Rationale 4<span style='background-color: rgba(0.0, 165.0, 0, 0.15); border-radius: 3px;' title='1.0'>:</span><span style='background-color: rgba(0.0, 165.0, 0, 0.15); border-radius: 3px;' title='1.0'> The</span><span style='background-color: rgba(0.0, 165.0, 0, 0.15); border-radius: 3px;' title='1.0'> &#x27;</span><span style='background-color: rgba(0.0, 165.0, 0, 0.15); border-radius: 3px;' title='1.0'>MT</span><span style='background-color: rgba(0.0, 165.0, 0, 0.15); border-radius: 3px;' title='1.0'>OR</span><span style='background-color: rgba(0.0, 165.0, 0, 0.15); border-radius: 3px;' title='1.0'> sign</span><span style='background-color: rgba(0.0, 165.0, 0, 0.15); border-radius: 3px;' title='1.0'>alling</span><span style='background-color: rgba(0.0, 165.0, 0, 0.15); border-radius: 3px;' title='1.0'>&#x27;</span><span style='background-color: rgba(0.0, 165.0, 0, 0.15); border-radius: 3px;' title='1.0'> path</span><span style='background-color: rgba(0.0, 165.0, 0, 0.15); border-radius: 3px;' title='1.0'>way</span><span style='background-color: rgba(0.0, 165.0, 0, 0.15); border-radius: 3px;' title='1.0'> could</span><span style='background-color: rgba(0.0, 165.0, 0, 0.15); border-radius: 3px;' title='1.0'> be</span><span style='background-color: rgba(0.0, 165.0, 0, 0.15); border-radius: 3px;' title='1.0'> relevant</span><span style='background-color: rgba(0.0, 165.0, 0, 0.15); border-radius: 3px;' title='1.0'>,</span><span style='background-color: rgba(0.0, 165.0, 0, 0.15); border-radius: 3px;' title='1.0'> given</span><span style='background-color: rgba(0.0, 165.0, 0, 0.15); border-radius: 3px;' title='1.0'> its</span><span style='background-color: rgba(0.0, 165.0, 0, 0.15); border-radius: 3px;' title='1.0'> role</span><span style='background-color: rgba(0.0, 165.0, 0, 0.15); border-radius: 3px;' title='1.0'> in</span><span style='background-color: rgba(0.0, 165.0, 0, 0.15); border-radius: 3px;' title='1.0'> reg</span><span style='background-color: rgba(0.0, 165.0, 0, 0.15); border-radius: 3px;' title='1.0'>ulating</span><span style='background-color: rgba(0.0, 165.0, 0, 0.15); border-radius: 3px;' title='1.0'> cell</span><span style='background-color: rgba(0.0, 165.0, 0, 0.15); border-radius: 3px;' title='1.0'> growth</span><span style='background-color: rgba(0.0, 165.0, 0, 0.15); border-radius: 3px;' title='1.0'>,</span><span style='background-color: rgba(0.0, 165.0, 0, 0.15); border-radius: 3px;' title='1.0'> pro</span><span style='background-color: rgba(0.0, 165.0, 0, 0.15); border-radius: 3px;' title='1.0'>lifer</span><span style='background-color: rgba(0.0, 165.0, 0, 0.15); border-radius: 3px;' title='1.0'>ation</span><span style='background-color: rgba(0.0, 165.0, 0, 0.15); border-radius: 3px;' title='1.0'>,</span><span style='background-color: rgba(0.0, 165.0, 0, 0.15); border-radius: 3px;' title='1.0'> and</span><span style='background-color: rgba(0.0, 165.0, 0, 0.15); border-radius: 3px;' title='1.0'> met</span><span style='background-color: rgba(0.0, 165.0, 0, 0.15); border-radius: 3px;' title='1.0'>abol</span><span style='background-color: rgba(0.0, 165.0, 0, 0.15); border-radius: 3px;' title='1.0'>ism</span><span style='background-color: rgba(0.0, 165.0, 0, 0.15); border-radius: 3px;' title='1.0'>,</span><span style='background-color: rgba(0.0, 165.0, 0, 0.15); border-radius: 3px;' title='1.0'> which</span><span style='background-color: rgba(0.0, 165.0, 0, 0.15); border-radius: 3px;' title='1.0'> can</span><span style='background-color: rgba(0.0, 165.0, 0, 0.15); border-radius: 3px;' title='1.0'> be</span><span style='background-color: rgba(0.0, 165.0, 0, 0.15); border-radius: 3px;' title='1.0'> affected</span><span style='background-color: rgba(0.0, 165.0, 0, 0.15); border-radius: 3px;' title='1.0'> by</span><span style='background-color: rgba(0.0, 165.0, 0, 0.15); border-radius: 3px;' title='1.0'> ven</span><span style='background-color: rgba(0.0, 165.0, 0, 0.15); border-radius: 3px;' title='1.0'>et</span><span style='background-color: rgba(0.0, 165.0, 0, 0.15); border-radius: 3px;' title='1.0'>oc</span><span style='background-color: rgba(0.0, 165.0, 0, 0.15); border-radius: 3px;' title='1.0'>l</span><span style='background-color: rgba(0.0, 165.0, 0, 0.15); border-radius: 3px;' title='1.0'>ax</span><span style='background-color: rgba(0.0, 165.0, 0, 0.15); border-radius: 3px;' title='1.0'>-</span><span style='background-color: rgba(0.0, 165.0, 0, 0.15); border-radius: 3px;' title='1.0'>ind</span><span style='background-color: rgba(0.0, 165.0, 0, 0.15); border-radius: 3px;' title='1.0'>uced</span><span style='background-color: rgba(0.0, 165.0, 0, 0.15); border-radius: 3px;' title='1.0'> ap</span><span style='background-color: rgba(0.0, 165.0, 0, 0.15); border-radius: 3px;' title='1.0'>opt</span><span style='background-color: rgba(0.0, 165.0, 0, 0.15); border-radius: 3px;' title='1.0'>osis</span><span style='background-color: rgba(0.0, 165.0, 0, 0.15); border-radius: 3px;' title='1.0'> and</span><span style='background-color: rgba(0.0, 165.0, 0, 0.15); border-radius: 3px;' title='1.0'> changes</span><span style='background-color: rgba(0.0, 165.0, 0, 0.15); border-radius: 3px;' title='1.0'> in</span><span style='background-color: rgba(0.0, 165.0, 0, 0.15); border-radius: 3px;' title='1.0'> the</span><span style='background-color: rgba(0.0, 165.0, 0, 0.15); border-radius: 3px;' title='1.0'> intr</span><span style='background-color: rgba(0.0, 165.0, 0, 0.15); border-radius: 3px;' title='1.0'>ac</span><span style='background-color: rgba(0.0, 165.0, 0, 0.15); border-radius: 3px;' title='1.0'>ell</span><span style='background-color: rgba(0.0, 165.0, 0, 0.15); border-radius: 3px;' title='1.0'>ular</span><span style='background-color: rgba(0.0, 165.0, 0, 0.15); border-radius: 3px;' title='1.0'> environment</span><span style='background-color: rgba(0.0, 165.0, 0, 0.15); border-radius: 3px;' title='1.0'>.</span>\n",
       "Pathway 4<span style='background-color: rgba(0.0, 165.0, 0, 0.15); border-radius: 3px;' title='1.0'>:</span><span style='background-color: rgba(0.0, 165.0, 0, 0.15); border-radius: 3px;' title='1.0'>MT</span>OR signalling\n",
       "\n",
       "Rationale 5<span style='background-color: rgba(0.0, 165.0, 0, 0.15); border-radius: 3px;' title='1.0'>:</span><span style='background-color: rgba(0.0, 165.0, 0, 0.15); border-radius: 3px;' title='1.0'> The</span><span style='background-color: rgba(0.0, 165.0, 0, 0.15); border-radius: 3px;' title='1.0'> &#x27;</span><span style='background-color: rgba(0.0, 165.0, 0, 0.15); border-radius: 3px;' title='1.0'>MAP</span><span style='background-color: rgba(0.0, 165.0, 0, 0.15); border-radius: 3px;' title='1.0'>K</span><span style='background-color: rgba(0.0, 165.0, 0, 0.15); border-radius: 3px;' title='1.0'> family</span><span style='background-color: rgba(0.0, 165.0, 0, 0.15); border-radius: 3px;' title='1.0'> sign</span><span style='background-color: rgba(0.0, 165.0, 0, 0.15); border-radius: 3px;' title='1.0'>aling</span><span style='background-color: rgba(0.0, 165.0, 0, 0.15); border-radius: 3px;' title='1.0'> cas</span><span style='background-color: rgba(0.0, 165.0, 0, 0.15); border-radius: 3px;' title='1.0'>c</span><span style='background-color: rgba(0.0, 165.0, 0, 0.15); border-radius: 3px;' title='1.0'>ades</span><span style='background-color: rgba(0.0, 165.0, 0, 0.15); border-radius: 3px;' title='1.0'>&#x27;</span><span style='background-color: rgba(0.0, 165.0, 0, 0.15); border-radius: 3px;' title='1.0'> path</span><span style='background-color: rgba(0.0, 165.0, 0, 0.15); border-radius: 3px;' title='1.0'>way</span><span style='background-color: rgba(0.0, 165.0, 0, 0.15); border-radius: 3px;' title='1.0'> might</span><span style='background-color: rgba(0.0, 165.0, 0, 0.15); border-radius: 3px;' title='1.0'> be</span><span style='background-color: rgba(0.0, 165.0, 0, 0.15); border-radius: 3px;' title='1.0'> involved</span><span style='background-color: rgba(0.0, 165.0, 0, 0.15); border-radius: 3px;' title='1.0'> in</span><span style='background-color: rgba(0.0, 165.0, 0, 0.15); border-radius: 3px;' title='1.0'> mod</span><span style='background-color: rgba(0.0, 165.0, 0, 0.15); border-radius: 3px;' title='1.0'>ulating</span><span style='background-color: rgba(0.0, 165.0, 0, 0.15); border-radius: 3px;' title='1.0'> the</span><span style='background-color: rgba(0.0, 165.0, 0, 0.15); border-radius: 3px;' title='1.0'> eff</span><span style='background-color: rgba(0.0, 165.0, 0, 0.15); border-radius: 3px;' title='1.0'>ic</span><span style='background-color: rgba(0.0, 165.0, 0, 0.15); border-radius: 3px;' title='1.0'>acy</span><span style='background-color: rgba(0.0, 165.0, 0, 0.15); border-radius: 3px;' title='1.0'> of</span><span style='background-color: rgba(0.0, 165.0, 0, 0.15); border-radius: 3px;' title='1.0'> ven</span><span style='background-color: rgba(0.0, 165.0, 0, 0.15); border-radius: 3px;' title='1.0'>et</span><span style='background-color: rgba(0.0, 165.0, 0, 0.15); border-radius: 3px;' title='1.0'>oc</span><span style='background-color: rgba(0.0, 165.0, 0, 0.15); border-radius: 3px;' title='1.0'>l</span><span style='background-color: rgba(0.0, 165.0, 0, 0.15); border-radius: 3px;' title='1.0'>ax</span><span style='background-color: rgba(0.0, 165.0, 0, 0.15); border-radius: 3px;' title='1.0'>,</span><span style='background-color: rgba(0.0, 165.0, 0, 0.15); border-radius: 3px;' title='1.0'> as</span><span style='background-color: rgba(0.0, 165.0, 0, 0.15); border-radius: 3px;' title='1.0'> it</span><span style='background-color: rgba(0.0, 165.0, 0, 0.15); border-radius: 3px;' title='1.0'> plays</span><span style='background-color: rgba(0.0, 165.0, 0, 0.15); border-radius: 3px;' title='1.0'> a</span><span style='background-color: rgba(0.0, 165.0, 0, 0.15); border-radius: 3px;' title='1.0'> role</span><span style='background-color: rgba(0.0, 165.0, 0, 0.15); border-radius: 3px;' title='1.0'> in</span><span style='background-color: rgba(0.0, 165.0, 0, 0.15); border-radius: 3px;' title='1.0'> reg</span><span style='background-color: rgba(0.0, 165.0, 0, 0.15); border-radius: 3px;' title='1.0'>ulating</span><span style='background-color: rgba(0.0, 165.0, 0, 0.15); border-radius: 3px;' title='1.0'> various</span><span style='background-color: rgba(0.0, 165.0, 0, 0.15); border-radius: 3px;' title='1.0'> cell</span><span style='background-color: rgba(0.0, 165.0, 0, 0.15); border-radius: 3px;' title='1.0'>ular</span><span style='background-color: rgba(0.0, 165.0, 0, 0.15); border-radius: 3px;' title='1.0'> processes</span><span style='background-color: rgba(0.0, 165.0, 0, 0.15); border-radius: 3px;' title='1.0'>,</span><span style='background-color: rgba(0.0, 165.0, 0, 0.15); border-radius: 3px;' title='1.0'> including</span><span style='background-color: rgba(0.0, 165.0, 0, 0.15); border-radius: 3px;' title='1.0'> pro</span><span style='background-color: rgba(0.0, 165.0, 0, 0.15); border-radius: 3px;' title='1.0'>lifer</span><span style='background-color: rgba(0.0, 165.0, 0, 0.15); border-radius: 3px;' title='1.0'>ation</span><span style='background-color: rgba(0.0, 165.0, 0, 0.15); border-radius: 3px;' title='1.0'>,</span><span style='background-color: rgba(0.0, 165.0, 0, 0.15); border-radius: 3px;' title='1.0'> different</span><span style='background-color: rgba(0.0, 165.0, 0, 0.15); border-radius: 3px;' title='1.0'>iation</span><span style='background-color: rgba(0.0, 165.0, 0, 0.15); border-radius: 3px;' title='1.0'>,</span><span style='background-color: rgba(0.0, 165.0, 0, 0.15); border-radius: 3px;' title='1.0'> and</span><span style='background-color: rgba(0.0, 165.0, 0, 0.15); border-radius: 3px;' title='1.0'> ap</span><span style='background-color: rgba(0.0, 165.0, 0, 0.15); border-radius: 3px;' title='1.0'>opt</span><span style='background-color: rgba(0.0, 165.0, 0, 0.15); border-radius: 3px;' title='1.0'>osis</span><span style='background-color: rgba(0.0, 165.0, 0, 0.15); border-radius: 3px;' title='1.0'>,</span><span style='background-color: rgba(0.0, 165.0, 0, 0.15); border-radius: 3px;' title='1.0'> which</span><span style='background-color: rgba(0.0, 165.0, 0, 0.15); border-radius: 3px;' title='1.0'> can</span><span style='background-color: rgba(0.0, 165.0, 0, 0.15); border-radius: 3px;' title='1.0'> be</span><span style='background-color: rgba(0.0, 165.0, 0, 0.15); border-radius: 3px;' title='1.0'> affected</span><span style='background-color: rgba(0.0, 165.0, 0, 0.15); border-radius: 3px;' title='1.0'> by</span><span style='background-color: rgba(0.0, 165.0, 0, 0.15); border-radius: 3px;' title='1.0'> ven</span><span style='background-color: rgba(0.0, 165.0, 0, 0.15); border-radius: 3px;' title='1.0'>et</span><span style='background-color: rgba(0.0, 165.0, 0, 0.15); border-radius: 3px;' title='1.0'>oc</span><span style='background-color: rgba(0.0, 165.0, 0, 0.15); border-radius: 3px;' title='1.0'>l</span><span style='background-color: rgba(0.0, 165.0, 0, 0.15); border-radius: 3px;' title='1.0'>ax</span><span style='background-color: rgba(0.0, 165.0, 0, 0.15); border-radius: 3px;' title='1.0'>.</span>\n",
       "Pathway 5<span style='background-color: rgba(0.0, 165.0, 0, 0.15); border-radius: 3px;' title='1.0'>:</span><span style='background-color: rgba(0.0, 165.0, 0, 0.15); border-radius: 3px;' title='1.0'>MAP</span>K family signaling cascades\n",
       "\n",
       "Rationale 6<span style='background-color: rgba(0.0, 165.0, 0, 0.15); border-radius: 3px;' title='1.0'>:</span><span style='background-color: rgba(0.0, 165.0, 0, 0.15); border-radius: 3px;' title='1.0'> The</span><span style='background-color: rgba(0.0, 165.0, 0, 0.15); border-radius: 3px;' title='1.0'> &#x27;</span><span style='background-color: rgba(0.0, 165.0, 0, 0.15); border-radius: 3px;' title='1.0'>C</span><span style='background-color: rgba(0.0, 165.0, 0, 0.15); border-radius: 3px;' title='1.0'>yt</span><span style='background-color: rgba(0.0, 165.0, 0, 0.15); border-radius: 3px;' title='1.0'>ok</span><span style='background-color: rgba(0.0, 165.0, 0, 0.15); border-radius: 3px;' title='1.0'>ine</span><span style='background-color: rgba(0.0, 165.0, 0, 0.15); border-radius: 3px;' title='1.0'> Sign</span><span style='background-color: rgba(0.0, 165.0, 0, 0.15); border-radius: 3px;' title='1.0'>aling</span><span style='background-color: rgba(0.0, 165.0, 0, 0.15); border-radius: 3px;' title='1.0'> in</span><span style='background-color: rgba(0.0, 165.0, 0, 0.15); border-radius: 3px;' title='1.0'> Imm</span><span style='background-color: rgba(0.0, 165.0, 0, 0.15); border-radius: 3px;' title='1.0'>une</span><span style='background-color: rgba(0.0, 165.0, 0, 0.15); border-radius: 3px;' title='1.0'> system</span><span style='background-color: rgba(0.0, 165.0, 0, 0.15); border-radius: 3px;' title='1.0'>&#x27;</span><span style='background-color: rgba(0.0, 165.0, 0, 0.15); border-radius: 3px;' title='1.0'> path</span><span style='background-color: rgba(0.0, 165.0, 0, 0.15); border-radius: 3px;' title='1.0'>way</span><span style='background-color: rgba(0.0, 165.0, 0, 0.15); border-radius: 3px;' title='1.0'> could</span><span style='background-color: rgba(0.0, 165.0, 0, 0.15); border-radius: 3px;' title='1.0'> be</span><span style='background-color: rgba(0.0, 165.0, 0, 0.15); border-radius: 3px;' title='1.0'> relevant</span><span style='background-color: rgba(0.0, 165.0, 0, 0.15); border-radius: 3px;' title='1.0'>,</span><span style='background-color: rgba(0.0, 165.0, 0, 0.15); border-radius: 3px;' title='1.0'> as</span><span style='background-color: rgba(0.0, 165.0, 0, 0.15); border-radius: 3px;' title='1.0'> ven</span><span style='background-color: rgba(0.0, 165.0, 0, 0.15); border-radius: 3px;' title='1.0'>et</span><span style='background-color: rgba(0.0, 165.0, 0, 0.15); border-radius: 3px;' title='1.0'>oc</span><span style='background-color: rgba(0.0, 165.0, 0, 0.15); border-radius: 3px;' title='1.0'>l</span><span style='background-color: rgba(0.0, 165.0, 0, 0.15); border-radius: 3px;' title='1.0'>ax</span><span style='background-color: rgba(0.0, 165.0, 0, 0.15); border-radius: 3px;' title='1.0'> has</span><span style='background-color: rgba(0.0, 165.0, 0, 0.15); border-radius: 3px;' title='1.0'> been</span><span style='background-color: rgba(0.0, 165.0, 0, 0.15); border-radius: 3px;' title='1.0'> shown</span><span style='background-color: rgba(0.0, 165.0, 0, 0.15); border-radius: 3px;' title='1.0'> to</span><span style='background-color: rgba(0.0, 165.0, 0, 0.15); border-radius: 3px;' title='1.0'> enhance</span><span style='background-color: rgba(0.0, 165.0, 0, 0.15); border-radius: 3px;' title='1.0'> T</span><span style='background-color: rgba(0.0, 165.0, 0, 0.15); border-radius: 3px;' title='1.0'>-</span><span style='background-color: rgba(0.0, 165.0, 0, 0.15); border-radius: 3px;' title='1.0'>cell</span><span style='background-color: rgba(0.0, 165.0, 0, 0.15); border-radius: 3px;' title='1.0'> effect</span><span style='background-color: rgba(0.0, 165.0, 0, 0.15); border-radius: 3px;' title='1.0'>or</span><span style='background-color: rgba(0.0, 165.0, 0, 0.15); border-radius: 3px;' title='1.0'> function</span><span style='background-color: rgba(0.0, 165.0, 0, 0.15); border-radius: 3px;' title='1.0'> by</span><span style='background-color: rgba(0.0, 165.0, 0, 0.15); border-radius: 3px;' title='1.0'> increasing</span><span style='background-color: rgba(0.0, 165.0, 0, 0.15); border-radius: 3px;' title='1.0'> re</span><span style='background-color: rgba(0.0, 165.0, 0, 0.15); border-radius: 3px;' title='1.0'>active</span><span style='background-color: rgba(0.0, 165.0, 0, 0.15); border-radius: 3px;' title='1.0'> oxygen</span><span style='background-color: rgba(0.0, 165.0, 0, 0.15); border-radius: 3px;' title='1.0'> species</span><span style='background-color: rgba(0.0, 165.0, 0, 0.15); border-radius: 3px;' title='1.0'> generation</span><span style='background-color: rgba(0.0, 165.0, 0, 0.15); border-radius: 3px;' title='1.0'>.</span>\n",
       "Pathway 6<span style='background-color: rgba(0.0, 165.0, 0, 0.15); border-radius: 3px;' title='1.0'>:</span><span style='background-color: rgba(0.0, 165.0, 0, 0.15); border-radius: 3px;' title='1.0'>C</span><span style='background-color: rgba(0.0, 165.0, 0, 0.15); border-radius: 3px;' title='1.0'>yt</span><span style='background-color: rgba(0.0, 165.0, 0, 0.15); border-radius: 3px;' title='1.0'>ok</span>ine Signaling in Immune system\n",
       "\n",
       "Rationale 7<span style='background-color: rgba(0.0, 165.0, 0, 0.15); border-radius: 3px;' title='1.0'>:</span><span style='background-color: rgba(0.0, 165.0, 0, 0.15); border-radius: 3px;' title='1.0'> The</span><span style='background-color: rgba(0.0, 165.0, 0, 0.15); border-radius: 3px;' title='1.0'> &#x27;</span><span style='background-color: rgba(0.0, 165.0, 0, 0.15); border-radius: 3px;' title='1.0'>In</span><span style='background-color: rgba(0.0, 165.0, 0, 0.15); border-radius: 3px;' title='1.0'>nate</span><span style='background-color: rgba(0.0, 165.0, 0, 0.15); border-radius: 3px;' title='1.0'> Imm</span><span style='background-color: rgba(0.0, 165.0, 0, 0.15); border-radius: 3px;' title='1.0'>une</span><span style='background-color: rgba(0.0, 165.0, 0, 0.15); border-radius: 3px;' title='1.0'> System</span><span style='background-color: rgba(0.0, 165.0, 0, 0.15); border-radius: 3px;' title='1.0'>&#x27;</span><span style='background-color: rgba(0.0, 165.0, 0, 0.15); border-radius: 3px;' title='1.0'> path</span><span style='background-color: rgba(0.0, 165.0, 0, 0.15); border-radius: 3px;' title='1.0'>way</span><span style='background-color: rgba(0.0, 165.0, 0, 0.15); border-radius: 3px;' title='1.0'> might</span><span style='background-color: rgba(0.0, 165.0, 0, 0.15); border-radius: 3px;' title='1.0'> be</span><span style='background-color: rgba(0.0, 165.0, 0, 0.15); border-radius: 3px;' title='1.0'> involved</span><span style='background-color: rgba(0.0, 165.0, 0, 0.15); border-radius: 3px;' title='1.0'> in</span><span style='background-color: rgba(0.0, 165.0, 0, 0.15); border-radius: 3px;' title='1.0'> mod</span><span style='background-color: rgba(0.0, 165.0, 0, 0.15); border-radius: 3px;' title='1.0'>ulating</span><span style='background-color: rgba(0.0, 165.0, 0, 0.15); border-radius: 3px;' title='1.0'> the</span><span style='background-color: rgba(0.0, 165.0, 0, 0.15); border-radius: 3px;' title='1.0'> eff</span><span style='background-color: rgba(0.0, 165.0, 0, 0.15); border-radius: 3px;' title='1.0'>ic</span><span style='background-color: rgba(0.0, 165.0, 0, 0.15); border-radius: 3px;' title='1.0'>acy</span><span style='background-color: rgba(0.0, 165.0, 0, 0.15); border-radius: 3px;' title='1.0'> of</span><span style='background-color: rgba(0.0, 165.0, 0, 0.15); border-radius: 3px;' title='1.0'> ven</span><span style='background-color: rgba(0.0, 165.0, 0, 0.15); border-radius: 3px;' title='1.0'>et</span><span style='background-color: rgba(0.0, 165.0, 0, 0.15); border-radius: 3px;' title='1.0'>oc</span><span style='background-color: rgba(0.0, 165.0, 0, 0.15); border-radius: 3px;' title='1.0'>l</span><span style='background-color: rgba(0.0, 165.0, 0, 0.15); border-radius: 3px;' title='1.0'>ax</span><span style='background-color: rgba(0.0, 165.0, 0, 0.15); border-radius: 3px;' title='1.0'>,</span><span style='background-color: rgba(0.0, 165.0, 0, 0.15); border-radius: 3px;' title='1.0'> as</span><span style='background-color: rgba(0.0, 165.0, 0, 0.15); border-radius: 3px;' title='1.0'> it</span><span style='background-color: rgba(0.0, 165.0, 0, 0.15); border-radius: 3px;' title='1.0'> plays</span><span style='background-color: rgba(0.0, 165.0, 0, 0.15); border-radius: 3px;' title='1.0'> a</span><span style='background-color: rgba(0.0, 165.0, 0, 0.15); border-radius: 3px;' title='1.0'> role</span><span style='background-color: rgba(0.0, 165.0, 0, 0.15); border-radius: 3px;' title='1.0'> in</span><span style='background-color: rgba(0.0, 165.0, 0, 0.15); border-radius: 3px;' title='1.0'> the</span><span style='background-color: rgba(0.0, 165.0, 0, 0.15); border-radius: 3px;' title='1.0'> body</span><span style='background-color: rgba(0.0, 165.0, 0, 0.15); border-radius: 3px;' title='1.0'>&#x27;</span><span style='background-color: rgba(0.0, 165.0, 0, 0.15); border-radius: 3px;' title='1.0'>s</span><span style='background-color: rgba(0.0, 165.0, 0, 0.15); border-radius: 3px;' title='1.0'> defense</span><span style='background-color: rgba(0.0, 165.0, 0, 0.15); border-radius: 3px;' title='1.0'> against</span><span style='background-color: rgba(0.0, 165.0, 0, 0.15); border-radius: 3px;' title='1.0'> path</span><span style='background-color: rgba(0.0, 165.0, 0, 0.15); border-radius: 3px;' title='1.0'>og</span><span style='background-color: rgba(0.0, 165.0, 0, 0.15); border-radius: 3px;' title='1.0'>ens</span><span style='background-color: rgba(0.0, 165.0, 0, 0.15); border-radius: 3px;' title='1.0'> and</span><span style='background-color: rgba(0.0, 165.0, 0, 0.15); border-radius: 3px;' title='1.0'> can</span><span style='background-color: rgba(0.0, 165.0, 0, 0.15); border-radius: 3px;' title='1.0'> be</span><span style='background-color: rgba(0.0, 165.0, 0, 0.15); border-radius: 3px;' title='1.0'> activated</span><span style='background-color: rgba(0.0, 165.0, 0, 0.15); border-radius: 3px;' title='1.0'> by</span><span style='background-color: rgba(0.0, 165.0, 0, 0.15); border-radius: 3px;' title='1.0'> ven</span><span style='background-color: rgba(0.0, 165.0, 0, 0.15); border-radius: 3px;' title='1.0'>et</span><span style='background-color: rgba(0.0, 165.0, 0, 0.15); border-radius: 3px;' title='1.0'>oc</span><span style='background-color: rgba(0.0, 165.0, 0, 0.15); border-radius: 3px;' title='1.0'>l</span><span style='background-color: rgba(0.0, 165.0, 0, 0.15); border-radius: 3px;' title='1.0'>ax</span><span style='background-color: rgba(0.0, 165.0, 0, 0.15); border-radius: 3px;' title='1.0'>-</span><span style='background-color: rgba(0.0, 165.0, 0, 0.15); border-radius: 3px;' title='1.0'>ind</span><span style='background-color: rgba(0.0, 165.0, 0, 0.15); border-radius: 3px;' title='1.0'>uced</span><span style='background-color: rgba(0.0, 165.0, 0, 0.15); border-radius: 3px;' title='1.0'> ap</span><span style='background-color: rgba(0.0, 165.0, 0, 0.15); border-radius: 3px;' title='1.0'>opt</span><span style='background-color: rgba(0.0, 165.0, 0, 0.15); border-radius: 3px;' title='1.0'>osis</span><span style='background-color: rgba(0.0, 165.0, 0, 0.15); border-radius: 3px;' title='1.0'>.</span>\n",
       "Pathway 7<span style='background-color: rgba(0.0, 165.0, 0, 0.15); border-radius: 3px;' title='1.0'>:</span><span style='background-color: rgba(0.0, 165.0, 0, 0.15); border-radius: 3px;' title='1.0'>In</span><span style='background-color: rgba(0.0, 165.0, 0, 0.15); border-radius: 3px;' title='1.0'>nate</span> Immune System\n",
       "\n",
       "Rationale 8<span style='background-color: rgba(0.0, 165.0, 0, 0.15); border-radius: 3px;' title='1.0'>:</span><span style='background-color: rgba(0.0, 165.0, 0, 0.15); border-radius: 3px;' title='1.0'> The</span><span style='background-color: rgba(0.0, 165.0, 0, 0.15); border-radius: 3px;' title='1.0'> &#x27;</span><span style='background-color: rgba(0.0, 165.0, 0, 0.15); border-radius: 3px;' title='1.0'>Ad</span><span style='background-color: rgba(0.0, 165.0, 0, 0.15); border-radius: 3px;' title='1.0'>apt</span><span style='background-color: rgba(0.0, 165.0, 0, 0.15); border-radius: 3px;' title='1.0'>ive</span><span style='background-color: rgba(0.0, 165.0, 0, 0.15); border-radius: 3px;' title='1.0'> Imm</span><span style='background-color: rgba(0.0, 165.0, 0, 0.15); border-radius: 3px;' title='1.0'>une</span><span style='background-color: rgba(0.0, 165.0, 0, 0.15); border-radius: 3px;' title='1.0'> System</span><span style='background-color: rgba(0.0, 165.0, 0, 0.15); border-radius: 3px;' title='1.0'>&#x27;</span><span style='background-color: rgba(0.0, 165.0, 0, 0.15); border-radius: 3px;' title='1.0'> path</span><span style='background-color: rgba(0.0, 165.0, 0, 0.15); border-radius: 3px;' title='1.0'>way</span><span style='background-color: rgba(0.0, 165.0, 0, 0.15); border-radius: 3px;' title='1.0'> could</span><span style='background-color: rgba(0.0, 165.0, 0, 0.15); border-radius: 3px;' title='1.0'> be</span><span style='background-color: rgba(0.0, 165.0, 0, 0.15); border-radius: 3px;' title='1.0'> relevant</span><span style='background-color: rgba(0.0, 165.0, 0, 0.15); border-radius: 3px;' title='1.0'>,</span><span style='background-color: rgba(0.0, 165.0, 0, 0.15); border-radius: 3px;' title='1.0'> as</span><span style='background-color: rgba(0.0, 165.0, 0, 0.15); border-radius: 3px;' title='1.0'> ven</span><span style='background-color: rgba(0.0, 165.0, 0, 0.15); border-radius: 3px;' title='1.0'>et</span><span style='background-color: rgba(0.0, 165.0, 0, 0.15); border-radius: 3px;' title='1.0'>oc</span><span style='background-color: rgba(0.0, 165.0, 0, 0.15); border-radius: 3px;' title='1.0'>l</span><span style='background-color: rgba(0.0, 165.0, 0, 0.15); border-radius: 3px;' title='1.0'>ax</span><span style='background-color: rgba(0.0, 165.0, 0, 0.15); border-radius: 3px;' title='1.0'> has</span><span style='background-color: rgba(0.0, 165.0, 0, 0.15); border-radius: 3px;' title='1.0'> been</span><span style='background-color: rgba(0.0, 165.0, 0, 0.15); border-radius: 3px;' title='1.0'> shown</span><span style='background-color: rgba(0.0, 165.0, 0, 0.15); border-radius: 3px;' title='1.0'> to</span><span style='background-color: rgba(0.0, 165.0, 0, 0.15); border-radius: 3px;' title='1.0'> enhance</span><span style='background-color: rgba(0.0, 165.0, 0, 0.15); border-radius: 3px;' title='1.0'> T</span><span style='background-color: rgba(0.0, 165.0, 0, 0.15); border-radius: 3px;' title='1.0'>-</span><span style='background-color: rgba(0.0, 165.0, 0, 0.15); border-radius: 3px;' title='1.0'>cell</span><span style='background-color: rgba(0.0, 165.0, 0, 0.15); border-radius: 3px;' title='1.0'> effect</span><span style='background-color: rgba(0.0, 165.0, 0, 0.15); border-radius: 3px;' title='1.0'>or</span><span style='background-color: rgba(0.0, 165.0, 0, 0.15); border-radius: 3px;' title='1.0'> function</span><span style='background-color: rgba(0.0, 165.0, 0, 0.15); border-radius: 3px;' title='1.0'> and</span><span style='background-color: rgba(0.0, 165.0, 0, 0.15); border-radius: 3px;' title='1.0'> can</span><span style='background-color: rgba(0.0, 165.0, 0, 0.15); border-radius: 3px;' title='1.0'> potentially</span><span style='background-color: rgba(0.0, 165.0, 0, 0.15); border-radius: 3px;' title='1.0'> mod</span><span style='background-color: rgba(0.0, 165.0, 0, 0.15); border-radius: 3px;' title='1.0'>ulate</span><span style='background-color: rgba(0.0, 165.0, 0, 0.15); border-radius: 3px;' title='1.0'> the</span><span style='background-color: rgba(0.0, 165.0, 0, 0.15); border-radius: 3px;' title='1.0'> immune</span><span style='background-color: rgba(0.0, 165.0, 0, 0.15); border-radius: 3px;' title='1.0'> response</span><span style='background-color: rgba(0.0, 165.0, 0, 0.15); border-radius: 3px;' title='1.0'>.</span>\n",
       "Pathway 8<span style='background-color: rgba(0.0, 165.0, 0, 0.15); border-radius: 3px;' title='1.0'>:</span><span style='background-color: rgba(0.0, 165.0, 0, 0.15); border-radius: 3px;' title='1.0'>Ad</span>aptive Immune System\n",
       "\n",
       "Rationale 9<span style='background-color: rgba(0.0, 165.0, 0, 0.15); border-radius: 3px;' title='1.0'>:</span><span style='background-color: rgba(0.0, 165.0, 0, 0.15); border-radius: 3px;' title='1.0'> The</span><span style='background-color: rgba(0.0, 165.0, 0, 0.15); border-radius: 3px;' title='1.0'> &#x27;</span><span style='background-color: rgba(0.0, 165.0, 0, 0.15); border-radius: 3px;' title='1.0'>D</span><span style='background-color: rgba(0.0, 165.0, 0, 0.15); border-radius: 3px;' title='1.0'>NA</span><span style='background-color: rgba(0.0, 165.0, 0, 0.15); border-radius: 3px;' title='1.0'> Dam</span><span style='background-color: rgba(0.0, 165.0, 0, 0.15); border-radius: 3px;' title='1.0'>age</span><span style='background-color: rgba(0.0, 165.0, 0, 0.15); border-radius: 3px;' title='1.0'> Rep</span><span style='background-color: rgba(0.0, 165.0, 0, 0.15); border-radius: 3px;' title='1.0'>air</span><span style='background-color: rgba(0.0, 165.0, 0, 0.15); border-radius: 3px;' title='1.0'>&#x27;</span><span style='background-color: rgba(0.0, 165.0, 0, 0.15); border-radius: 3px;' title='1.0'> path</span><span style='background-color: rgba(0.0, 165.0, 0, 0.15); border-radius: 3px;' title='1.0'>way</span><span style='background-color: rgba(0.0, 165.0, 0, 0.15); border-radius: 3px;' title='1.0'> might</span><span style='background-color: rgba(0.0, 165.0, 0, 0.15); border-radius: 3px;' title='1.0'> be</span><span style='background-color: rgba(0.0, 165.0, 0, 0.15); border-radius: 3px;' title='1.0'> involved</span><span style='background-color: rgba(0.0, 165.0, 0, 0.15); border-radius: 3px;' title='1.0'> in</span><span style='background-color: rgba(0.0, 165.0, 0, 0.15); border-radius: 3px;' title='1.0'> mod</span><span style='background-color: rgba(0.0, 165.0, 0, 0.15); border-radius: 3px;' title='1.0'>ulating</span><span style='background-color: rgba(0.0, 165.0, 0, 0.15); border-radius: 3px;' title='1.0'> the</span><span style='background-color: rgba(0.0, 165.0, 0, 0.15); border-radius: 3px;' title='1.0'> eff</span><span style='background-color: rgba(0.0, 165.0, 0, 0.15); border-radius: 3px;' title='1.0'>ic</span><span style='background-color: rgba(0.0, 165.0, 0, 0.15); border-radius: 3px;' title='1.0'>acy</span><span style='background-color: rgba(0.0, 165.0, 0, 0.15); border-radius: 3px;' title='1.0'> of</span><span style='background-color: rgba(0.0, 165.0, 0, 0.15); border-radius: 3px;' title='1.0'> ven</span><span style='background-color: rgba(0.0, 165.0, 0, 0.15); border-radius: 3px;' title='1.0'>et</span><span style='background-color: rgba(0.0, 165.0, 0, 0.15); border-radius: 3px;' title='1.0'>oc</span><span style='background-color: rgba(0.0, 165.0, 0, 0.15); border-radius: 3px;' title='1.0'>l</span><span style='background-color: rgba(0.0, 165.0, 0, 0.15); border-radius: 3px;' title='1.0'>ax</span><span style='background-color: rgba(0.0, 165.0, 0, 0.15); border-radius: 3px;' title='1.0'>,</span><span style='background-color: rgba(0.0, 165.0, 0, 0.15); border-radius: 3px;' title='1.0'> as</span><span style='background-color: rgba(0.0, 165.0, 0, 0.15); border-radius: 3px;' title='1.0'> it</span><span style='background-color: rgba(0.0, 165.0, 0, 0.15); border-radius: 3px;' title='1.0'> plays</span><span style='background-color: rgba(0.0, 165.0, 0, 0.15); border-radius: 3px;' title='1.0'> a</span><span style='background-color: rgba(0.0, 165.0, 0, 0.15); border-radius: 3px;' title='1.0'> role</span><span style='background-color: rgba(0.0, 165.0, 0, 0.15); border-radius: 3px;' title='1.0'> in</span><span style='background-color: rgba(0.0, 165.0, 0, 0.15); border-radius: 3px;' title='1.0'> repair</span><span style='background-color: rgba(0.0, 165.0, 0, 0.15); border-radius: 3px;' title='1.0'>ing</span><span style='background-color: rgba(0.0, 165.0, 0, 0.15); border-radius: 3px;' title='1.0'> DNA</span><span style='background-color: rgba(0.0, 165.0, 0, 0.15); border-radius: 3px;' title='1.0'> damage</span><span style='background-color: rgba(0.0, 165.0, 0, 0.15); border-radius: 3px;' title='1.0'> caused</span><span style='background-color: rgba(0.0, 165.0, 0, 0.15); border-radius: 3px;' title='1.0'> by</span><span style='background-color: rgba(0.0, 165.0, 0, 0.15); border-radius: 3px;' title='1.0'> ven</span><span style='background-color: rgba(0.0, 165.0, 0, 0.15); border-radius: 3px;' title='1.0'>et</span><span style='background-color: rgba(0.0, 165.0, 0, 0.15); border-radius: 3px;' title='1.0'>oc</span><span style='background-color: rgba(0.0, 165.0, 0, 0.15); border-radius: 3px;' title='1.0'>l</span><span style='background-color: rgba(0.0, 165.0, 0, 0.15); border-radius: 3px;' title='1.0'>ax</span><span style='background-color: rgba(0.0, 165.0, 0, 0.15); border-radius: 3px;' title='1.0'>-</span><span style='background-color: rgba(0.0, 165.0, 0, 0.15); border-radius: 3px;' title='1.0'>ind</span><span style='background-color: rgba(0.0, 165.0, 0, 0.15); border-radius: 3px;' title='1.0'>uced</span><span style='background-color: rgba(0.0, 165.0, 0, 0.15); border-radius: 3px;' title='1.0'> ap</span><span style='background-color: rgba(0.0, 165.0, 0, 0.15); border-radius: 3px;' title='1.0'>opt</span><span style='background-color: rgba(0.0, 165.0, 0, 0.15); border-radius: 3px;' title='1.0'>osis</span><span style='background-color: rgba(0.0, 165.0, 0, 0.15); border-radius: 3px;' title='1.0'>.</span>\n",
       "Pathway 9<span style='background-color: rgba(0.0, 165.0, 0, 0.15); border-radius: 3px;' title='1.0'>:</span><span style='background-color: rgba(0.0, 165.0, 0, 0.15); border-radius: 3px;' title='1.0'>D</span><span style='background-color: rgba(0.0, 165.0, 0, 0.15); border-radius: 3px;' title='1.0'>NA</span><span style='background-color: rgba(0.0, 165.0, 0, 0.15); border-radius: 3px;' title='1.0'> Dam</span>age<span style='background-color: rgba(0.0, 165.0, 0, 0.15); border-radius: 3px;' title='1.0'> Re</span>versal\n",
       "\n",
       "Rationale 10<span style='background-color: rgba(0.0, 165.0, 0, 0.15); border-radius: 3px;' title='1.0'>:</span><span style='background-color: rgba(0.0, 165.0, 0, 0.15); border-radius: 3px;' title='1.0'> The</span><span style='background-color: rgba(0.0, 165.0, 0, 0.15); border-radius: 3px;' title='1.0'> &#x27;</span><span style='background-color: rgba(0.0, 165.0, 0, 0.15); border-radius: 3px;' title='1.0'>Cell</span><span style='background-color: rgba(0.0, 165.0, 0, 0.15); border-radius: 3px;' title='1.0'>ular</span><span style='background-color: rgba(0.0, 165.0, 0, 0.15); border-radius: 3px;' title='1.0'> responses</span><span style='background-color: rgba(0.0, 165.0, 0, 0.15); border-radius: 3px;' title='1.0'> to</span><span style='background-color: rgba(0.0, 165.0, 0, 0.15); border-radius: 3px;' title='1.0'> stress</span><span style='background-color: rgba(0.0, 165.0, 0, 0.15); border-radius: 3px;' title='1.0'>&#x27;</span><span style='background-color: rgba(0.0, 165.0, 0, 0.15); border-radius: 3px;' title='1.0'> path</span><span style='background-color: rgba(0.0, 165.0, 0, 0.15); border-radius: 3px;' title='1.0'>way</span><span style='background-color: rgba(0.0, 165.0, 0, 0.15); border-radius: 3px;' title='1.0'> could</span><span style='background-color: rgba(0.0, 165.0, 0, 0.15); border-radius: 3px;' title='1.0'> be</span><span style='background-color: rgba(0.0, 165.0, 0, 0.15); border-radius: 3px;' title='1.0'> relevant</span><span style='background-color: rgba(0.0, 165.0, 0, 0.15); border-radius: 3px;' title='1.0'>,</span><span style='background-color: rgba(0.0, 165.0, 0, 0.15); border-radius: 3px;' title='1.0'> as</span><span style='background-color: rgba(0.0, 165.0, 0, 0.15); border-radius: 3px;' title='1.0'> ven</span><span style='background-color: rgba(0.0, 165.0, 0, 0.15); border-radius: 3px;' title='1.0'>et</span><span style='background-color: rgba(0.0, 165.0, 0, 0.15); border-radius: 3px;' title='1.0'>oc</span><span style='background-color: rgba(0.0, 165.0, 0, 0.15); border-radius: 3px;' title='1.0'>l</span><span style='background-color: rgba(0.0, 165.0, 0, 0.15); border-radius: 3px;' title='1.0'>ax</span><span style='background-color: rgba(0.0, 165.0, 0, 0.15); border-radius: 3px;' title='1.0'> can</span><span style='background-color: rgba(0.0, 165.0, 0, 0.15); border-radius: 3px;' title='1.0'> indu</span><span style='background-color: rgba(0.0, 165.0, 0, 0.15); border-radius: 3px;' title='1.0'>ce</span><span style='background-color: rgba(0.0, 165.0, 0, 0.15); border-radius: 3px;' title='1.0'> cell</span><span style='background-color: rgba(0.0, 165.0, 0, 0.15); border-radius: 3px;' title='1.0'>ular</span><span style='background-color: rgba(0.0, 165.0, 0, 0.15); border-radius: 3px;' title='1.0'> stress</span><span style='background-color: rgba(0.0, 165.0, 0, 0.15); border-radius: 3px;' title='1.0'> and</span><span style='background-color: rgba(0.0, 165.0, 0, 0.15); border-radius: 3px;' title='1.0'> activate</span><span style='background-color: rgba(0.0, 165.0, 0, 0.15); border-radius: 3px;' title='1.0'> various</span><span style='background-color: rgba(0.0, 165.0, 0, 0.15); border-radius: 3px;' title='1.0'> stress</span><span style='background-color: rgba(0.0, 165.0, 0, 0.15); border-radius: 3px;' title='1.0'> response</span><span style='background-color: rgba(0.0, 165.0, 0, 0.15); border-radius: 3px;' title='1.0'> path</span><span style='background-color: rgba(0.0, 165.0, 0, 0.15); border-radius: 3px;' title='1.0'>ways</span><span style='background-color: rgba(0.0, 165.0, 0, 0.15); border-radius: 3px;' title='1.0'>.</span>\n",
       "Pathway 10<span style='background-color: rgba(0.0, 165.0, 0, 0.15); border-radius: 3px;' title='1.0'>:</span><span style='background-color: rgba(0.0, 165.0, 0, 0.15); border-radius: 3px;' title='1.0'>Cell</span><span style='background-color: rgba(0.0, 165.0, 0, 0.15); border-radius: 3px;' title='1.0'>ular</span> responses to stress\n",
       "\n",
       "Rationale 11<span style='background-color: rgba(0.0, 165.0, 0, 0.15); border-radius: 3px;' title='1.0'>:</span><span style='background-color: rgba(0.0, 165.0, 0, 0.15); border-radius: 3px;' title='1.0'> The</span><span style='background-color: rgba(0.0, 165.0, 0, 0.15); border-radius: 3px;' title='1.0'> &#x27;</span><span style='background-color: rgba(0.0, 165.0, 0, 0.15); border-radius: 3px;' title='1.0'>Trans</span><span style='background-color: rgba(0.0, 165.0, 0, 0.15); border-radius: 3px;' title='1.0'>cription</span><span style='background-color: rgba(0.0, 165.0, 0, 0.15); border-radius: 3px;' title='1.0'>al</span><span style='background-color: rgba(0.0, 165.0, 0, 0.15); border-radius: 3px;' title='1.0'> regulation</span><span style='background-color: rgba(0.0, 165.0, 0, 0.15); border-radius: 3px;' title='1.0'> of</span><span style='background-color: rgba(0.0, 165.0, 0, 0.15); border-radius: 3px;' title='1.0'> pl</span><span style='background-color: rgba(0.0, 165.0, 0, 0.15); border-radius: 3px;' title='1.0'>ur</span><span style='background-color: rgba(0.0, 165.0, 0, 0.15); border-radius: 3px;' title='1.0'>ip</span><span style='background-color: rgba(0.0, 165.0, 0, 0.15); border-radius: 3px;' title='1.0'>ot</span><span style='background-color: rgba(0.0, 165.0, 0, 0.15); border-radius: 3px;' title='1.0'>ent</span><span style='background-color: rgba(0.0, 165.0, 0, 0.15); border-radius: 3px;' title='1.0'> stem</span><span style='background-color: rgba(0.0, 165.0, 0, 0.15); border-radius: 3px;' title='1.0'> cells</span><span style='background-color: rgba(0.0, 165.0, 0, 0.15); border-radius: 3px;' title='1.0'>&#x27;</span><span style='background-color: rgba(0.0, 165.0, 0, 0.15); border-radius: 3px;' title='1.0'> path</span><span style='background-color: rgba(0.0, 165.0, 0, 0.15); border-radius: 3px;' title='1.0'>way</span><span style='background-color: rgba(0.0, 165.0, 0, 0.15); border-radius: 3px;' title='1.0'> might</span><span style='background-color: rgba(0.0, 165.0, 0, 0.15); border-radius: 3px;' title='1.0'> be</span><span style='background-color: rgba(0.0, 165.0, 0, 0.15); border-radius: 3px;' title='1.0'> involved</span><span style='background-color: rgba(0.0, 165.0, 0, 0.15); border-radius: 3px;' title='1.0'> in</span><span style='background-color: rgba(0.0, 165.0, 0, 0.15); border-radius: 3px;' title='1.0'> mod</span><span style='background-color: rgba(0.0, 165.0, 0, 0.15); border-radius: 3px;' title='1.0'>ulating</span><span style='background-color: rgba(0.0, 165.0, 0, 0.15); border-radius: 3px;' title='1.0'> the</span><span style='background-color: rgba(0.0, 165.0, 0, 0.15); border-radius: 3px;' title='1.0'> eff</span><span style='background-color: rgba(0.0, 165.0, 0, 0.15); border-radius: 3px;' title='1.0'>ic</span><span style='background-color: rgba(0.0, 165.0, 0, 0.15); border-radius: 3px;' title='1.0'>acy</span><span style='background-color: rgba(0.0, 165.0, 0, 0.15); border-radius: 3px;' title='1.0'> of</span><span style='background-color: rgba(0.0, 165.0, 0, 0.15); border-radius: 3px;' title='1.0'> ven</span><span style='background-color: rgba(0.0, 165.0, 0, 0.15); border-radius: 3px;' title='1.0'>et</span><span style='background-color: rgba(0.0, 165.0, 0, 0.15); border-radius: 3px;' title='1.0'>oc</span><span style='background-color: rgba(0.0, 165.0, 0, 0.15); border-radius: 3px;' title='1.0'>l</span><span style='background-color: rgba(0.0, 165.0, 0, 0.15); border-radius: 3px;' title='1.0'>ax</span><span style='background-color: rgba(0.0, 165.0, 0, 0.15); border-radius: 3px;' title='1.0'>,</span><span style='background-color: rgba(0.0, 165.0, 0, 0.15); border-radius: 3px;' title='1.0'> as</span><span style='background-color: rgba(0.0, 165.0, 0, 0.15); border-radius: 3px;' title='1.0'> it</span><span style='background-color: rgba(0.0, 165.0, 0, 0.15); border-radius: 3px;' title='1.0'> plays</span><span style='background-color: rgba(0.0, 165.0, 0, 0.15); border-radius: 3px;' title='1.0'> a</span><span style='background-color: rgba(0.0, 165.0, 0, 0.15); border-radius: 3px;' title='1.0'> role</span><span style='background-color: rgba(0.0, 165.0, 0, 0.15); border-radius: 3px;' title='1.0'> in</span><span style='background-color: rgba(0.0, 165.0, 0, 0.15); border-radius: 3px;' title='1.0'> reg</span><span style='background-color: rgba(0.0, 165.0, 0, 0.15); border-radius: 3px;' title='1.0'>ulating</span><span style='background-color: rgba(0.0, 165.0, 0, 0.15); border-radius: 3px;' title='1.0'> the</span><span style='background-color: rgba(0.0, 165.0, 0, 0.15); border-radius: 3px;' title='1.0'> different</span><span style='background-color: rgba(0.0, 165.0, 0, 0.15); border-radius: 3px;' title='1.0'>iation</span><span style='background-color: rgba(0.0, 165.0, 0, 0.15); border-radius: 3px;' title='1.0'> of</span><span style='background-color: rgba(0.0, 165.0, 0, 0.15); border-radius: 3px;' title='1.0'> stem</span><span style='background-color: rgba(0.0, 165.0, 0, 0.15); border-radius: 3px;' title='1.0'> cells</span><span style='background-color: rgba(0.0, 165.0, 0, 0.15); border-radius: 3px;' title='1.0'>,</span><span style='background-color: rgba(0.0, 165.0, 0, 0.15); border-radius: 3px;' title='1.0'> which</span><span style='background-color: rgba(0.0, 165.0, 0, 0.15); border-radius: 3px;' title='1.0'> can</span><span style='background-color: rgba(0.0, 165.0, 0, 0.15); border-radius: 3px;' title='1.0'> be</span><span style='background-color: rgba(0.0, 165.0, 0, 0.15); border-radius: 3px;' title='1.0'> affected</span><span style='background-color: rgba(0.0, 165.0, 0, 0.15); border-radius: 3px;' title='1.0'> by</span><span style='background-color: rgba(0.0, 165.0, 0, 0.15); border-radius: 3px;' title='1.0'> ven</span><span style='background-color: rgba(0.0, 165.0, 0, 0.15); border-radius: 3px;' title='1.0'>et</span><span style='background-color: rgba(0.0, 165.0, 0, 0.15); border-radius: 3px;' title='1.0'>oc</span><span style='background-color: rgba(0.0, 165.0, 0, 0.15); border-radius: 3px;' title='1.0'>l</span><span style='background-color: rgba(0.0, 165.0, 0, 0.15); border-radius: 3px;' title='1.0'>ax</span><span style='background-color: rgba(0.0, 165.0, 0, 0.15); border-radius: 3px;' title='1.0'>-</span><span style='background-color: rgba(0.0, 165.0, 0, 0.15); border-radius: 3px;' title='1.0'>ind</span><span style='background-color: rgba(0.0, 165.0, 0, 0.15); border-radius: 3px;' title='1.0'>uced</span><span style='background-color: rgba(0.0, 165.0, 0, 0.15); border-radius: 3px;' title='1.0'> ap</span><span style='background-color: rgba(0.0, 165.0, 0, 0.15); border-radius: 3px;' title='1.0'>opt</span><span style='background-color: rgba(0.0, 165.0, 0, 0.15); border-radius: 3px;' title='1.0'>osis</span><span style='background-color: rgba(0.0, 165.0, 0, 0.15); border-radius: 3px;' title='1.0'>.</span>\n",
       "Pathway 11<span style='background-color: rgba(0.0, 165.0, 0, 0.15); border-radius: 3px;' title='1.0'>:</span><span style='background-color: rgba(0.0, 165.0, 0, 0.15); border-radius: 3px;' title='1.0'>Trans</span><span style='background-color: rgba(0.0, 165.0, 0, 0.15); border-radius: 3px;' title='1.0'>cription</span><span style='background-color: rgba(0.0, 165.0, 0, 0.15); border-radius: 3px;' title='1.0'>al</span> regulation of<span style='background-color: rgba(0.0, 165.0, 0, 0.15); border-radius: 3px;' title='1.0'> pl</span>uripotent stem cells\n",
       "\n",
       "Rationale 12<span style='background-color: rgba(0.0, 165.0, 0, 0.15); border-radius: 3px;' title='1.0'>:</span><span style='background-color: rgba(0.0, 165.0, 0, 0.15); border-radius: 3px;' title='1.0'> The</span><span style='background-color: rgba(0.0, 165.0, 0, 0.15); border-radius: 3px;' title='1.0'> &#x27;</span><span style='background-color: rgba(0.0, 165.0, 0, 0.15); border-radius: 3px;' title='1.0'>Trans</span><span style='background-color: rgba(0.0, 165.0, 0, 0.15); border-radius: 3px;' title='1.0'>cription</span><span style='background-color: rgba(0.0, 165.0, 0, 0.15); border-radius: 3px;' title='1.0'>al</span><span style='background-color: rgba(0.0, 165.0, 0, 0.15); border-radius: 3px;' title='1.0'> regulation</span><span style='background-color: rgba(0.0, 165.0, 0, 0.15); border-radius: 3px;' title='1.0'> of</span><span style='background-color: rgba(0.0, 165.0, 0, 0.15); border-radius: 3px;' title='1.0'> test</span><span style='background-color: rgba(0.0, 165.0, 0, 0.15); border-radius: 3px;' title='1.0'>is</span><span style='background-color: rgba(0.0, 165.0, 0, 0.15); border-radius: 3px;' title='1.0'> different</span><span style='background-color: rgba(0.0, 165.0, 0, 0.15); border-radius: 3px;' title='1.0'>iation</span><span style='background-color: rgba(0.0, 165.0, 0, 0.15); border-radius: 3px;' title='1.0'>&#x27;</span><span style='background-color: rgba(0.0, 165.0, 0, 0.15); border-radius: 3px;' title='1.0'> path</span><span style='background-color: rgba(0.0, 165.0, 0, 0.15); border-radius: 3px;' title='1.0'>way</span><span style='background-color: rgba(0.0, 165.0, 0, 0.15); border-radius: 3px;' title='1.0'> could</span><span style='background-color: rgba(0.0, 165.0, 0, 0.15); border-radius: 3px;' title='1.0'> be</span><span style='background-color: rgba(0.0, 165.0, 0, 0.15); border-radius: 3px;' title='1.0'> relevant</span><span style='background-color: rgba(0.0, 165.0, 0, 0.15); border-radius: 3px;' title='1.0'>,</span><span style='background-color: rgba(0.0, 165.0, 0, 0.15); border-radius: 3px;' title='1.0'> as</span><span style='background-color: rgba(0.0, 165.0, 0, 0.15); border-radius: 3px;' title='1.0'> ven</span><span style='background-color: rgba(0.0, 165.0, 0, 0.15); border-radius: 3px;' title='1.0'>et</span><span style='background-color: rgba(0.0, 165.0, 0, 0.15); border-radius: 3px;' title='1.0'>oc</span><span style='background-color: rgba(0.0, 165.0, 0, 0.15); border-radius: 3px;' title='1.0'>l</span><span style='background-color: rgba(0.0, 165.0, 0, 0.15); border-radius: 3px;' title='1.0'>ax</span><span style='background-color: rgba(0.0, 165.0, 0, 0.15); border-radius: 3px;' title='1.0'> has</span><span style='background-color: rgba(0.0, 165.0, 0, 0.15); border-radius: 3px;' title='1.0'> been</span><span style='background-color: rgba(0.0, 165.0, 0, 0.15); border-radius: 3px;' title='1.0'> shown</span><span style='background-color: rgba(0.0, 165.0, 0, 0.15); border-radius: 3px;' title='1.0'> to</span><span style='background-color: rgba(0.0, 165.0, 0, 0.15); border-radius: 3px;' title='1.0'> have</span><span style='background-color: rgba(0.0, 165.0, 0, 0.15); border-radius: 3px;' title='1.0'> off</span><span style='background-color: rgba(0.0, 165.0, 0, 0.15); border-radius: 3px;' title='1.0'>-</span><span style='background-color: rgba(0.0, 165.0, 0, 0.15); border-radius: 3px;' title='1.0'>target</span><span style='background-color: rgba(0.0, 165.0, 0, 0.15); border-radius: 3px;' title='1.0'> effects</span><span style='background-color: rgba(0.0, 165.0, 0, 0.15); border-radius: 3px;' title='1.0'> on</span><span style='background-color: rgba(0.0, 165.0, 0, 0.15); border-radius: 3px;' title='1.0'> test</span><span style='background-color: rgba(0.0, 165.0, 0, 0.15); border-radius: 3px;' title='1.0'>icular</span><span style='background-color: rgba(0.0, 165.0, 0, 0.15); border-radius: 3px;' title='1.0'> tissue</span><span style='background-color: rgba(0.0, 165.0, 0, 0.15); border-radius: 3px;' title='1.0'> and</span><span style='background-color: rgba(0.0, 165.0, 0, 0.15); border-radius: 3px;' title='1.0'> can</span><span style='background-color: rgba(0.0, 165.0, 0, 0.15); border-radius: 3px;' title='1.0'>ವ</span><span style='background-color: rgba(0.0, 165.0, 0, 0.15); border-radius: 3px;' title='1.0'>en</span><span style='background-color: rgba(0.0, 165.0, 0, 0.15); border-radius: 3px;' title='1.0'>et</span><span style='background-color: rgba(0.0, 165.0, 0, 0.15); border-radius: 3px;' title='1.0'>oc</span><span style='background-color: rgba(0.0, 165.0, 0, 0.15); border-radius: 3px;' title='1.0'>l</span><span style='background-color: rgba(0.0, 165.0, 0, 0.15); border-radius: 3px;' title='1.0'>ax</span><span style='background-color: rgba(0.0, 165.0, 0, 0.15); border-radius: 3px;' title='1.0'>-</span><span style='background-color: rgba(0.0, 165.0, 0, 0.15); border-radius: 3px;' title='1.0'>ind</span><span style='background-color: rgba(0.0, 165.0, 0, 0.15); border-radius: 3px;' title='1.0'>uced</span><span style='background-color: rgba(0.0, 165.0, 0, 0.15); border-radius: 3px;' title='1.0'> ap</span><span style='background-color: rgba(0.0, 165.0, 0, 0.15); border-radius: 3px;' title='1.0'>opt</span><span style='background-color: rgba(0.0, 165.0, 0, 0.15); border-radius: 3px;' title='1.0'>osis</span><span style='background-color: rgba(0.0, 165.0, 0, 0.15); border-radius: 3px;' title='1.0'>.</span>\n",
       "Pathway 12<span style='background-color: rgba(0.0, 165.0, 0, 0.15); border-radius: 3px;' title='1.0'>:</span><span style='background-color: rgba(0.0, 165.0, 0, 0.15); border-radius: 3px;' title='1.0'>Trans</span><span style='background-color: rgba(0.0, 165.0, 0, 0.15); border-radius: 3px;' title='1.0'>cription</span><span style='background-color: rgba(0.0, 165.0, 0, 0.15); border-radius: 3px;' title='1.0'>al</span> regulation of<span style='background-color: rgba(0.0, 165.0, 0, 0.15); border-radius: 3px;' title='1.0'> test</span>is differentiation\n",
       "\n",
       "Rationale 13<span style='background-color: rgba(0.0, 165.0, 0, 0.15); border-radius: 3px;' title='1.0'>:</span><span style='background-color: rgba(0.0, 165.0, 0, 0.15); border-radius: 3px;' title='1.0'>tha</span><span style='background-color: rgba(0.0, 165.0, 0, 0.15); border-radius: 3px;' title='1.0'> &#x27;</span><span style='background-color: rgba(0.0, 165.0, 0, 0.15); border-radius: 3px;' title='1.0'>Trans</span><span style='background-color: rgba(0.0, 165.0, 0, 0.15); border-radius: 3px;' title='1.0'>mission</span><span style='background-color: rgba(0.0, 165.0, 0, 0.15); border-radius: 3px;' title='1.0'> across</span><span style='background-color: rgba(0.0, 165.0, 0, 0.15); border-radius: 3px;' title='1.0'> Chem</span><span style='background-color: rgba(0.0, 165.0, 0, 0.15); border-radius: 3px;' title='1.0'>ical</span><span style='background-color: rgba(0.0, 165.0, 0, 0.15); border-radius: 3px;' title='1.0'> Syn</span><span style='background-color: rgba(0.0, 165.0, 0, 0.15); border-radius: 3px;' title='1.0'>aps</span><span style='background-color: rgba(0.0, 165.0, 0, 0.15); border-radius: 3px;' title='1.0'>es</span><span style='background-color: rgba(0.0, 165.0, 0, 0.15); border-radius: 3px;' title='1.0'>&#x27;</span><span style='background-color: rgba(0.0, 165.0, 0, 0.15); border-radius: 3px;' title='1.0'> path</span><span style='background-color: rgba(0.0, 165.0, 0, 0.15); border-radius: 3px;' title='1.0'>way</span><span style='background-color: rgba(0.0, 165.0, 0, 0.15); border-radius: 3px;' title='1.0'> might</span><span style='background-color: rgba(0.0, 165.0, 0, 0.15); border-radius: 3px;' title='1.0'> be</span><span style='background-color: rgba(0.0, 165.0, 0, 0.15); border-radius: 3px;' title='1.0'> involved</span><span style='background-color: rgba(0.0, 165.0, 0, 0.15); border-radius: 3px;' title='1.0'> in</span><span style='background-color: rgba(0.0, 165.0, 0, 0.15); border-radius: 3px;' title='1.0'> mod</span><span style='background-color: rgba(0.0, 165.0, 0, 0.15); border-radius: 3px;' title='1.0'>ulating</span><span style='background-color: rgba(0.0, 165.0, 0, 0.15); border-radius: 3px;' title='1.0'> the</span><span style='background-color: rgba(0.0, 165.0, 0, 0.15); border-radius: 3px;' title='1.0'> eff</span><span style='background-color: rgba(0.0, 165.0, 0, 0.15); border-radius: 3px;' title='1.0'>ic</span><span style='background-color: rgba(0.0, 165.0, 0, 0.15); border-radius: 3px;' title='1.0'>acy</span><span style='background-color: rgba(0.0, 165.0, 0, 0.15); border-radius: 3px;' title='1.0'> of</span><span style='background-color: rgba(0.0, 165.0, 0, 0.15); border-radius: 3px;' title='1.0'> ven</span><span style='background-color: rgba(0.0, 165.0, 0, 0.15); border-radius: 3px;' title='1.0'>et</span><span style='background-color: rgba(0.0, 165.0, 0, 0.15); border-radius: 3px;' title='1.0'>oc</span><span style='background-color: rgba(0.0, 165.0, 0, 0.15); border-radius: 3px;' title='1.0'>l</span><span style='background-color: rgba(0.0, 165.0, 0, 0.15); border-radius: 3px;' title='1.0'>ax</span><span style='background-color: rgba(0.0, 165.0, 0, 0.15); border-radius: 3px;' title='1.0'>,</span><span style='background-color: rgba(0.0, 165.0, 0, 0.15); border-radius: 3px;' title='1.0'> as</span><span style='background-color: rgba(0.0, 165.0, 0, 0.15); border-radius: 3px;' title='1.0'> it</span><span style='background-color: rgba(0.0, 165.0, 0, 0.15); border-radius: 3px;' title='1.0'> plays</span><span style='background-color: rgba(0.0, 165.0, 0, 0.15); border-radius: 3px;' title='1.0'> a</span><span style='background-color: rgba(0.0, 165.0, 0, 0.15); border-radius: 3px;' title='1.0'> role</span><span style='background-color: rgba(0.0, 165.0, 0, 0.15); border-radius: 3px;' title='1.0'> in</span><span style='background-color: rgba(0.0, 165.0, 0, 0.15); border-radius: 3px;' title='1.0'> transm</span><span style='background-color: rgba(0.0, 165.0, 0, 0.15); border-radius: 3px;' title='1.0'>itting</span><span style='background-color: rgba(0.0, 165.0, 0, 0.15); border-radius: 3px;' title='1.0'> signals</span><span style='background-color: rgba(0.0, 165.0, 0, 0.15); border-radius: 3px;' title='1.0'> between</span><span style='background-color: rgba(0.0, 165.0, 0, 0.15); border-radius: 3px;' title='1.0'> neur</span><span style='background-color: rgba(0.0, 165.0, 0, 0.15); border-radius: 3px;' title='1.0'>ons</span><span style='background-color: rgba(0.0, 165.0, 0, 0.15); border-radius: 3px;' title='1.0'>,</span><span style='background-color: rgba(0.0, 165.0, 0, 0.15); border-radius: 3px;' title='1.0'> which</span><span style='background-color: rgba(0.0, 165.0, 0, 0.15); border-radius: 3px;' title='1.0'> can</span><span style='background-color: rgba(0.0, 165.0, 0, 0.15); border-radius: 3px;' title='1.0'> be</span><span style='background-color: rgba(0.0, 165.0, 0, 0.15); border-radius: 3px;' title='1.0'> affected</span><span style='background-color: rgba(0.0, 165.0, 0, 0.15); border-radius: 3px;' title='1.0'> by</span><span style='background-color: rgba(0.0, 165.0, 0, 0.15); border-radius: 3px;' title='1.0'> ven</span><span style='background-color: rgba(0.0, 165.0, 0, 0.15); border-radius: 3px;' title='1.0'>et</span><span style='background-color: rgba(0.0, 165.0, 0, 0.15); border-radius: 3px;' title='1.0'>oc</span><span style='background-color: rgba(0.0, 165.0, 0, 0.15); border-radius: 3px;' title='1.0'>l</span><span style='background-color: rgba(0.0, 165.0, 0, 0.15); border-radius: 3px;' title='1.0'>ax</span><span style='background-color: rgba(0.0, 165.0, 0, 0.15); border-radius: 3px;' title='1.0'>-</span><span style='background-color: rgba(0.0, 165.0, 0, 0.15); border-radius: 3px;' title='1.0'>ind</span><span style='background-color: rgba(0.0, 165.0, 0, 0.15); border-radius: 3px;' title='1.0'>uced</span><span style='background-color: rgba(0.0, 165.0, 0, 0.15); border-radius: 3px;' title='1.0'> ap</span><span style='background-color: rgba(0.0, 165.0, 0, 0.15); border-radius: 3px;' title='1.0'>opt</span><span style='background-color: rgba(0.0, 165.0, 0, 0.15); border-radius: 3px;' title='1.0'>osis</span><span style='background-color: rgba(0.0, 165.0, 0, 0.15); border-radius: 3px;' title='1.0'>.</span>\n",
       "Pathway 13<span style='background-color: rgba(0.0, 165.0, 0, 0.15); border-radius: 3px;' title='1.0'>:</span><span style='background-color: rgba(0.0, 165.0, 0, 0.15); border-radius: 3px;' title='1.0'>Trans</span><span style='background-color: rgba(0.0, 165.0, 0, 0.15); border-radius: 3px;' title='1.0'>mission</span> across<span style='background-color: rgba(0.0, 165.0, 0, 0.15); border-radius: 3px;' title='1.0'> Chem</span>ical Synapses\n",
       "\n",
       "Rationale 14<span style='background-color: rgba(0.0, 165.0, 0, 0.15); border-radius: 3px;' title='1.0'>:</span><span style='background-color: rgba(0.0, 165.0, 0, 0.15); border-radius: 3px;' title='1.0'> The</span><span style='background-color: rgba(0.0, 165.0, 0, 0.15); border-radius: 3px;' title='1.0'> &#x27;</span><span style='background-color: rgba(0.0, 165.0, 0, 0.15); border-radius: 3px;' title='1.0'>Signal</span><span style='background-color: rgba(0.0, 165.0, 0, 0.15); border-radius: 3px;' title='1.0'> trans</span><span style='background-color: rgba(0.0, 165.0, 0, 0.15); border-radius: 3px;' title='1.0'>du</span><span style='background-color: rgba(0.0, 165.0, 0, 0.15); border-radius: 3px;' title='1.0'>ction</span><span style='background-color: rgba(0.0, 165.0, 0, 0.15); border-radius: 3px;' title='1.0'> by</span><span style='background-color: rgba(0.0, 165.0, 0, 0.15); border-radius: 3px;' title='1.0'> growth</span><span style='background-color: rgba(0.0, 165.0, 0, 0.15); border-radius: 3px;' title='1.0'> factor</span><span style='background-color: rgba(0.0, 165.0, 0, 0.15); border-radius: 3px;' title='1.0'> re</span><span style='background-color: rgba(0.0, 165.0, 0, 0.15); border-radius: 3px;' title='1.0'>cept</span><span style='background-color: rgba(0.0, 165.0, 0, 0.15); border-radius: 3px;' title='1.0'>ors</span><span style='background-color: rgba(0.0, 165.0, 0, 0.15); border-radius: 3px;' title='1.0'> and</span><span style='background-color: rgba(0.0, 165.0, 0, 0.15); border-radius: 3px;' title='1.0'> second</span><span style='background-color: rgba(0.0, 165.0, 0, 0.15); border-radius: 3px;' title='1.0'> mess</span><span style='background-color: rgba(0.0, 165.0, 0, 0.15); border-radius: 3px;' title='1.0'>engers</span><span style='background-color: rgba(0.0, 165.0, 0, 0.15); border-radius: 3px;' title='1.0'>&#x27;</span><span style='background-color: rgba(0.0, 165.0, 0, 0.15); border-radius: 3px;' title='1.0'> path</span><span style='background-color: rgba(0.0, 165.0, 0, 0.15); border-radius: 3px;' title='1.0'>way</span><span style='background-color: rgba(0.0, 165.0, 0, 0.15); border-radius: 3px;' title='1.0'> could</span><span style='background-color: rgba(0.0, 165.0, 0, 0.15); border-radius: 3px;' title='1.0'> be</span><span style='background-color: rgba(0.0, 165.0, 0, 0.15); border-radius: 3px;' title='1.0'> relevant</span><span style='background-color: rgba(0.0, 165.0, 0, 0.15); border-radius: 3px;' title='1.0'>,</span><span style='background-color: rgba(0.0, 165.0, 0, 0.15); border-radius: 3px;' title='1.0'> as</span><span style='background-color: rgba(0.0, 165.0, 0, 0.15); border-radius: 3px;' title='1.0'> ven</span><span style='background-color: rgba(0.0, 165.0, 0, 0.15); border-radius: 3px;' title='1.0'>et</span><span style='background-color: rgba(0.0, 165.0, 0, 0.15); border-radius: 3px;' title='1.0'>oc</span><span style='background-color: rgba(0.0, 165.0, 0, 0.15); border-radius: 3px;' title='1.0'>l</span><span style='background-color: rgba(0.0, 165.0, 0, 0.15); border-radius: 3px;' title='1.0'>ax</span><span style='background-color: rgba(0.0, 165.0, 0, 0.15); border-radius: 3px;' title='1.0'> has</span><span style='background-color: rgba(0.0, 165.0, 0, 0.15); border-radius: 3px;' title='1.0'> been</span><span style='background-color: rgba(0.0, 165.0, 0, 0.15); border-radius: 3px;' title='1.0'> shown</span><span style='background-color: rgba(0.0, 165.0, 0, 0.15); border-radius: 3px;' title='1.0'> to</span><span style='background-color: rgba(0.0, 165.0, 0, 0.15); border-radius: 3px;' title='1.0'> enhance</span><span style='background-color: rgba(0.0, 165.0, 0, 0.15); border-radius: 3px;' title='1.0'> T</span><span style='background-color: rgba(0.0, 165.0, 0, 0.15); border-radius: 3px;' title='1.0'>-</span><span style='background-color: rgba(0.0, 165.0, 0, 0.15); border-radius: 3px;' title='1.0'>cell</span><span style='background-color: rgba(0.0, 165.0, 0, 0.15); border-radius: 3px;' title='1.0'> effect</span><span style='background-color: rgba(0.0, 165.0, 0, 0.15); border-radius: 3px;' title='1.0'>or</span><span style='background-color: rgba(0.0, 165.0, 0, 0.15); border-radius: 3px;' title='1.0'> function</span><span style='background-color: rgba(0.0, 165.0, 0, 0.15); border-radius: 3px;' title='1.0'> and</span><span style='background-color: rgba(0.0, 165.0, 0, 0.15); border-radius: 3px;' title='1.0'> can</span><span style='background-color: rgba(0.0, 165.0, 0, 0.15); border-radius: 3px;' title='1.0'> potentially</span><span style='background-color: rgba(0.0, 165.0, 0, 0.15); border-radius: 3px;' title='1.0'> mod</span><span style='background-color: rgba(0.0, 165.0, 0, 0.15); border-radius: 3px;' title='1.0'>ulate</span><span style='background-color: rgba(0.0, 165.0, 0, 0.15); border-radius: 3px;' title='1.0'> the</span><span style='background-color: rgba(0.0, 165.0, 0, 0.15); border-radius: 3px;' title='1.0'> immune</span><span style='background-color: rgba(0.0, 165.0, 0, 0.15); border-radius: 3px;' title='1.0'> response</span><span style='background-color: rgba(0.0, 165.0, 0, 0.15); border-radius: 3px;' title='1.0'>.</span>\n",
       "Pathway 14<span style='background-color: rgba(0.0, 165.0, 0, 0.15); border-radius: 3px;' title='1.0'>:</span><span style='background-color: rgba(0.0, 165.0, 0, 0.15); border-radius: 3px;' title='1.0'>Signal</span><span style='background-color: rgba(0.0, 165.0, 0, 0.15); border-radius: 3px;' title='1.0'> regulatory</span> protein family interactions\n",
       "\n",
       "Rationale 15<span style='background-color: rgba(0.0, 165.0, 0, 0.15); border-radius: 3px;' title='1.0'>:</span><span style='background-color: rgba(0.0, 165.0, 0, 0.15); border-radius: 3px;' title='1.0'> The</span><span style='background-color: rgba(0.0, 165.0, 0, 0.15); border-radius: 3px;' title='1.0'> &#x27;</span><span style='background-color: rgba(0.0, 165.0, 0, 0.15); border-radius: 3px;' title='1.0'>Met</span><span style='background-color: rgba(0.0, 165.0, 0, 0.15); border-radius: 3px;' title='1.0'>abol</span><span style='background-color: rgba(0.0, 165.0, 0, 0.15); border-radius: 3px;' title='1.0'>ism</span><span style='background-color: rgba(0.0, 165.0, 0, 0.15); border-radius: 3px;' title='1.0'> of</span><span style='background-color: rgba(0.0, 165.0, 0, 0.15); border-radius: 3px;' title='1.0'> lip</span><span style='background-color: rgba(0.0, 165.0, 0, 0.15); border-radius: 3px;' title='1.0'>ids</span><span style='background-color: rgba(0.0, 165.0, 0, 0.15); border-radius: 3px;' title='1.0'>&#x27;</span><span style='background-color: rgba(0.0, 165.0, 0, 0.15); border-radius: 3px;' title='1.0'> path</span><span style='background-color: rgba(0.0, 165.0, 0, 0.15); border-radius: 3px;' title='1.0'>way</span><span style='background-color: rgba(0.0, 165.0, 0, 0.15); border-radius: 3px;' title='1.0'> might</span><span style='background-color: rgba(0.0, 165.0, 0, 0.15); border-radius: 3px;' title='1.0'> be</span><span style='background-color: rgba(0.0, 165.0, 0, 0.15); border-radius: 3px;' title='1.0'> involved</span><span style='background-color: rgba(0.0, 165.0, 0, 0.15); border-radius: 3px;' title='1.0'> in</span><span style='background-color: rgba(0.0, 165.0, 0, 0.15); border-radius: 3px;' title='1.0'> mod</span><span style='background-color: rgba(0.0, 165.0, 0, 0.15); border-radius: 3px;' title='1.0'>ulating</span><span style='background-color: rgba(0.0, 165.0, 0, 0.15); border-radius: 3px;' title='1.0'> the</span><span style='background-color: rgba(0.0, 165.0, 0, 0.15); border-radius: 3px;' title='1.0'> eff</span><span style='background-color: rgba(0.0, 165.0, 0, 0.15); border-radius: 3px;' title='1.0'>ic</span><span style='background-color: rgba(0.0, 165.0, 0, 0.15); border-radius: 3px;' title='1.0'>acy</span><span style='background-color: rgba(0.0, 165.0, 0, 0.15); border-radius: 3px;' title='1.0'> of</span><span style='background-color: rgba(0.0, 165.0, 0, 0.15); border-radius: 3px;' title='1.0'> ven</span><span style='background-color: rgba(0.0, 165.0, 0, 0.15); border-radius: 3px;' title='1.0'>et</span><span style='background-color: rgba(0.0, 165.0, 0, 0.15); border-radius: 3px;' title='1.0'>oc</span><span style='background-color: rgba(0.0, 165.0, 0, 0.15); border-radius: 3px;' title='1.0'>l</span><span style='background-color: rgba(0.0, 165.0, 0, 0.15); border-radius: 3px;' title='1.0'>ax</span><span style='background-color: rgba(0.0, 165.0, 0, 0.15); border-radius: 3px;' title='1.0'>,</span><span style='background-color: rgba(0.0, 165.0, 0, 0.15); border-radius: 3px;' title='1.0'> as</span><span style='background-color: rgba(0.0, 165.0, 0, 0.15); border-radius: 3px;' title='1.0'> it</span><span style='background-color: rgba(0.0, 165.0, 0, 0.15); border-radius: 3px;' title='1.0'> plays</span><span style='background-color: rgba(0.0, 165.0, 0, 0.15); border-radius: 3px;' title='1.0'> a</span><span style='background-color: rgba(0.0, 165.0, 0, 0.15); border-radius: 3px;' title='1.0'> role</span><span style='background-color: rgba(0.0, 165.0, 0, 0.15); border-radius: 3px;' title='1.0'> in</span><span style='background-color: rgba(0.0, 165.0, 0, 0.15); border-radius: 3px;' title='1.0'> reg</span><span style='background-color: rgba(0.0, 165.0, 0, 0.15); border-radius: 3px;' title='1.0'>ulating</span><span style='background-color: rgba(0.0, 165.0, 0, 0.15); border-radius: 3px;' title='1.0'> lip</span><span style='background-color: rgba(0.0, 165.0, 0, 0.15); border-radius: 3px;' title='1.0'>id</span><span style='background-color: rgba(0.0, 165.0, 0, 0.15); border-radius: 3px;' title='1.0'> met</span><span style='background-color: rgba(0.0, 165.0, 0, 0.15); border-radius: 3px;' title='1.0'>abol</span><span style='background-color: rgba(0.0, 165.0, 0, 0.15); border-radius: 3px;' title='1.0'>ism</span><span style='background-color: rgba(0.0, 165.0, 0, 0.15); border-radius: 3px;' title='1.0'>,</span><span style='background-color: rgba(0.0, 165.0, 0, 0.15); border-radius: 3px;' title='1.0'> which</span><span style='background-color: rgba(0.0, 165.0, 0, 0.15); border-radius: 3px;' title='1.0'> can</span><span style='background-color: rgba(0.0, 165.0, 0, 0.15); border-radius: 3px;' title='1.0'> be</span><span style='background-color: rgba(0.0, 165.0, 0, 0.15); border-radius: 3px;' title='1.0'> affected</span><span style='background-color: rgba(0.0, 165.0, 0, 0.15); border-radius: 3px;' title='1.0'> by</span><span style='background-color: rgba(0.0, 165.0, 0, 0.15); border-radius: 3px;' title='1.0'> ven</span><span style='background-color: rgba(0.0, 165.0, 0, 0.15); border-radius: 3px;' title='1.0'>et</span><span style='background-color: rgba(0.0, 165.0, 0, 0.15); border-radius: 3px;' title='1.0'>oc</span><span style='background-color: rgba(0.0, 165.0, 0, 0.15); border-radius: 3px;' title='1.0'>l</span><span style='background-color: rgba(0.0, 165.0, 0, 0.15); border-radius: 3px;' title='1.0'>ax</span><span style='background-color: rgba(0.0, 165.0, 0, 0.15); border-radius: 3px;' title='1.0'>-</span><span style='background-color: rgba(0.0, 165.0, 0, 0.15); border-radius: 3px;' title='1.0'>ind</span><span style='background-color: rgba(0.0, 165.0, 0, 0.15); border-radius: 3px;' title='1.0'>uced</span><span style='background-color: rgba(0.0, 165.0, 0, 0.15); border-radius: 3px;' title='1.0'> ap</span><span style='background-color: rgba(0.0, 165.0, 0, 0.15); border-radius: 3px;' title='1.0'>opt</span><span style='background-color: rgba(0.0, 165.0, 0, 0.15); border-radius: 3px;' title='1.0'>osis</span><span style='background-color: rgba(0.0, 165.0, 0, 0.15); border-radius: 3px;' title='1.0'>.</span>\n",
       "Pathway 15<span style='background-color: rgba(0.0, 165.0, 0, 0.15); border-radius: 3px;' title='1.0'>:</span><span style='background-color: rgba(0.0, 165.0, 0, 0.15); border-radius: 3px;' title='1.0'>Met</span>abolism of<span style='background-color: rgba(0.0, 165.0, 0, 0.15); border-radius: 3px;' title='1.0'> lip</span>ids\n",
       "</pre>"
      ],
      "text/plain": [
       "<IPython.core.display.HTML object>"
      ]
     },
     "metadata": {},
     "output_type": "display_data"
    }
   ],
   "source": [
    "dict_list = []\n",
    "\n",
    "for iter in range(self_k):\n",
    "    lm = lm + inference(prompt,pathway_number=pathway_number, pathways_list=reactome_pathways,temperature=temperature)\n",
    "    dict_list.append(dictionary_maker(lm))\n",
    "    lm.reset()\n",
    "    gc.collect()\n",
    "    torch.cuda.empty_cache()"
   ]
  },
  {
   "cell_type": "markdown",
   "metadata": {},
   "source": [
    "We then use a dedicated function to gather results across iterations and get how many times specific pathways were selected"
   ]
  },
  {
   "cell_type": "code",
   "execution_count": 13,
   "metadata": {},
   "outputs": [
    {
     "data": {
      "text/plain": [
       "{'Apoptosis': {'count': 5,\n",
       "  'rationales': [\" The drug, Venetoclax, is a potent and selective inhibitor of the BCL2 protein, which plays a crucial role in apoptosis. The 'Apoptosis' pathway is directly linked to Venetoclax's mechanism of action as it promotes apoptosis in cancer cells that overexpress BCL2.\",\n",
       "   ' The drug, Venetoclax, is a potent and selective inhibitor of the BCL2 protein which plays a crucial role in apoptosis. This mechanism of action suggests that pathways involved in apoptosis and cell cycle regulation would be relevant.',\n",
       "   \" The drug, Venetoclax, is a potent and selective inhibitor of the BCL2 protein, which is a key regulator of apoptosis. The 'Apoptosis' pathway is directly related to Venetoclax's mechanism of action as it promotes apoptosis in cancer cells that overexpress BCL2.\",\n",
       "   \" The drug, venetoclax, is a BCL2 inhibitor that promotes apoptosis in cancer cells. The 'Apoptosis' pathway is directly related to the mechanism of action of venetoclax, as it disrupts the interaction between BCL2 and pro-apoptotic proteins, thereby promoting apoptosis.\",\n",
       "   ' The apoptosis pathway is directly targeted by venetoclax, as it inhibits the BCL2 protein which plays a crucial role in this process. By disrupting the interaction between BCL2 and pro-apoptotic proteins, venetoclax promotes apoptosis in cancer cells overexpressing BCL2.']},\n",
       " 'Intracellular signaling by second messengers': {'count': 1,\n",
       "  'rationales': [\" Venetoclax enhances T-cell effector function by increasing reactive oxygen species generation. The 'Intracellular signaling by second messengers' pathway plays a role in this process, as it involves the production and transmission of secondary messengers, which can trigger various cellular responses, including oxidative stress.\"]},\n",
       " 'MAPK family signaling cascades': {'count': 5,\n",
       "  'rationales': [\" Venetoclax's efficacy in AML is associated with NPM1 or IDH2 mutations and resistance is often due to activating signaling pathways such as FLT3 or RAS or biallelically perturbing TP53. The 'MAPK family signaling cascades' pathway includes FLT3 and RAS, suggesting its relevance to Venetoclax's efficacy and resistance.\",\n",
       "   ' Venetoclax has been shown to enhance T-cell effector function by increasing reactive oxygen species generation. Pathways involved in T-cell activation and regulation would therefore be relevant.',\n",
       "   \" The 'MAPK family signaling cascades' pathway is relevant as recent clinical trials have demonstrated the clinical benefit of venetoclax-based therapies in newly diagnosed AML, leading to the recent FDA approval of venetoclax in combination with hypomethylating agents or low-dose cytarabine for older adults with newly diagnosed AML. High response rates and durable remissions are typically associated with NPM1 or IDH2 mutations, with prolonged molecular remissions prevalent for NPM1 mutations. Primary and adaptive resistance to venetoclax-based combinations is most commonly characterized by acquisition or enrichment of clones activating signaling pathways such as FLT3 or RAS or biallelically perturbing TP53.\",\n",
       "   \" The 'MAPK family signaling cascades' pathway is relevant as it is involved in the regulation of cell proliferation, differentiation, and apoptosis, which are directly related to the mechanism of action of venetoclax.\",\n",
       "   \" The 'MAPK family signaling cascades' pathway might be involved in modulating the efficacy of venetoclax, as it plays a role in regulating various cellular processes, including proliferation, differentiation, and apoptosis, which can be affected by venetoclax.\"]},\n",
       " 'Biological oxidations': {'count': 3,\n",
       "  'rationales': [\" Venetoclax is primarily metabolized by CYP3A4. The 'Biological oxidations' pathway, which includes CYP3A4, is crucial for understanding the drug's metabolism and how it might interact with other substances that affect this pathway.\",\n",
       "   ' The metabolism of Venetoclax involves oxidative N-dealkylation, hydroxylation, and glucuronidation. Pathways involved in these metabolic processes would be relevant.',\n",
       "   \" Venetoclax has been shown to enhance T-cell effector function by increasing reactive oxygen species generation through inhibition of respiratory chain supercomplexes formation. The 'Biological oxidations' pathway is involved in this process as it includes reactions that produce reactive oxygen species.\"]},\n",
       " 'Cell Cycle, Mitotic': {'count': 4,\n",
       "  'rationales': [\" The 'Cell Cycle, Mitotic' pathway is relevant as Venetoclax disrupts the interaction between BCL2 and pro-apoptotic proteins, such as BAX and BAK, thereby promoting apoptosis in cancer cells that overexpress BCL2. This mechanism is particularly relevant in the treatment of CLL and AML, where BCL2 overexpression is a common feature and contributes to resistance to chemotherapy-induced apoptosis.\",\n",
       "   \" The 'Cell Cycle, Mitotic' pathway is relevant as Venetoclax disrupts the interaction between BCL2 and pro-apoptotic proteins, such as BAX and BAK, thereby promoting apoptosis in cancer cells that overexpress BCL2. This mechanism is particularly relevant in the treatment of chronic lymphocytic leukemia (CLL) and acute myeloid leukemia (AML), where BCL2 overexpression is a common feature and contributes to resistance to chemotherapy-induced apoptosis.\",\n",
       "   \" The 'Cell Cycle, Mitotic' pathway is crucial for the regulation of cell division and proliferation. Ven dellafaxine-based therapies have been shown to induce high response rates and durable remissions, particularly in cases with NPM1 or IDH2 mutations. These mutations are involved in cell cycle regulation, and thus, the 'Cell Cycle, Mitotic' pathway could modulate the efficacy of venetoclax.\",\n",
       "   \" The 'Cell Cycle, Mitotic' pathway is closely related to the action of venetoclax, which disrupts the interaction between BCL2 and pro-apoptotic proteins, thereby promoting apoptosis in cancer cells overexpressing BCL2falling under this category.\"]},\n",
       " 'Cytokine Signaling in Immune system': {'count': 4,\n",
       "  'rationales': [\" The 'Cytokine Signaling in Immune system' pathway is relevant as Venetoclax has been shown to enhance T-cell effector function. Understanding how cytokines are involved in this process can provide insights into the drug's mechanism of action.\",\n",
       "   \" Venetoclax is primarily metabolized by cytochrome P450 (CYP) 3A4. The 'CYP3A4-mediated drug metabolism' pathway is involved in this process as it includes the reactions catalyzed by CYP3A4.\",\n",
       "   \" The 'Cytokine Signaling in Immune system' pathway is relevant as venetoclax has been shown to enhance T-cell effector function by increasing reactive oxygen species generation through inhibition of respiratory chain supercomplexes formation.\",\n",
       "   \" The 'Cytokine Signaling in Immune system' pathway could be relevant, as venetoclax has been shown to enhance T-cell effector function by increasing reactive oxygen species generation.\"]},\n",
       " 'Cellular responses to stress': {'count': 5,\n",
       "  'rationales': [\" The 'Cellular responses to stress' pathway is relevant as Venetoclax enhances T-cell effector function by increasing reactive oxygen species generation, which is a cellular response to stress.\",\n",
       "   ' Venetoclax has been shown to enhance T-cell effector function by increasing reactive oxygen species generation. Pathways involved in oxidative stress and response would therefore be relevant.',\n",
       "   \" The 'Cellular responses to stress' pathway is relevant as Venetoclax disrupts the interaction between BCL2 and pro-apoptotic proteins, such as BAX and BAK, thereby promoting apoptosis in cancer cells that overexpress BCL2. This mechanism is particularly relevant in the treatment of chronic lymphocytic leukemia (CLL) and acute myeloid leukemia (AML), where BCL2 overexpression is a common feature and contributes to resistance to chemotherapy-induced apoptosis.\",\n",
       "   \" The 'Cellular responses to stress' pathway is relevant to venetoclax as it can induce a viral mimicry response in AML cells by activating the STING/cGAS pathway, thereby rendering the AML cells more susceptible to T cell-mediated cytotoxicity.\",\n",
       "   \" The 'Cellular responses to stress' pathway could be relevant, as venetoclax can induce cellular stress and activate various stress response pathways.\"]},\n",
       " 'DNA Damage Reversal': {'count': 3,\n",
       "  'rationales': [\" The 'DNA Damage Reversal' pathway is relevant as Venetoclax disrupts the interaction between BCL2 and pro-apoptotic proteins, such as BAX and BAK, thereby promoting apoptosis in cancer cells that overexpress BCL2. DNA damage can trigger apoptosis, and understanding how the drug affects this process can provide insights into its mechanism of action.\",\n",
       "   \" The 'DNA Damage Reversal' pathway is relevant as venetoclax can induce DNA damage, and the body's response to this damage can affect the efficacy of the drug.\",\n",
       "   \" The 'DNA Damage Repair' pathway might be involved in modulating the efficacy of venetoclax, as it plays a role in repairing DNA damage caused by venetoclax-induced apoptosis.\"]},\n",
       " 'Integrin signaling': {'count': 1,\n",
       "  'rationales': [\" The 'Integrin signaling' pathway is relevant as it plays a role in cell-cell and cell-matrix interactions, which can be affected by Venetoclax's mechanism of action.\"]},\n",
       " 'MTOR signalling': {'count': 5,\n",
       "  'rationales': [\" The 'MTOR signalling' pathway is relevant as it plays a role in cell growth, proliferation, and survival, which can be affected by Venetoclax's mechanism of action.\",\n",
       "   ' Venetoclax has been shown to disrupt the interaction between BCL2 and pro-apoptotic proteins, such as BAX and BAK. Pathways involved in these protein interactions and regulation would be relevant.',\n",
       "   \" The 'MTOR signalling' pathway is relevant as recent clinical trials have demonstrated the clinical benefit of venetoclax-based therapies in newly diagnosed AML, leading to Nadaptive resistance to venetoclax-based combinations is most commonly characterized by acquisition or enrichment of clones activating signaling pathways such as FLT3 or RAS or biallelically perturbing TP53.\",\n",
       "   \" The 'MTOR signalling' pathway is relevant as it is involved in the regulation of cell growth, proliferation, and survival, which are directly related to the mechanism of action of venetoclax.\",\n",
       "   \" The 'MTOR signalling' pathway could be relevant, given its role in regulating cell growth, proliferation, and metabolism, which can be affected by venetoclax-induced apoptosis and changes in the intracellular environment.\"]},\n",
       " 'Regulation of Insulin-like Growth Factor (IGF) transport and uptake by Insulin-like Growth Factor Binding Proteins (IGFBPs)': {'count': 2,\n",
       "  'rationales': [\" The 'Regulation of Insulin-like Growth Factor (IGF) transport and uptake by Insulin-like Growth Factor Binding Proteins (IGFBPs)' pathway is relevant as Venetoclax enhances T-cell effector function, and IGFs are involved in T-cell function.\",\n",
       "   \" The 'Regulation of Insulin-like Growth Factor (IGF) transport and uptake by Insulin-like Growth Factor Binding Proteins (IGFBPs)' pathway is relevant as venetoclax has been shown to enhance T-cell effector function by increasing reactive oxygen species generation through inhibition of respiratory chain supercomplexes formation.\"]},\n",
       " 'Signaling by NODAL': {'count': 1,\n",
       "  'rationales': [\" The 'Signaling by Notch' pathway is relevant as it plays a role in cell fate decisions, which can be affected by Venetoclax's mechanism of action.\"]},\n",
       " 'Signaling by Receptor Tyrosine Kinases': {'count': 4,\n",
       "  'rationales': [\" The 'Signaling by Receptor Tyrosine Kinases' pathway is relevant as it includes BCR-ABL, a relevant target in CML, and other tyrosine kinases that could be affected by Venetoclax's mechanism of action.\",\n",
       "   ' The drug, Venetoclax, is a potent and selective inhibitor of the BCL2 protein which plays a crucial role in apoptosis. Pathways involved in the regulation of apoptosis would therefore be relevant.',\n",
       "   \" The 'Signaling by Receptor Tyrosine Kinases' pathway is relevant as Venetoclax is primarily metabolized by cytochrome P450 (CYP) 3A4, with a minor contribution from CYP3A5. The major metabolic pathways involve oxidative N-dealkylation, hydroxylation, and glucuronidation. The primary metabolite, M3, retains approximately 20% of the parent compound's activity and is further metabolized by CYP3A4 and UGT1A1.\",\n",
       "   \" The 'Signaling by Receptor Tyrosine Kinases' pathway is relevant as it is involved in the regulation of cell proliferation, differentiation, and apoptosis, which are directly related to the mechanism of action of venetoclax.\"]},\n",
       " 'Transcriptional regulation of granulopoiesis': {'count': 1,\n",
       "  'rationales': [\" The 'Transcriptional regulation of granulopoiesis' pathway is relevant as it includes genes involved in the differentiation of granulocytes, which can be affected by Venetoclax's mechanism of action.\"]},\n",
       " 'Transmission across Chemical Synapses': {'count': 2,\n",
       "  'rationales': [\" The 'Transmission across Chemical Synapses' pathway is relevant as Venetoclax enhances T-cell effector function, and transmission across chemical synapses is crucial for T-cell function.\",\n",
       "   \"tha 'Transmission across Chemical Synapses' pathway might be involved in modulating the efficacy of venetoclax, as it plays a role in transmitting signals between neurons, which can be affected by venetoclax-induced apoptosis.\"]},\n",
       " 'Adaptive Immune System': {'count': 2,\n",
       "  'rationales': [' Venetoclax enhances T-cell effector function by increasing reactive oxygen species generation. Pathways involved in T-cell activation and regulation would therefore be relevant.',\n",
       "   \" The 'Adaptive Immune System' pathway could be relevant, as venetoclax has been shown to enhance T-cell effector function and can potentially modulate the immune response.\"]},\n",
       " 'Cell Cycle Checkpoints': {'count': 2,\n",
       "  'rationales': [' Venetoclax has been shown to disrupt the interaction between BCL2 and pro-apoptotic proteins, such as BAX and BAK. Pathways involved in these protein interactions and regulation would be relevant.',\n",
       "   \" The 'Cell Cycle Checkpoints' pathway could be involved in modulating the efficacy of venetoclax, as it plays a role in regulating the cell cycle and responds to DNA damage, which can be caused by venetoclax-induced apoptosis.\"]},\n",
       " 'Cytosolic iron-sulfur cluster assembly': {'count': 1,\n",
       "  'rationales': [' Venetoclax is primarily metabolized by cytochrome P450 (CYP) 3A4. Pathways involved in CYP3A4 metabolism would be relevant.']},\n",
       " 'Diseases of programmed cell death': {'count': 1,\n",
       "  'rationales': [' The drug, Venetoclax, is a potent and selective inhibitor of the BCL2 protein which plays a crucial role in apoptosis. Pathways involved in programmed cell death would therefore be relevant.']},\n",
       " 'Death Receptor Signaling': {'count': 1,\n",
       "  'rationales': [' The drug, Venetoclax, is a potent and selective inhibitor of the BCL2 protein which plays a crucial role in apoptosis. Pathways involved in the regulation of apoptosis would therefore be relevant.']},\n",
       " 'DNA Double-Strand Break Repair': {'count': 3,\n",
       "  'rationales': [' The metabolism of Venetoclax involves oxidative N-dealkylation, hydroxylation, and glucuronidation. Pathways involved in these metabolic processes would be relevant.',\n",
       "   \" The 'DNA Double-Strand Break Repair' pathway is relevant as recent clinical trials have demonstrated the clinical benefit of venetoclax-based therapies in newly diagnosed AML, leading to the recent FDA approval of venetoclax in combination with hypomethylating agents or low-dose cytarabine for older adults with newly diagnosed AML. High response rates and durable remissions are typically associated with NPM1 or IDH2 mutations, with prolonged molecular remissions prevalent for NPM1 mutations. Primary and adaptive resistance to venetoclax-based combinations is most commonly characterized by acquisition or enrichment of clones activating signaling pathways such as FLT3 or RAS or biallelically perturbing TP53.\",\n",
       "   \" The 'DNA Double-Strand Break Repair' pathway is relevant as venetoclax can induce DNA damage, and the body's response to this damage can affect the efficacy of the drug.\"]},\n",
       " 'Regulated Necrosis': {'count': 1,\n",
       "  'rationales': [' The drug, Venetoclax, is a potent and selective inhibitor of the BCL2 protein which plays a crucial role in apoptosis. Pathways involved in the regulation of apoptosis would therefore be relevant.']},\n",
       " 'Metabolism of lipids': {'count': 3,\n",
       "  'rationales': [' The metabolism of Venetoclax involves oxidative N-dealkylation, hydroxylation, and glucuronidation. Pathways involved in these metabolic processes would be relevant.',\n",
       "   \" The 'Metabolism of lipids' pathway is relevant as Venetoclax is primarily metabolized by cytochrome P450 (CYP) 3A4, with a minor contribution from CYP3A5. The major metabolic pathways involve oxidative N-dealkylation, hydroxylation, and glucuronidation. The primary metabolite, M3, retains approximately 20% of the parent compound's activity and is further metabolized by CYP3A4 and UGT1A1.\",\n",
       "   \" The 'Metabolism of lipids' pathway might be involved in modulating the efficacy of venetoclax, as it plays a role in regulating lipid metabolism, which can be affected by venetoclax-induced apoptosis.\"]},\n",
       " 'Cell junction organization': {'count': 1,\n",
       "  'rationales': [' Venetoclax has been shown to disrupt the interaction between BCL2 and pro-apoptotic proteins, such as BAX and BAK. Pathways involved in these protein interactions and regulation would be relevant.']},\n",
       " 'Mismatch Repair': {'count': 2,\n",
       "  'rationales': [\" The 'Mismatch Repair' pathway is relevant as recent clinical trials have demonstrated the clinical benefit of venetoclax-based therapies in newly diagnosed AML, leading to the recent FDA approval of venetoclax in combination with hypomethylating agents or low-dose cytarabine for older adults with newly diagnosed AML. High response rates and durable remissions are typically associated with NPM1 or IDH2 mutations, with prolonged molecular remissions prevalent for NPM1 mutations. Primary and adaptive resistance to venetoclax-based combinations is most commonly characterized by acquisition or enrichment of clones activating signaling pathways such as FLT3 or RAS or biallelically perturbing TP53.\",\n",
       "   \" The 'Mismatch Repair' pathway is relevant as it is involved in the repair of DNA damage, which can affect the efficacy of venetoclax.\"]},\n",
       " 'Macroautophagy': {'count': 2,\n",
       "  'rationales': [\" The 'Macroautophagy' pathway is relevant as recent clinical trials have demonstrated the clinical benefit of venetoclax-based therapies in newly diagnosed AML, leading to the recent FDA approval of venetoclax in combination with hypomethylating agents or low-dose cytarabine for older adults with newly diagnosed AML. High response rates and durable remissions are typically associated with NPM1 or IDH2 mutations, with prolonged molecular remissions prevalent for NPM1 mutations. Primary and adaptive resistance to venetoclax-based combinations is most commonly characterized by acquisition or enrichment of clones activating signaling pathways such as FLT3 or RAS or biallelically perturbing TP53.\",\n",
       "   \" The 'Macroautophagy' pathway is relevant as it is involved in the degradation and recycling of cellular components, which can affect the efficacy of venetoclax.\"]},\n",
       " 'Signaling by Nuclear Receptors': {'count': 1,\n",
       "  'rationales': [\" The 'Signaling by Nuclear Receptors' pathway is relevant as Venetoclax is primarily metabolized by cytochrome P450 (CYP) 3A4, with a minor contribution from CYP3A5. The major metabolic pathways involve oxidative N-dealkylation, hydroxylation, and glucuronidation. The primary metabolite, M3, retains approximately 20% of the parent compound's activity and is further metabolized by CYP3A4 and UGT1A1.\"]},\n",
       " 'Metabolism of carbohydrates': {'count': 1,\n",
       "  'rationales': [\" The 'Metabolism of carbohydrates' pathway is relevant as Venetoclax is primarily metabolized by cytochrome P450 (CYP) 3A4, with a minor contribution from CYP3A5. The major metabolic pathways involve oxidative N-dealkylation, hydroxylation, and glucuronidation. The primary metabolite, M3, retains approximately 20% of the parent compound's activity and is further metabolized by CYP3A4 and UGT1A1.\"]},\n",
       " 'Metabolism of amino acids and derivatives': {'count': 1,\n",
       "  'rationales': [\" The 'Metabolism of amino acids and derivatives' pathway is relevant as Venetoclax is primarily metabolized by cytochrome P450 (CYP) 3A4, with a minor contribution from CYP3A5. The major metabolic pathways involve oxidative N-dealkylation, hydroxylation, and glucuronidation. The primary metabolite, M3, retains approximately 20% of the parent compound's activity and is further metabolized by CYP3A4 and UGT1A1.\"]},\n",
       " 'DNA Damage Bypass': {'count': 1,\n",
       "  'rationales': [\" The 'DNA Damage Bypass' pathway is relevant as venetoclax can induce DNA damage, and the body's response to this damage can affect the efficacy of the drug.\"]},\n",
       " 'Transcriptional regulation of pluripotent stem cells': {'count': 2,\n",
       "  'rationales': [\" The 'Transcriptional regulation of pluripotent stem cells' pathway is relevant as venetoclax can induce DNA damage, and the body's response to this damage can affect the efficacy of the drug.\",\n",
       "   \" The 'Transcriptional regulation of pluripotent stem cells' pathway might be involved in modulating the efficacy of venetoclax, as it plays a role in regulating the differentiation of stem cells, which can be affected by venetoclax-induced apoptosis.\"]},\n",
       " 'Translation': {'count': 1,\n",
       "  'rationales': [\" The 'Translation' pathway is relevant as it is involved in the production of proteins, which can affect the efficacy of venetoclax.\"]},\n",
       " 'Innate Immune System': {'count': 1,\n",
       "  'rationales': [\" The 'Innate Immune System' pathway might be involved in modulating the efficacy of venetoclax, as it plays a role in the body's defense against pathogens and can be activated by venetoclax-induced apoptosis.\"]},\n",
       " 'Transcriptional regulation of testis differentiation': {'count': 1,\n",
       "  'rationales': [\" The 'Transcriptional regulation of testis differentiation' pathway could be relevant, as venetoclax has been shown to have off-target effects on testicular tissue and canವenetoclax-induced apoptosis.\"]},\n",
       " 'Signal regulatory protein family interactions': {'count': 1,\n",
       "  'rationales': [\" The 'Signal transduction by growth factor receptors and second messengers' pathway could be relevant, as venetoclax has been shown to enhance T-cell effector function and can potentially modulate the immune response.\"]}}"
      ]
     },
     "execution_count": 13,
     "metadata": {},
     "output_type": "execute_result"
    }
   ],
   "source": [
    "output_dict = self_consistency(dict_list)\n",
    "output_dict"
   ]
  },
  {
   "cell_type": "markdown",
   "metadata": {},
   "source": [
    "We then list pathways that were selected at least twice for the given drug"
   ]
  },
  {
   "cell_type": "code",
   "execution_count": 15,
   "metadata": {},
   "outputs": [
    {
     "name": "stdout",
     "output_type": "stream",
     "text": [
      "Apoptosis\n",
      "MAPK family signaling cascades\n",
      "Biological oxidations\n",
      "Cell Cycle, Mitotic\n",
      "Cytokine Signaling in Immune system\n",
      "Cellular responses to stress\n",
      "DNA Damage Reversal\n",
      "MTOR signalling\n",
      "Regulation of Insulin-like Growth Factor (IGF) transport and uptake by Insulin-like Growth Factor Binding Proteins (IGFBPs)\n",
      "Signaling by Receptor Tyrosine Kinases\n",
      "Transmission across Chemical Synapses\n",
      "Adaptive Immune System\n",
      "Cell Cycle Checkpoints\n",
      "DNA Double-Strand Break Repair\n",
      "Metabolism of lipids\n",
      "Mismatch Repair\n",
      "Macroautophagy\n",
      "Transcriptional regulation of pluripotent stem cells\n"
     ]
    }
   ],
   "source": [
    "#return only pathways with count > 2\n",
    "for key in output_dict.keys():\n",
    "    if output_dict[key]['count'] >= 2:\n",
    "        print(key)"
   ]
  },
  {
   "cell_type": "markdown",
   "metadata": {},
   "source": [
    "Considered than the obtain pathways we can recover the associated genes through the `get_pathway_genes` function"
   ]
  },
  {
   "cell_type": "code",
   "execution_count": 18,
   "metadata": {},
   "outputs": [],
   "source": [
    "#read the list of pathways together with reactome ids\n",
    "reactome_pathways_ids = pd.read_csv(data_path/'reactome'/'pathways_l1.csv')"
   ]
  },
  {
   "cell_type": "code",
   "execution_count": 20,
   "metadata": {},
   "outputs": [
    {
     "data": {
      "text/html": [
       "<div>\n",
       "<style scoped>\n",
       "    .dataframe tbody tr th:only-of-type {\n",
       "        vertical-align: middle;\n",
       "    }\n",
       "\n",
       "    .dataframe tbody tr th {\n",
       "        vertical-align: top;\n",
       "    }\n",
       "\n",
       "    .dataframe thead th {\n",
       "        text-align: right;\n",
       "    }\n",
       "</style>\n",
       "<table border=\"1\" class=\"dataframe\">\n",
       "  <thead>\n",
       "    <tr style=\"text-align: right;\">\n",
       "      <th></th>\n",
       "      <th>PathwayID</th>\n",
       "      <th>PathwayName</th>\n",
       "      <th>Layer</th>\n",
       "    </tr>\n",
       "  </thead>\n",
       "  <tbody>\n",
       "    <tr>\n",
       "      <th>5</th>\n",
       "      <td>R-HSA-109581</td>\n",
       "      <td>Apoptosis</td>\n",
       "      <td>1</td>\n",
       "    </tr>\n",
       "  </tbody>\n",
       "</table>\n",
       "</div>"
      ],
      "text/plain": [
       "      PathwayID PathwayName  Layer\n",
       "5  R-HSA-109581   Apoptosis      1"
      ]
     },
     "execution_count": 20,
     "metadata": {},
     "output_type": "execute_result"
    }
   ],
   "source": [
    "reactome_pathways_ids[reactome_pathways_ids['PathwayName']=='Apoptosis']"
   ]
  },
  {
   "cell_type": "code",
   "execution_count": 22,
   "metadata": {},
   "outputs": [
    {
     "data": {
      "text/plain": [
       "['CASP8',\n",
       " 'CASP3',\n",
       " 'DFFA',\n",
       " 'DFFB',\n",
       " 'KPNA1',\n",
       " 'KPNB1',\n",
       " 'H1-4',\n",
       " 'H1-5',\n",
       " 'H1-2',\n",
       " 'H1-3',\n",
       " 'H1-1',\n",
       " 'H1-0',\n",
       " 'HMGB2',\n",
       " 'HMGB1',\n",
       " 'APC',\n",
       " 'PRKCQ',\n",
       " 'CASP7',\n",
       " 'PTK2',\n",
       " 'SPTAN1',\n",
       " 'GAS2',\n",
       " 'DBNL',\n",
       " 'GSN',\n",
       " 'PLEC',\n",
       " 'VIM',\n",
       " 'ADD1',\n",
       " 'CASP6',\n",
       " 'MAPT',\n",
       " 'CLSPN',\n",
       " 'DSG2',\n",
       " 'OCLN',\n",
       " 'DSG1',\n",
       " 'DSP',\n",
       " 'CDH1',\n",
       " 'PKP1',\n",
       " 'CTNNB1',\n",
       " 'TJP2',\n",
       " 'DSG3',\n",
       " 'TJP1',\n",
       " 'ROCK1',\n",
       " 'SATB1',\n",
       " 'LMNB1',\n",
       " 'PRKCD',\n",
       " 'FNTA',\n",
       " 'BMX',\n",
       " 'BIRC2',\n",
       " 'BCAP31',\n",
       " 'STK24',\n",
       " 'ACIN1',\n",
       " 'STK26',\n",
       " 'DNM1L',\n",
       " 'PAK2',\n",
       " 'ARHGAP10',\n",
       " 'PSMD3',\n",
       " 'PSMA6',\n",
       " 'PSMD2',\n",
       " 'PSMA5',\n",
       " 'PSMD13',\n",
       " 'PSMA4',\n",
       " 'PSMD12',\n",
       " 'PSMA3',\n",
       " 'PSMD11',\n",
       " 'PSMA2',\n",
       " 'SEM1',\n",
       " 'PSMD10',\n",
       " 'PSMA1',\n",
       " 'PSMD1',\n",
       " 'PSMD14',\n",
       " 'PSMC6',\n",
       " 'PSMC5',\n",
       " 'PSMC4',\n",
       " 'PSMC3',\n",
       " 'PSMC2',\n",
       " 'PSMC1',\n",
       " 'PSMB9',\n",
       " 'PSMB8',\n",
       " 'PSMB11',\n",
       " 'PSME4',\n",
       " 'PSMB7',\n",
       " 'PSMB6',\n",
       " 'PSMA8',\n",
       " 'PSMF1',\n",
       " 'PSME3',\n",
       " 'PSMB5',\n",
       " 'PSME2',\n",
       " 'PSMB4',\n",
       " 'PSME1',\n",
       " 'PSMD9',\n",
       " 'PSMB3',\n",
       " 'PSMD8',\n",
       " 'PSMB2',\n",
       " 'PSMD7',\n",
       " 'PSMD6',\n",
       " 'PSMB10',\n",
       " 'PSMD5',\n",
       " 'PSMB1',\n",
       " 'PSMD4',\n",
       " 'PSMA7',\n",
       " 'UBC',\n",
       " 'UBB',\n",
       " 'UBA52',\n",
       " 'RPS27A',\n",
       " 'OMA1',\n",
       " 'OPA1',\n",
       " 'BID',\n",
       " 'NMT1',\n",
       " 'GZMB',\n",
       " 'MAPK8',\n",
       " 'BMF',\n",
       " 'DYNLL2',\n",
       " 'PPP3CC',\n",
       " 'PPP3R1',\n",
       " 'YWHAQ',\n",
       " 'YWHAH',\n",
       " 'YWHAG',\n",
       " 'YWHAB',\n",
       " 'YWHAZ',\n",
       " 'SFN',\n",
       " 'YWHAE',\n",
       " 'BAD',\n",
       " 'AKT3',\n",
       " 'AKT2',\n",
       " 'AKT1',\n",
       " 'BCL2',\n",
       " 'DYNLL1',\n",
       " 'BCL2L11',\n",
       " 'TP53',\n",
       " 'PMAIP1',\n",
       " 'E2F1',\n",
       " 'TFDP2',\n",
       " 'TFDP1',\n",
       " 'BBC3',\n",
       " 'TP63',\n",
       " 'TP73',\n",
       " 'TP53BP2',\n",
       " 'PPP1R13B',\n",
       " 'BAX',\n",
       " 'BCL2L1',\n",
       " 'STAT3',\n",
       " 'BAK1',\n",
       " 'DIABLO',\n",
       " 'CYCS',\n",
       " 'GSDMD',\n",
       " 'GSDME',\n",
       " 'CASP9',\n",
       " 'APAF1',\n",
       " 'XIAP',\n",
       " 'CARD8',\n",
       " 'APIP',\n",
       " 'AVEN',\n",
       " 'MAPK3',\n",
       " 'MAPK1',\n",
       " 'UACA',\n",
       " 'CDKN2A',\n",
       " 'C1QBP',\n",
       " 'TRAF2',\n",
       " 'TRADD',\n",
       " 'RIPK1',\n",
       " 'FADD',\n",
       " 'FASLG',\n",
       " 'FAS',\n",
       " 'TNFRSF10B',\n",
       " 'TNFRSF10A',\n",
       " 'TNFSF10',\n",
       " 'MC159L',\n",
       " 'CD14',\n",
       " 'TLR4',\n",
       " 'LY96',\n",
       " 'TICAM2',\n",
       " 'TICAM1',\n",
       " 'APPL1',\n",
       " 'DCC',\n",
       " 'UNC5B',\n",
       " 'DAPK2',\n",
       " 'DAPK3',\n",
       " 'DAPK1',\n",
       " 'UNC5A',\n",
       " 'MAGED1']"
      ]
     },
     "execution_count": 22,
     "metadata": {},
     "output_type": "execute_result"
    }
   ],
   "source": [
    "get_pathway_genes('R-HSA-109581')"
   ]
  }
 ],
 "metadata": {
  "kernelspec": {
   "display_name": "trt_xgboost",
   "language": "python",
   "name": "python3"
  },
  "language_info": {
   "codemirror_mode": {
    "name": "ipython",
    "version": 3
   },
   "file_extension": ".py",
   "mimetype": "text/x-python",
   "name": "python",
   "nbconvert_exporter": "python",
   "pygments_lexer": "ipython3",
   "version": "3.11.7"
  }
 },
 "nbformat": 4,
 "nbformat_minor": 2
}
