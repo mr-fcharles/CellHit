{
 "cells": [
  {
   "cell_type": "markdown",
   "metadata": {},
   "source": [
    "# 0. Libraries import"
   ]
  },
  {
   "cell_type": "markdown",
   "metadata": {},
   "source": [
    "We start by importing common needed libraries"
   ]
  },
  {
   "cell_type": "code",
   "execution_count": null,
   "metadata": {},
   "outputs": [],
   "source": [
    "import pandas as pd\n",
    "import numpy as np\n",
    "from pathlib import Path\n",
    "import sys\n",
    "import shap\n",
    "import matplotlib.pyplot as plt\n",
    "import pickle"
   ]
  },
  {
   "cell_type": "markdown",
   "metadata": {},
   "source": [
    "We than need to specify the folder in which the CellHit library is currently located and import needed functions from there"
   ]
  },
  {
   "cell_type": "code",
   "execution_count": 2,
   "metadata": {},
   "outputs": [],
   "source": [
    "library_path = Path('/home/fcarli/CellHit/') #set the path to the library\n",
    "sys.path.append(library_path) #add the library to the system path\n",
    "from CellHit.data import prepare_data\n",
    "from CellHit.data.metadata_processing import obtain_metadata,obtain_drugs_metadata #import the DatasetLoader and prepare_data functions\n",
    "from CellHit.search_and_inference import search, inference #import the search and inference functions\n",
    "from CellHit.models.model import EnsembleXGBoost"
   ]
  },
  {
   "cell_type": "markdown",
   "metadata": {},
   "source": [
    "# 1. Data loading"
   ]
  },
  {
   "cell_type": "markdown",
   "metadata": {},
   "source": [
    "Then we have to provide the path that contains all of the intermediate inputs needed to run the pipeline (transcriptomics, metadata, pathways, ...)"
   ]
  },
  {
   "cell_type": "code",
   "execution_count": 3,
   "metadata": {},
   "outputs": [],
   "source": [
    "#specify the data_path\n",
    "data_path = library_path/'data'"
   ]
  },
  {
   "cell_type": "markdown",
   "metadata": {},
   "source": [
    "We now specify the dataset wrt which we like to perform the training procedure"
   ]
  },
  {
   "cell_type": "code",
   "execution_count": 4,
   "metadata": {},
   "outputs": [],
   "source": [
    "#specify the dataset you want to use (possibilities are 'gdsc' or 'prism')\n",
    "dataset = 'gdsc'"
   ]
  },
  {
   "cell_type": "markdown",
   "metadata": {},
   "source": [
    "Once we specified all of these informations we can explore both drugs and cell-drug pairs metadata"
   ]
  },
  {
   "cell_type": "code",
   "execution_count": 5,
   "metadata": {},
   "outputs": [],
   "source": [
    "#in order to check which drugs are available we can leverage the dedicated functions in the library\n",
    "metadata = obtain_metadata(dataset=dataset,path=data_path)\n",
    "drugs_metadata = obtain_drugs_metadata(dataset=dataset,path=data_path)"
   ]
  },
  {
   "cell_type": "markdown",
   "metadata": {},
   "source": [
    "The target is specified in the Y column of the metedata folder. Recall that for the GDSC dataset Y is specified as ln(IC50) whereas for PRISM is a log-fold change"
   ]
  },
  {
   "cell_type": "code",
   "execution_count": 6,
   "metadata": {},
   "outputs": [
    {
     "data": {
      "text/html": [
       "<div>\n",
       "<style scoped>\n",
       "    .dataframe tbody tr th:only-of-type {\n",
       "        vertical-align: middle;\n",
       "    }\n",
       "\n",
       "    .dataframe tbody tr th {\n",
       "        vertical-align: top;\n",
       "    }\n",
       "\n",
       "    .dataframe thead th {\n",
       "        text-align: right;\n",
       "    }\n",
       "</style>\n",
       "<table border=\"1\" class=\"dataframe\">\n",
       "  <thead>\n",
       "    <tr style=\"text-align: right;\">\n",
       "      <th></th>\n",
       "      <th>COSMICID</th>\n",
       "      <th>DrugID</th>\n",
       "      <th>Drug</th>\n",
       "      <th>Y</th>\n",
       "      <th>DepMapID</th>\n",
       "      <th>OncotreeCode</th>\n",
       "      <th>OncotreeSubtype</th>\n",
       "      <th>OncotreePrimaryDisease</th>\n",
       "      <th>OncotreeLineage</th>\n",
       "    </tr>\n",
       "  </thead>\n",
       "  <tbody>\n",
       "    <tr>\n",
       "      <th>0</th>\n",
       "      <td>683667</td>\n",
       "      <td>1003</td>\n",
       "      <td>Camptothecin</td>\n",
       "      <td>-1.462148</td>\n",
       "      <td>ACH-001711</td>\n",
       "      <td>PNET</td>\n",
       "      <td>Primitive Neuroectodermal Tumor</td>\n",
       "      <td>Embryonal Tumor</td>\n",
       "      <td>CNS/Brain</td>\n",
       "    </tr>\n",
       "    <tr>\n",
       "      <th>1</th>\n",
       "      <td>684052</td>\n",
       "      <td>1003</td>\n",
       "      <td>Camptothecin</td>\n",
       "      <td>-4.869447</td>\n",
       "      <td>ACH-000052</td>\n",
       "      <td>ES</td>\n",
       "      <td>Ewing Sarcoma</td>\n",
       "      <td>Ewing Sarcoma</td>\n",
       "      <td>Bone</td>\n",
       "    </tr>\n",
       "    <tr>\n",
       "      <th>2</th>\n",
       "      <td>684057</td>\n",
       "      <td>1003</td>\n",
       "      <td>Camptothecin</td>\n",
       "      <td>-3.360684</td>\n",
       "      <td>ACH-002106</td>\n",
       "      <td>ES</td>\n",
       "      <td>Ewing Sarcoma</td>\n",
       "      <td>Ewing Sarcoma</td>\n",
       "      <td>Bone</td>\n",
       "    </tr>\n",
       "    <tr>\n",
       "      <th>3</th>\n",
       "      <td>684059</td>\n",
       "      <td>1003</td>\n",
       "      <td>Camptothecin</td>\n",
       "      <td>-5.045014</td>\n",
       "      <td>ACH-002108</td>\n",
       "      <td>ES</td>\n",
       "      <td>Ewing Sarcoma</td>\n",
       "      <td>Ewing Sarcoma</td>\n",
       "      <td>Bone</td>\n",
       "    </tr>\n",
       "    <tr>\n",
       "      <th>4</th>\n",
       "      <td>684062</td>\n",
       "      <td>1003</td>\n",
       "      <td>Camptothecin</td>\n",
       "      <td>-3.741620</td>\n",
       "      <td>ACH-002111</td>\n",
       "      <td>ES</td>\n",
       "      <td>Ewing Sarcoma</td>\n",
       "      <td>Ewing Sarcoma</td>\n",
       "      <td>Bone</td>\n",
       "    </tr>\n",
       "  </tbody>\n",
       "</table>\n",
       "</div>"
      ],
      "text/plain": [
       "   COSMICID  DrugID          Drug         Y    DepMapID OncotreeCode  \\\n",
       "0    683667    1003  Camptothecin -1.462148  ACH-001711         PNET   \n",
       "1    684052    1003  Camptothecin -4.869447  ACH-000052           ES   \n",
       "2    684057    1003  Camptothecin -3.360684  ACH-002106           ES   \n",
       "3    684059    1003  Camptothecin -5.045014  ACH-002108           ES   \n",
       "4    684062    1003  Camptothecin -3.741620  ACH-002111           ES   \n",
       "\n",
       "                   OncotreeSubtype OncotreePrimaryDisease OncotreeLineage  \n",
       "0  Primitive Neuroectodermal Tumor        Embryonal Tumor       CNS/Brain  \n",
       "1                    Ewing Sarcoma          Ewing Sarcoma            Bone  \n",
       "2                    Ewing Sarcoma          Ewing Sarcoma            Bone  \n",
       "3                    Ewing Sarcoma          Ewing Sarcoma            Bone  \n",
       "4                    Ewing Sarcoma          Ewing Sarcoma            Bone  "
      ]
     },
     "execution_count": 6,
     "metadata": {},
     "output_type": "execute_result"
    }
   ],
   "source": [
    "metadata.head()"
   ]
  },
  {
   "cell_type": "markdown",
   "metadata": {},
   "source": [
    "We can now inspect given metadata for the drugs"
   ]
  },
  {
   "cell_type": "code",
   "execution_count": 7,
   "metadata": {},
   "outputs": [
    {
     "data": {
      "text/html": [
       "<div>\n",
       "<style scoped>\n",
       "    .dataframe tbody tr th:only-of-type {\n",
       "        vertical-align: middle;\n",
       "    }\n",
       "\n",
       "    .dataframe tbody tr th {\n",
       "        vertical-align: top;\n",
       "    }\n",
       "\n",
       "    .dataframe thead th {\n",
       "        text-align: right;\n",
       "    }\n",
       "</style>\n",
       "<table border=\"1\" class=\"dataframe\">\n",
       "  <thead>\n",
       "    <tr style=\"text-align: right;\">\n",
       "      <th></th>\n",
       "      <th>DrugID</th>\n",
       "      <th>Drug</th>\n",
       "      <th>PUTATIVE_TARGET</th>\n",
       "      <th>MOA</th>\n",
       "      <th>DRUG_SYNONYMS</th>\n",
       "      <th>SMILES</th>\n",
       "      <th>repurposing_target</th>\n",
       "    </tr>\n",
       "  </thead>\n",
       "  <tbody>\n",
       "    <tr>\n",
       "      <th>0</th>\n",
       "      <td>1003</td>\n",
       "      <td>Camptothecin</td>\n",
       "      <td>TOP1</td>\n",
       "      <td>DNA replication</td>\n",
       "      <td>Camptothecine, (+)-Camptothecin</td>\n",
       "      <td>CC[C@@]1(C2=C(COC1=O)C(=O)N3CC4=CC5=CC=CC=C5N=...</td>\n",
       "      <td>TOP1</td>\n",
       "    </tr>\n",
       "    <tr>\n",
       "      <th>1</th>\n",
       "      <td>1004</td>\n",
       "      <td>Vinblastine</td>\n",
       "      <td>Microtubule destabiliser</td>\n",
       "      <td>Mitosis</td>\n",
       "      <td>Velban</td>\n",
       "      <td>CC[C@@]1(C[C@H]2C[C@@](C3=C(CCN(C2)C1)C4=CC=CC...</td>\n",
       "      <td>TUBB</td>\n",
       "    </tr>\n",
       "    <tr>\n",
       "      <th>2</th>\n",
       "      <td>1005</td>\n",
       "      <td>Cisplatin</td>\n",
       "      <td>DNA crosslinker</td>\n",
       "      <td>DNA replication</td>\n",
       "      <td>cis-Diammineplatinum(II) dichloride, Platinol,...</td>\n",
       "      <td>N.N.Cl[Pt]Cl</td>\n",
       "      <td>DNA</td>\n",
       "    </tr>\n",
       "    <tr>\n",
       "      <th>3</th>\n",
       "      <td>1006</td>\n",
       "      <td>Cytarabine</td>\n",
       "      <td>Antimetabolite</td>\n",
       "      <td>Other</td>\n",
       "      <td>Ara-Cytidine, Arabinosyl Cytosine, U-19920</td>\n",
       "      <td>C1=CN(C(=O)N=C1N)[C@H]2[C@H]([C@@H]([C@H](O2)C...</td>\n",
       "      <td>DNA synthesis</td>\n",
       "    </tr>\n",
       "    <tr>\n",
       "      <th>4</th>\n",
       "      <td>1007</td>\n",
       "      <td>Docetaxel</td>\n",
       "      <td>Microtubule stabiliser</td>\n",
       "      <td>Mitosis</td>\n",
       "      <td>RP-56976, Taxotere</td>\n",
       "      <td>CC1=C2[C@H](C(=O)[C@@]3([C@H](C[C@@H]4[C@]([C@...</td>\n",
       "      <td>TUBB</td>\n",
       "    </tr>\n",
       "  </tbody>\n",
       "</table>\n",
       "</div>"
      ],
      "text/plain": [
       "   DrugID          Drug           PUTATIVE_TARGET              MOA  \\\n",
       "0    1003  Camptothecin                      TOP1  DNA replication   \n",
       "1    1004   Vinblastine  Microtubule destabiliser          Mitosis   \n",
       "2    1005     Cisplatin           DNA crosslinker  DNA replication   \n",
       "3    1006    Cytarabine            Antimetabolite            Other   \n",
       "4    1007     Docetaxel    Microtubule stabiliser          Mitosis   \n",
       "\n",
       "                                       DRUG_SYNONYMS  \\\n",
       "0                    Camptothecine, (+)-Camptothecin   \n",
       "1                                             Velban   \n",
       "2  cis-Diammineplatinum(II) dichloride, Platinol,...   \n",
       "3         Ara-Cytidine, Arabinosyl Cytosine, U-19920   \n",
       "4                                 RP-56976, Taxotere   \n",
       "\n",
       "                                              SMILES repurposing_target  \n",
       "0  CC[C@@]1(C2=C(COC1=O)C(=O)N3CC4=CC5=CC=CC=C5N=...               TOP1  \n",
       "1  CC[C@@]1(C[C@H]2C[C@@](C3=C(CCN(C2)C1)C4=CC=CC...               TUBB  \n",
       "2                                       N.N.Cl[Pt]Cl                DNA  \n",
       "3  C1=CN(C(=O)N=C1N)[C@H]2[C@H]([C@@H]([C@H](O2)C...      DNA synthesis  \n",
       "4  CC1=C2[C@H](C(=O)[C@@]3([C@H](C[C@@H]4[C@]([C@...               TUBB  "
      ]
     },
     "execution_count": 7,
     "metadata": {},
     "output_type": "execute_result"
    }
   ],
   "source": [
    "drugs_metadata.head()"
   ]
  },
  {
   "cell_type": "markdown",
   "metadata": {},
   "source": [
    "We can then set parameters that will identify the drug that we want to model. The function identifies specific drugs using internal drug ids (in the case of GDSC we use their internal drugs ids). In order to lookup a specific drug we suggest to lookup for the needed drug id in `drugs_metadata`"
   ]
  },
  {
   "cell_type": "code",
   "execution_count": 8,
   "metadata": {},
   "outputs": [],
   "source": [
    "#set data parameters\n",
    "drugID = 1909\n",
    "random_state = 0\n",
    "gene_selection_mode = 'moa_primed' #can be 'all_genes' or 'moa_primed'\n",
    "use_external_datasets = False\n",
    "celligner_output_path = data_path/'transcriptomics/celligner_CCLE_TCGA.feather' #path points to the alligned transcriptomics data (using Celligner)\n",
    "use_dumped_loaders = False #optional to speed up the computations"
   ]
  },
  {
   "cell_type": "code",
   "execution_count": 9,
   "metadata": {},
   "outputs": [],
   "source": [
    "#obtain the data\n",
    "data_dict = prepare_data(drugID, dataset, random_state, \n",
    "                    gene_selection_mode, \n",
    "                    use_external_datasets=use_external_datasets,\n",
    "                    data_path=data_path,celligner_output_path=celligner_output_path,\n",
    "                    use_dumped_loaders=use_dumped_loaders)"
   ]
  },
  {
   "cell_type": "markdown",
   "metadata": {},
   "source": [
    "As the name suggests `data_dict` is a dictionary containing all of the data needed to train the MOA primed model (formatted in the required way). We can however inspect its keys in order to understand better what we have"
   ]
  },
  {
   "cell_type": "code",
   "execution_count": 10,
   "metadata": {},
   "outputs": [
    {
     "data": {
      "text/plain": [
       "dict_keys(['cv_data', 'genes', 'loader', 'test_X', 'test_Y', 'test_indexes'])"
      ]
     },
     "execution_count": 10,
     "metadata": {},
     "output_type": "execute_result"
    }
   ],
   "source": [
    "data_dict.keys()"
   ]
  },
  {
   "cell_type": "markdown",
   "metadata": {},
   "source": [
    "Note that the `preapare_data` function takes care of fetching the genes specific to the drug of interest "
   ]
  },
  {
   "cell_type": "code",
   "execution_count": 11,
   "metadata": {},
   "outputs": [
    {
     "name": "stdout",
     "output_type": "stream",
     "text": [
      "3769\n",
      "['ESR1', 'EP400', 'SULT1A4', 'EDEM1', 'GSS']\n"
     ]
    }
   ],
   "source": [
    "print(len(data_dict['genes']))\n",
    "print(data_dict['genes'][0:5])"
   ]
  },
  {
   "cell_type": "markdown",
   "metadata": {},
   "source": [
    "# 2. Model training"
   ]
  },
  {
   "cell_type": "markdown",
   "metadata": {},
   "source": [
    "We can than take advantage of the `search` function contained in the CellHit library to perform hyperparameter optimization of the proposed model"
   ]
  },
  {
   "cell_type": "code",
   "execution_count": 12,
   "metadata": {},
   "outputs": [
    {
     "name": "stderr",
     "output_type": "stream",
     "text": [
      "``multivariate`` option is an experimental feature. The interface can change in the future.\n",
      "[I 2024-08-30 15:22:16,424] A new study created in memory with name: no-name-f3b3d3b7-1bc9-4fdb-a624-50c6093d8874\n",
      "set_metric_names is experimental (supported from v3.2.0). The interface can change in the future.\n",
      "[I 2024-08-30 15:22:28,460] Trial 0 finished with values: {'MSE': 0.4248423228085889, 'Corr': 0.6870134527558927} and parameters: {'eta': 0.5533253688880515, 'learning_rate': 0.2148416205453534, 'n_estimators': 1153, 'max_depth': 11, 'min_child_weight': 5, 'subsample': 0.8229470565333281, 'colsample_bytree': 0.7187936056313462, 'gamma': 0.8917730007820798, 'early_stopping_rounds': 97, 'lambda': 1.4586037970644443, 'sampling_method': 'uniform'}. \n",
      "[I 2024-08-30 15:22:41,670] Trial 1 finished with values: {'MSE': 0.41112594313751777, 'Corr': 0.6976193853319161} and parameters: {'eta': 0.37424547426203003, 'learning_rate': 0.23458129792653187, 'n_estimators': 1249, 'max_depth': 6, 'min_child_weight': 3, 'subsample': 0.5880823655827349, 'colsample_bytree': 0.7368796995313517, 'gamma': 0.8299149509013163, 'early_stopping_rounds': 100, 'lambda': 1.4214858751298034, 'sampling_method': 'uniform'}. \n",
      "[I 2024-08-30 15:22:52,623] Trial 2 finished with values: {'MSE': 0.3998431726948864, 'Corr': 0.7109348711994582} and parameters: {'eta': 0.3894092693433491, 'learning_rate': 0.1577653481287704, 'n_estimators': 1098, 'max_depth': 6, 'min_child_weight': 5, 'subsample': 0.6232729888616473, 'colsample_bytree': 0.7619750884177012, 'gamma': 0.636408498594761, 'early_stopping_rounds': 57, 'lambda': 1.0894611728868169, 'sampling_method': 'uniform'}. \n",
      "[I 2024-08-30 15:23:02,992] Trial 3 finished with values: {'MSE': 0.41479033892404243, 'Corr': 0.6984400660155431} and parameters: {'eta': 0.13763495354410332, 'learning_rate': 0.12556874323240563, 'n_estimators': 1225, 'max_depth': 8, 'min_child_weight': 5, 'subsample': 0.6745321165084496, 'colsample_bytree': 0.7094794984016741, 'gamma': 0.45769405123626894, 'early_stopping_rounds': 56, 'lambda': 0.6871380290983808, 'sampling_method': 'gradient_based'}. \n",
      "[I 2024-08-30 15:23:12,334] Trial 4 finished with values: {'MSE': 0.40731770183382005, 'Corr': 0.7031430970482644} and parameters: {'eta': 0.23204901820306886, 'learning_rate': 0.14601667718858552, 'n_estimators': 1198, 'max_depth': 5, 'min_child_weight': 5, 'subsample': 0.6150589572836799, 'colsample_bytree': 0.7826647022111303, 'gamma': 0.45402785637794996, 'early_stopping_rounds': 43, 'lambda': 1.8447504458399515, 'sampling_method': 'uniform'}. \n"
     ]
    }
   ],
   "source": [
    "#set model parameters\n",
    "n_trials = 5\n",
    "n_startup_trials = 1\n",
    "cv_iterations = 3\n",
    "num_parallel_tree = 5\n",
    "gpuID = 0\n",
    "\n",
    "#launch the hyperparameter search procedure\n",
    "best_params, study = search(n_trials=n_trials, n_startup_trials=n_startup_trials,\n",
    "                                cv_iterations=cv_iterations, num_parallel_tree=num_parallel_tree, gpuID=gpuID, random_state=random_state,\n",
    "                                **data_dict)"
   ]
  },
  {
   "cell_type": "markdown",
   "metadata": {},
   "source": [
    "Once finished we can acces the set of parameters with the highest correlation score as follows"
   ]
  },
  {
   "cell_type": "code",
   "execution_count": 13,
   "metadata": {},
   "outputs": [
    {
     "data": {
      "text/plain": [
       "{'eta': 0.3894092693433491,\n",
       " 'learning_rate': 0.1577653481287704,\n",
       " 'n_estimators': 1098,\n",
       " 'max_depth': 6,\n",
       " 'min_child_weight': 5,\n",
       " 'subsample': 0.6232729888616473,\n",
       " 'colsample_bytree': 0.7619750884177012,\n",
       " 'gamma': 0.636408498594761,\n",
       " 'early_stopping_rounds': 57,\n",
       " 'lambda': 1.0894611728868169,\n",
       " 'sampling_method': 'uniform',\n",
       " 'device': 'cuda:0',\n",
       " 'tree_method': 'hist',\n",
       " 'objective': 'reg:squarederror',\n",
       " 'eval_metric': 'rmse',\n",
       " 'num_parallel_tree': 5}"
      ]
     },
     "execution_count": 13,
     "metadata": {},
     "output_type": "execute_result"
    }
   ],
   "source": [
    "best_params"
   ]
  },
  {
   "cell_type": "markdown",
   "metadata": {},
   "source": [
    "If one is interested in the full study hyperparameters those can be found by callling"
   ]
  },
  {
   "cell_type": "code",
   "execution_count": 14,
   "metadata": {},
   "outputs": [
    {
     "data": {
      "text/html": [
       "<div>\n",
       "<style scoped>\n",
       "    .dataframe tbody tr th:only-of-type {\n",
       "        vertical-align: middle;\n",
       "    }\n",
       "\n",
       "    .dataframe tbody tr th {\n",
       "        vertical-align: top;\n",
       "    }\n",
       "\n",
       "    .dataframe thead th {\n",
       "        text-align: right;\n",
       "    }\n",
       "</style>\n",
       "<table border=\"1\" class=\"dataframe\">\n",
       "  <thead>\n",
       "    <tr style=\"text-align: right;\">\n",
       "      <th></th>\n",
       "      <th>number</th>\n",
       "      <th>values_Corr</th>\n",
       "      <th>values_MSE</th>\n",
       "      <th>datetime_start</th>\n",
       "      <th>datetime_complete</th>\n",
       "      <th>duration</th>\n",
       "      <th>params_colsample_bytree</th>\n",
       "      <th>params_early_stopping_rounds</th>\n",
       "      <th>params_eta</th>\n",
       "      <th>params_gamma</th>\n",
       "      <th>params_lambda</th>\n",
       "      <th>params_learning_rate</th>\n",
       "      <th>params_max_depth</th>\n",
       "      <th>params_min_child_weight</th>\n",
       "      <th>params_n_estimators</th>\n",
       "      <th>params_sampling_method</th>\n",
       "      <th>params_subsample</th>\n",
       "      <th>state</th>\n",
       "    </tr>\n",
       "  </thead>\n",
       "  <tbody>\n",
       "    <tr>\n",
       "      <th>0</th>\n",
       "      <td>0</td>\n",
       "      <td>0.687013</td>\n",
       "      <td>0.424842</td>\n",
       "      <td>2024-08-30 15:22:16.425535</td>\n",
       "      <td>2024-08-30 15:22:28.459853</td>\n",
       "      <td>0 days 00:00:12.034318</td>\n",
       "      <td>0.718794</td>\n",
       "      <td>97</td>\n",
       "      <td>0.553325</td>\n",
       "      <td>0.891773</td>\n",
       "      <td>1.458604</td>\n",
       "      <td>0.214842</td>\n",
       "      <td>11</td>\n",
       "      <td>5</td>\n",
       "      <td>1153</td>\n",
       "      <td>uniform</td>\n",
       "      <td>0.822947</td>\n",
       "      <td>COMPLETE</td>\n",
       "    </tr>\n",
       "    <tr>\n",
       "      <th>1</th>\n",
       "      <td>1</td>\n",
       "      <td>0.697619</td>\n",
       "      <td>0.411126</td>\n",
       "      <td>2024-08-30 15:22:28.461258</td>\n",
       "      <td>2024-08-30 15:22:41.670633</td>\n",
       "      <td>0 days 00:00:13.209375</td>\n",
       "      <td>0.736880</td>\n",
       "      <td>100</td>\n",
       "      <td>0.374245</td>\n",
       "      <td>0.829915</td>\n",
       "      <td>1.421486</td>\n",
       "      <td>0.234581</td>\n",
       "      <td>6</td>\n",
       "      <td>3</td>\n",
       "      <td>1249</td>\n",
       "      <td>uniform</td>\n",
       "      <td>0.588082</td>\n",
       "      <td>COMPLETE</td>\n",
       "    </tr>\n",
       "    <tr>\n",
       "      <th>2</th>\n",
       "      <td>2</td>\n",
       "      <td>0.710935</td>\n",
       "      <td>0.399843</td>\n",
       "      <td>2024-08-30 15:22:41.671797</td>\n",
       "      <td>2024-08-30 15:22:52.623181</td>\n",
       "      <td>0 days 00:00:10.951384</td>\n",
       "      <td>0.761975</td>\n",
       "      <td>57</td>\n",
       "      <td>0.389409</td>\n",
       "      <td>0.636408</td>\n",
       "      <td>1.089461</td>\n",
       "      <td>0.157765</td>\n",
       "      <td>6</td>\n",
       "      <td>5</td>\n",
       "      <td>1098</td>\n",
       "      <td>uniform</td>\n",
       "      <td>0.623273</td>\n",
       "      <td>COMPLETE</td>\n",
       "    </tr>\n",
       "    <tr>\n",
       "      <th>3</th>\n",
       "      <td>3</td>\n",
       "      <td>0.698440</td>\n",
       "      <td>0.414790</td>\n",
       "      <td>2024-08-30 15:22:52.624233</td>\n",
       "      <td>2024-08-30 15:23:02.991872</td>\n",
       "      <td>0 days 00:00:10.367639</td>\n",
       "      <td>0.709479</td>\n",
       "      <td>56</td>\n",
       "      <td>0.137635</td>\n",
       "      <td>0.457694</td>\n",
       "      <td>0.687138</td>\n",
       "      <td>0.125569</td>\n",
       "      <td>8</td>\n",
       "      <td>5</td>\n",
       "      <td>1225</td>\n",
       "      <td>gradient_based</td>\n",
       "      <td>0.674532</td>\n",
       "      <td>COMPLETE</td>\n",
       "    </tr>\n",
       "    <tr>\n",
       "      <th>4</th>\n",
       "      <td>4</td>\n",
       "      <td>0.703143</td>\n",
       "      <td>0.407318</td>\n",
       "      <td>2024-08-30 15:23:02.993571</td>\n",
       "      <td>2024-08-30 15:23:12.334047</td>\n",
       "      <td>0 days 00:00:09.340476</td>\n",
       "      <td>0.782665</td>\n",
       "      <td>43</td>\n",
       "      <td>0.232049</td>\n",
       "      <td>0.454028</td>\n",
       "      <td>1.844750</td>\n",
       "      <td>0.146017</td>\n",
       "      <td>5</td>\n",
       "      <td>5</td>\n",
       "      <td>1198</td>\n",
       "      <td>uniform</td>\n",
       "      <td>0.615059</td>\n",
       "      <td>COMPLETE</td>\n",
       "    </tr>\n",
       "  </tbody>\n",
       "</table>\n",
       "</div>"
      ],
      "text/plain": [
       "   number  values_Corr  values_MSE             datetime_start  \\\n",
       "0       0     0.687013    0.424842 2024-08-30 15:22:16.425535   \n",
       "1       1     0.697619    0.411126 2024-08-30 15:22:28.461258   \n",
       "2       2     0.710935    0.399843 2024-08-30 15:22:41.671797   \n",
       "3       3     0.698440    0.414790 2024-08-30 15:22:52.624233   \n",
       "4       4     0.703143    0.407318 2024-08-30 15:23:02.993571   \n",
       "\n",
       "           datetime_complete               duration  params_colsample_bytree  \\\n",
       "0 2024-08-30 15:22:28.459853 0 days 00:00:12.034318                 0.718794   \n",
       "1 2024-08-30 15:22:41.670633 0 days 00:00:13.209375                 0.736880   \n",
       "2 2024-08-30 15:22:52.623181 0 days 00:00:10.951384                 0.761975   \n",
       "3 2024-08-30 15:23:02.991872 0 days 00:00:10.367639                 0.709479   \n",
       "4 2024-08-30 15:23:12.334047 0 days 00:00:09.340476                 0.782665   \n",
       "\n",
       "   params_early_stopping_rounds  params_eta  params_gamma  params_lambda  \\\n",
       "0                            97    0.553325      0.891773       1.458604   \n",
       "1                           100    0.374245      0.829915       1.421486   \n",
       "2                            57    0.389409      0.636408       1.089461   \n",
       "3                            56    0.137635      0.457694       0.687138   \n",
       "4                            43    0.232049      0.454028       1.844750   \n",
       "\n",
       "   params_learning_rate  params_max_depth  params_min_child_weight  \\\n",
       "0              0.214842                11                        5   \n",
       "1              0.234581                 6                        3   \n",
       "2              0.157765                 6                        5   \n",
       "3              0.125569                 8                        5   \n",
       "4              0.146017                 5                        5   \n",
       "\n",
       "   params_n_estimators params_sampling_method  params_subsample     state  \n",
       "0                 1153                uniform          0.822947  COMPLETE  \n",
       "1                 1249                uniform          0.588082  COMPLETE  \n",
       "2                 1098                uniform          0.623273  COMPLETE  \n",
       "3                 1225         gradient_based          0.674532  COMPLETE  \n",
       "4                 1198                uniform          0.615059  COMPLETE  "
      ]
     },
     "execution_count": 14,
     "metadata": {},
     "output_type": "execute_result"
    }
   ],
   "source": [
    "study.trials_dataframe()"
   ]
  },
  {
   "cell_type": "markdown",
   "metadata": {},
   "source": [
    "# 2b. Load pre-trained models"
   ]
  },
  {
   "cell_type": "markdown",
   "metadata": {},
   "source": [
    "Alternatively, one can load pre-trained models already trained by us"
   ]
  },
  {
   "cell_type": "code",
   "execution_count": 15,
   "metadata": {},
   "outputs": [],
   "source": [
    "#drugID = 1909\n",
    "#pretrained_path = Path(f'/home/fcarli/CellHit/results/gdsc/search_and_inference/moa_primed/pretrained_GDSC/{drugID}/')\n",
    "#pretrained_model = EnsembleXGBoost.load_model(pretrained_path)"
   ]
  },
  {
   "cell_type": "markdown",
   "metadata": {},
   "source": [
    "# 3. Inference on internal data (cell lines)"
   ]
  },
  {
   "cell_type": "markdown",
   "metadata": {},
   "source": [
    "The inference on the internal data then can be called by simply leveraging the `inference` function "
   ]
  },
  {
   "cell_type": "code",
   "execution_count": 16,
   "metadata": {},
   "outputs": [],
   "source": [
    "inference_results = inference(\n",
    "        model= pretrained_model if 'pretrained_model' in locals() else None, #load only if pretrained model is available\n",
    "        best_params=best_params, \n",
    "        refit=False if 'pretrained_model' in locals() else True,\n",
    "        internal_inference=True, \n",
    "        gene_selection_mode=gene_selection_mode, \n",
    "        return_model=False if 'pretrained_model' in locals() else True,\n",
    "        **data_dict)"
   ]
  },
  {
   "cell_type": "code",
   "execution_count": 17,
   "metadata": {},
   "outputs": [
    {
     "data": {
      "text/plain": [
       "{'predictions': array([ 6.02159321e-01,  3.62932324e-01,  5.57025254e-01, -1.20417751e-01,\n",
       "         2.37049937e-01, -9.43181217e-01,  4.47929114e-01,  3.07666659e-01,\n",
       "         1.68168485e-01,  2.37747967e-01,  2.00382188e-01,  1.99879646e-01,\n",
       "         5.58993220e-01,  6.69161618e-01,  5.54701546e-03,  6.25645578e-01,\n",
       "         1.16259359e-01, -1.95886362e+00,  3.76296788e-01, -2.35163617e+00,\n",
       "         2.18924135e-04,  4.09892090e-02,  4.60434824e-01,  4.34352636e-01,\n",
       "         3.35284710e-01,  3.65838051e-01,  5.48406303e-01,  5.20559728e-01,\n",
       "         1.01563066e-01, -1.62387526e+00,  6.03590429e-01,  2.63928831e-01,\n",
       "         3.39153886e-01, -1.04178846e-01,  2.66277343e-01,  2.68165439e-01,\n",
       "         2.98326731e-01,  3.49634320e-01,  3.50932986e-01,  5.73847711e-01,\n",
       "         5.00799894e-01,  1.60518691e-01,  3.26113701e-01,  3.84698063e-02,\n",
       "        -6.01957977e-01, -4.59365219e-01, -1.81655037e+00,  3.36978167e-01],\n",
       "       dtype=float32),\n",
       " 'model': <CellHit.models.model.EnsembleXGBoost at 0x7fa313b0f710>}"
      ]
     },
     "execution_count": 17,
     "metadata": {},
     "output_type": "execute_result"
    }
   ],
   "source": [
    "inference_results"
   ]
  },
  {
   "cell_type": "markdown",
   "metadata": {},
   "source": [
    "In particular inference return ad dictionary containing the numerical prediction for the provided test set and the re-fitted model with optimal hyperparameters"
   ]
  },
  {
   "cell_type": "markdown",
   "metadata": {},
   "source": [
    "In order to make MSE comparable between drugs, the `prepare_data` function takes care of standardizing the Ys drug-wise. In order to transform back the values to their original scale we leverage the loader object contained into the `data_dict` dictionary which comes with a lot of methods useful for data mapping purposes"
   ]
  },
  {
   "cell_type": "code",
   "execution_count": 18,
   "metadata": {},
   "outputs": [],
   "source": [
    "drug_mean = data_dict['loader'].get_drug_mean(drugID)\n",
    "drug_std = data_dict['loader'].get_drug_std(drugID)"
   ]
  },
  {
   "cell_type": "markdown",
   "metadata": {},
   "source": [
    "We can than obtain the final `prediction_df` dataframe as follows"
   ]
  },
  {
   "cell_type": "code",
   "execution_count": 19,
   "metadata": {},
   "outputs": [],
   "source": [
    "predictions_df = pd.DataFrame()\n",
    "predictions_df['DrugName'] = [data_dict['loader'].get_drug_name(drugID)]*len(inference_results['predictions'])\n",
    "predictions_df['DrugID'] = [drugID]*len(inference_results['predictions'])\n",
    "predictions_df['Predictions'] = (inference_results['predictions']* drug_std) + drug_mean\n",
    "predictions_df['Actual'] = ((data_dict['test_Y'] * drug_std) + drug_mean).values\n",
    "predictions_df['DepMapID'] = data_dict['test_indexes']"
   ]
  },
  {
   "cell_type": "code",
   "execution_count": 20,
   "metadata": {},
   "outputs": [
    {
     "data": {
      "text/html": [
       "<div>\n",
       "<style scoped>\n",
       "    .dataframe tbody tr th:only-of-type {\n",
       "        vertical-align: middle;\n",
       "    }\n",
       "\n",
       "    .dataframe tbody tr th {\n",
       "        vertical-align: top;\n",
       "    }\n",
       "\n",
       "    .dataframe thead th {\n",
       "        text-align: right;\n",
       "    }\n",
       "</style>\n",
       "<table border=\"1\" class=\"dataframe\">\n",
       "  <thead>\n",
       "    <tr style=\"text-align: right;\">\n",
       "      <th></th>\n",
       "      <th>DrugName</th>\n",
       "      <th>DrugID</th>\n",
       "      <th>Predictions</th>\n",
       "      <th>Actual</th>\n",
       "      <th>DepMapID</th>\n",
       "    </tr>\n",
       "  </thead>\n",
       "  <tbody>\n",
       "    <tr>\n",
       "      <th>0</th>\n",
       "      <td>Venetoclax</td>\n",
       "      <td>1909</td>\n",
       "      <td>3.715961</td>\n",
       "      <td>1.934033</td>\n",
       "      <td>ACH-001334</td>\n",
       "    </tr>\n",
       "    <tr>\n",
       "      <th>1</th>\n",
       "      <td>Venetoclax</td>\n",
       "      <td>1909</td>\n",
       "      <td>3.221209</td>\n",
       "      <td>3.450481</td>\n",
       "      <td>ACH-000075</td>\n",
       "    </tr>\n",
       "    <tr>\n",
       "      <th>2</th>\n",
       "      <td>Venetoclax</td>\n",
       "      <td>1909</td>\n",
       "      <td>3.622618</td>\n",
       "      <td>1.878673</td>\n",
       "      <td>ACH-000021</td>\n",
       "    </tr>\n",
       "    <tr>\n",
       "      <th>3</th>\n",
       "      <td>Venetoclax</td>\n",
       "      <td>1909</td>\n",
       "      <td>2.221580</td>\n",
       "      <td>3.556234</td>\n",
       "      <td>ACH-000196</td>\n",
       "    </tr>\n",
       "    <tr>\n",
       "      <th>4</th>\n",
       "      <td>Venetoclax</td>\n",
       "      <td>1909</td>\n",
       "      <td>2.960868</td>\n",
       "      <td>2.642524</td>\n",
       "      <td>ACH-001543</td>\n",
       "    </tr>\n",
       "  </tbody>\n",
       "</table>\n",
       "</div>"
      ],
      "text/plain": [
       "     DrugName  DrugID  Predictions    Actual    DepMapID\n",
       "0  Venetoclax    1909     3.715961  1.934033  ACH-001334\n",
       "1  Venetoclax    1909     3.221209  3.450481  ACH-000075\n",
       "2  Venetoclax    1909     3.622618  1.878673  ACH-000021\n",
       "3  Venetoclax    1909     2.221580  3.556234  ACH-000196\n",
       "4  Venetoclax    1909     2.960868  2.642524  ACH-001543"
      ]
     },
     "execution_count": 20,
     "metadata": {},
     "output_type": "execute_result"
    }
   ],
   "source": [
    "predictions_df.head()"
   ]
  },
  {
   "cell_type": "markdown",
   "metadata": {},
   "source": [
    "# 4. Inference on external data"
   ]
  },
  {
   "cell_type": "markdown",
   "metadata": {},
   "source": [
    "So far we only ran inference on cell lines. In order to perform full inference on all of TCGA we can procede as follows (we need to re run the `prepare_data` function)"
   ]
  },
  {
   "cell_type": "code",
   "execution_count": 21,
   "metadata": {},
   "outputs": [],
   "source": [
    "data_dict = prepare_data(drugID=drugID,\n",
    "                        dataset=dataset,\n",
    "                        use_external_datasets=True,\n",
    "                        gene_selection_mode='moa_primed',\n",
    "                        random_state=random_state,\n",
    "                        data_path=data_path,\n",
    "                        celligner_output_path=celligner_output_path,\n",
    "                        use_dumped_loaders=use_dumped_loaders) "
   ]
  },
  {
   "cell_type": "code",
   "execution_count": 22,
   "metadata": {},
   "outputs": [
    {
     "data": {
      "text/plain": [
       "dict_keys(['cv_data', 'genes', 'loader', 'external_X', 'external_indexes'])"
      ]
     },
     "execution_count": 22,
     "metadata": {},
     "output_type": "execute_result"
    }
   ],
   "source": [
    "data_dict.keys()"
   ]
  },
  {
   "cell_type": "markdown",
   "metadata": {},
   "source": [
    "With a slight modification of the inference function"
   ]
  },
  {
   "cell_type": "code",
   "execution_count": 23,
   "metadata": {},
   "outputs": [
    {
     "name": "stderr",
     "output_type": "stream",
     "text": [
      "[15:24:09] WARNING: /scratch/fcarli/xgboost/src/c_api/c_api.cc:1283: Saving into deprecated binary model format, please consider using `json` or `ubj`. Model format will default to JSON in XGBoost 2.2 if not specified.\n",
      "[15:24:10] WARNING: /scratch/fcarli/xgboost/src/c_api/c_api.cc:1283: Saving into deprecated binary model format, please consider using `json` or `ubj`. Model format will default to JSON in XGBoost 2.2 if not specified.\n",
      "[15:24:11] WARNING: /scratch/fcarli/xgboost/src/c_api/c_api.cc:1283: Saving into deprecated binary model format, please consider using `json` or `ubj`. Model format will default to JSON in XGBoost 2.2 if not specified.\n"
     ]
    }
   ],
   "source": [
    "results = inference(\n",
    "        model=pretrained_model if 'pretrained_model' in locals() else None,\n",
    "        best_params=best_params,\n",
    "        refit=False if 'pretrained_model' in locals() else True,\n",
    "        internal_inference=False, \n",
    "        gene_selection_mode='moa_primed',\n",
    "        return_shaps=True, \n",
    "        return_model=False if 'pretrained_model' in locals() else True,\n",
    "        return_stds=True,\n",
    "        fix_seed=True,\n",
    "        **data_dict)"
   ]
  },
  {
   "cell_type": "code",
   "execution_count": 24,
   "metadata": {},
   "outputs": [],
   "source": [
    "predictions_df = pd.DataFrame()\n",
    "predictions_df['DrugName'] = [data_dict['loader'].get_drug_name(drugID)]*len(results['predictions'])\n",
    "predictions_df['DrugID'] = [drugID]*len(results['predictions'])\n",
    "predictions_df['Index'] = data_dict['external_indexes']\n",
    "predictions_df['Predictions'] = results['predictions']\n",
    "\n",
    "#unstandardize the predictions\n",
    "mean = data_dict['loader'].get_drug_mean(drugID)\n",
    "std = data_dict['loader'].get_drug_std(drugID)\n",
    "\n",
    "predictions_df['Predictions'] = predictions_df['Predictions']*drug_std + drug_mean\n",
    "predictions_df['Source'] = data_dict['loader'].get_indexes_sources(data_dict['external_indexes'].tolist())"
   ]
  },
  {
   "cell_type": "markdown",
   "metadata": {},
   "source": [
    "Since we are using an ensemble of XGBoost models trains on different subset of the training dataset we can also obtain a std for the considered predictions"
   ]
  },
  {
   "cell_type": "code",
   "execution_count": 25,
   "metadata": {},
   "outputs": [],
   "source": [
    "predictions_df['Stds'] = results['std']\n",
    "predictions_df['Stds'] = predictions_df['Stds']*drug_std"
   ]
  },
  {
   "cell_type": "code",
   "execution_count": 26,
   "metadata": {},
   "outputs": [
    {
     "data": {
      "text/html": [
       "<div>\n",
       "<style scoped>\n",
       "    .dataframe tbody tr th:only-of-type {\n",
       "        vertical-align: middle;\n",
       "    }\n",
       "\n",
       "    .dataframe tbody tr th {\n",
       "        vertical-align: top;\n",
       "    }\n",
       "\n",
       "    .dataframe thead th {\n",
       "        text-align: right;\n",
       "    }\n",
       "</style>\n",
       "<table border=\"1\" class=\"dataframe\">\n",
       "  <thead>\n",
       "    <tr style=\"text-align: right;\">\n",
       "      <th></th>\n",
       "      <th>DrugName</th>\n",
       "      <th>DrugID</th>\n",
       "      <th>Index</th>\n",
       "      <th>Predictions</th>\n",
       "      <th>Source</th>\n",
       "      <th>Stds</th>\n",
       "    </tr>\n",
       "  </thead>\n",
       "  <tbody>\n",
       "    <tr>\n",
       "      <th>0</th>\n",
       "      <td>Venetoclax</td>\n",
       "      <td>1909</td>\n",
       "      <td>TH40_2202_S02</td>\n",
       "      <td>2.212933</td>\n",
       "      <td>TCGA</td>\n",
       "      <td>0.093941</td>\n",
       "    </tr>\n",
       "    <tr>\n",
       "      <th>1</th>\n",
       "      <td>Venetoclax</td>\n",
       "      <td>1909</td>\n",
       "      <td>TH40_2202_S03</td>\n",
       "      <td>2.507426</td>\n",
       "      <td>TCGA</td>\n",
       "      <td>0.014606</td>\n",
       "    </tr>\n",
       "    <tr>\n",
       "      <th>2</th>\n",
       "      <td>Venetoclax</td>\n",
       "      <td>1909</td>\n",
       "      <td>TH27_1241_S01</td>\n",
       "      <td>1.739057</td>\n",
       "      <td>TCGA</td>\n",
       "      <td>0.132403</td>\n",
       "    </tr>\n",
       "    <tr>\n",
       "      <th>3</th>\n",
       "      <td>Venetoclax</td>\n",
       "      <td>1909</td>\n",
       "      <td>TH40_2202_S01</td>\n",
       "      <td>1.838578</td>\n",
       "      <td>TCGA</td>\n",
       "      <td>0.122338</td>\n",
       "    </tr>\n",
       "    <tr>\n",
       "      <th>4</th>\n",
       "      <td>Venetoclax</td>\n",
       "      <td>1909</td>\n",
       "      <td>TARGET-40-0A4I65-01A-01R</td>\n",
       "      <td>2.226494</td>\n",
       "      <td>TCGA</td>\n",
       "      <td>0.155388</td>\n",
       "    </tr>\n",
       "    <tr>\n",
       "      <th>...</th>\n",
       "      <td>...</td>\n",
       "      <td>...</td>\n",
       "      <td>...</td>\n",
       "      <td>...</td>\n",
       "      <td>...</td>\n",
       "      <td>...</td>\n",
       "    </tr>\n",
       "    <tr>\n",
       "      <th>14192</th>\n",
       "      <td>Venetoclax</td>\n",
       "      <td>1909</td>\n",
       "      <td>ACH-000285</td>\n",
       "      <td>-0.994926</td>\n",
       "      <td>CCLE</td>\n",
       "      <td>0.242647</td>\n",
       "    </tr>\n",
       "    <tr>\n",
       "      <th>14193</th>\n",
       "      <td>Venetoclax</td>\n",
       "      <td>1909</td>\n",
       "      <td>ACH-002669</td>\n",
       "      <td>3.543926</td>\n",
       "      <td>CCLE</td>\n",
       "      <td>0.246816</td>\n",
       "    </tr>\n",
       "    <tr>\n",
       "      <th>14194</th>\n",
       "      <td>Venetoclax</td>\n",
       "      <td>1909</td>\n",
       "      <td>ACH-001858</td>\n",
       "      <td>3.325490</td>\n",
       "      <td>CCLE</td>\n",
       "      <td>0.108080</td>\n",
       "    </tr>\n",
       "    <tr>\n",
       "      <th>14195</th>\n",
       "      <td>Venetoclax</td>\n",
       "      <td>1909</td>\n",
       "      <td>ACH-001997</td>\n",
       "      <td>4.861716</td>\n",
       "      <td>CCLE</td>\n",
       "      <td>0.099407</td>\n",
       "    </tr>\n",
       "    <tr>\n",
       "      <th>14196</th>\n",
       "      <td>Venetoclax</td>\n",
       "      <td>1909</td>\n",
       "      <td>ACH-000052</td>\n",
       "      <td>1.789004</td>\n",
       "      <td>CCLE</td>\n",
       "      <td>0.115884</td>\n",
       "    </tr>\n",
       "  </tbody>\n",
       "</table>\n",
       "<p>14197 rows × 6 columns</p>\n",
       "</div>"
      ],
      "text/plain": [
       "         DrugName  DrugID                     Index  Predictions Source  \\\n",
       "0      Venetoclax    1909             TH40_2202_S02     2.212933   TCGA   \n",
       "1      Venetoclax    1909             TH40_2202_S03     2.507426   TCGA   \n",
       "2      Venetoclax    1909             TH27_1241_S01     1.739057   TCGA   \n",
       "3      Venetoclax    1909             TH40_2202_S01     1.838578   TCGA   \n",
       "4      Venetoclax    1909  TARGET-40-0A4I65-01A-01R     2.226494   TCGA   \n",
       "...           ...     ...                       ...          ...    ...   \n",
       "14192  Venetoclax    1909                ACH-000285    -0.994926   CCLE   \n",
       "14193  Venetoclax    1909                ACH-002669     3.543926   CCLE   \n",
       "14194  Venetoclax    1909                ACH-001858     3.325490   CCLE   \n",
       "14195  Venetoclax    1909                ACH-001997     4.861716   CCLE   \n",
       "14196  Venetoclax    1909                ACH-000052     1.789004   CCLE   \n",
       "\n",
       "           Stds  \n",
       "0      0.093941  \n",
       "1      0.014606  \n",
       "2      0.132403  \n",
       "3      0.122338  \n",
       "4      0.155388  \n",
       "...         ...  \n",
       "14192  0.242647  \n",
       "14193  0.246816  \n",
       "14194  0.108080  \n",
       "14195  0.099407  \n",
       "14196  0.115884  \n",
       "\n",
       "[14197 rows x 6 columns]"
      ]
     },
     "execution_count": 26,
     "metadata": {},
     "output_type": "execute_result"
    }
   ],
   "source": [
    "predictions_df"
   ]
  },
  {
   "cell_type": "markdown",
   "metadata": {},
   "source": [
    "# 5. Local and global SHAP importance"
   ]
  },
  {
   "cell_type": "markdown",
   "metadata": {},
   "source": [
    "The modified inference command also returns as the local shap importances for all samples and all genes. We can obtain the relative dataframe as follows"
   ]
  },
  {
   "cell_type": "code",
   "execution_count": 27,
   "metadata": {},
   "outputs": [
    {
     "data": {
      "text/html": [
       "<div>\n",
       "<style scoped>\n",
       "    .dataframe tbody tr th:only-of-type {\n",
       "        vertical-align: middle;\n",
       "    }\n",
       "\n",
       "    .dataframe tbody tr th {\n",
       "        vertical-align: top;\n",
       "    }\n",
       "\n",
       "    .dataframe thead th {\n",
       "        text-align: right;\n",
       "    }\n",
       "</style>\n",
       "<table border=\"1\" class=\"dataframe\">\n",
       "  <thead>\n",
       "    <tr style=\"text-align: right;\">\n",
       "      <th></th>\n",
       "      <th>ESR1</th>\n",
       "      <th>EP400</th>\n",
       "      <th>SULT1A4</th>\n",
       "      <th>EDEM1</th>\n",
       "      <th>GSS</th>\n",
       "      <th>PFKL</th>\n",
       "      <th>RRAGA</th>\n",
       "      <th>CTDNEP1</th>\n",
       "      <th>EIF4H</th>\n",
       "      <th>CYP4V2</th>\n",
       "      <th>...</th>\n",
       "      <th>MAP2K5</th>\n",
       "      <th>MYB</th>\n",
       "      <th>CLCF1</th>\n",
       "      <th>RPL24</th>\n",
       "      <th>GTF2A2</th>\n",
       "      <th>PLD2</th>\n",
       "      <th>PPP1R12A</th>\n",
       "      <th>GHR</th>\n",
       "      <th>LPCAT1</th>\n",
       "      <th>ATG9B</th>\n",
       "    </tr>\n",
       "    <tr>\n",
       "      <th>Index</th>\n",
       "      <th></th>\n",
       "      <th></th>\n",
       "      <th></th>\n",
       "      <th></th>\n",
       "      <th></th>\n",
       "      <th></th>\n",
       "      <th></th>\n",
       "      <th></th>\n",
       "      <th></th>\n",
       "      <th></th>\n",
       "      <th></th>\n",
       "      <th></th>\n",
       "      <th></th>\n",
       "      <th></th>\n",
       "      <th></th>\n",
       "      <th></th>\n",
       "      <th></th>\n",
       "      <th></th>\n",
       "      <th></th>\n",
       "      <th></th>\n",
       "      <th></th>\n",
       "    </tr>\n",
       "  </thead>\n",
       "  <tbody>\n",
       "    <tr>\n",
       "      <th>TH40_2202_S02</th>\n",
       "      <td>0.000074</td>\n",
       "      <td>0.0</td>\n",
       "      <td>0.0</td>\n",
       "      <td>0.000081</td>\n",
       "      <td>0.001265</td>\n",
       "      <td>0.0</td>\n",
       "      <td>0.000081</td>\n",
       "      <td>-0.000095</td>\n",
       "      <td>0.000493</td>\n",
       "      <td>-0.000028</td>\n",
       "      <td>...</td>\n",
       "      <td>0.000057</td>\n",
       "      <td>0.000863</td>\n",
       "      <td>-0.000070</td>\n",
       "      <td>0.0</td>\n",
       "      <td>0.0</td>\n",
       "      <td>-0.000059</td>\n",
       "      <td>0.000116</td>\n",
       "      <td>0.000342</td>\n",
       "      <td>-0.000044</td>\n",
       "      <td>0.0</td>\n",
       "    </tr>\n",
       "    <tr>\n",
       "      <th>TH40_2202_S03</th>\n",
       "      <td>-0.000119</td>\n",
       "      <td>0.0</td>\n",
       "      <td>0.0</td>\n",
       "      <td>0.000095</td>\n",
       "      <td>-0.000213</td>\n",
       "      <td>0.0</td>\n",
       "      <td>0.000081</td>\n",
       "      <td>-0.000044</td>\n",
       "      <td>0.000235</td>\n",
       "      <td>0.000052</td>\n",
       "      <td>...</td>\n",
       "      <td>0.000113</td>\n",
       "      <td>0.000895</td>\n",
       "      <td>-0.000046</td>\n",
       "      <td>0.0</td>\n",
       "      <td>0.0</td>\n",
       "      <td>-0.000083</td>\n",
       "      <td>-0.000273</td>\n",
       "      <td>0.000319</td>\n",
       "      <td>-0.000044</td>\n",
       "      <td>0.0</td>\n",
       "    </tr>\n",
       "    <tr>\n",
       "      <th>TH27_1241_S01</th>\n",
       "      <td>-0.000324</td>\n",
       "      <td>0.0</td>\n",
       "      <td>0.0</td>\n",
       "      <td>0.000099</td>\n",
       "      <td>0.000062</td>\n",
       "      <td>0.0</td>\n",
       "      <td>0.000081</td>\n",
       "      <td>0.000182</td>\n",
       "      <td>-0.000626</td>\n",
       "      <td>-0.000028</td>\n",
       "      <td>...</td>\n",
       "      <td>-0.000128</td>\n",
       "      <td>0.000970</td>\n",
       "      <td>-0.000051</td>\n",
       "      <td>0.0</td>\n",
       "      <td>0.0</td>\n",
       "      <td>-0.000084</td>\n",
       "      <td>0.000292</td>\n",
       "      <td>-0.000055</td>\n",
       "      <td>0.000035</td>\n",
       "      <td>0.0</td>\n",
       "    </tr>\n",
       "    <tr>\n",
       "      <th>TH40_2202_S01</th>\n",
       "      <td>-0.000042</td>\n",
       "      <td>0.0</td>\n",
       "      <td>0.0</td>\n",
       "      <td>0.000081</td>\n",
       "      <td>-0.000027</td>\n",
       "      <td>0.0</td>\n",
       "      <td>0.000081</td>\n",
       "      <td>-0.001583</td>\n",
       "      <td>0.000233</td>\n",
       "      <td>-0.000043</td>\n",
       "      <td>...</td>\n",
       "      <td>0.000245</td>\n",
       "      <td>0.000915</td>\n",
       "      <td>-0.000027</td>\n",
       "      <td>0.0</td>\n",
       "      <td>0.0</td>\n",
       "      <td>0.000034</td>\n",
       "      <td>-0.000686</td>\n",
       "      <td>0.000342</td>\n",
       "      <td>-0.000044</td>\n",
       "      <td>0.0</td>\n",
       "    </tr>\n",
       "    <tr>\n",
       "      <th>TARGET-40-0A4I65-01A-01R</th>\n",
       "      <td>-0.001550</td>\n",
       "      <td>0.0</td>\n",
       "      <td>0.0</td>\n",
       "      <td>0.000136</td>\n",
       "      <td>-0.000053</td>\n",
       "      <td>0.0</td>\n",
       "      <td>0.000081</td>\n",
       "      <td>0.000032</td>\n",
       "      <td>-0.000043</td>\n",
       "      <td>0.000153</td>\n",
       "      <td>...</td>\n",
       "      <td>0.000057</td>\n",
       "      <td>0.000950</td>\n",
       "      <td>-0.000139</td>\n",
       "      <td>0.0</td>\n",
       "      <td>0.0</td>\n",
       "      <td>0.000034</td>\n",
       "      <td>0.000292</td>\n",
       "      <td>-0.000172</td>\n",
       "      <td>-0.000044</td>\n",
       "      <td>0.0</td>\n",
       "    </tr>\n",
       "    <tr>\n",
       "      <th>...</th>\n",
       "      <td>...</td>\n",
       "      <td>...</td>\n",
       "      <td>...</td>\n",
       "      <td>...</td>\n",
       "      <td>...</td>\n",
       "      <td>...</td>\n",
       "      <td>...</td>\n",
       "      <td>...</td>\n",
       "      <td>...</td>\n",
       "      <td>...</td>\n",
       "      <td>...</td>\n",
       "      <td>...</td>\n",
       "      <td>...</td>\n",
       "      <td>...</td>\n",
       "      <td>...</td>\n",
       "      <td>...</td>\n",
       "      <td>...</td>\n",
       "      <td>...</td>\n",
       "      <td>...</td>\n",
       "      <td>...</td>\n",
       "      <td>...</td>\n",
       "    </tr>\n",
       "    <tr>\n",
       "      <th>ACH-000285</th>\n",
       "      <td>-0.001605</td>\n",
       "      <td>0.0</td>\n",
       "      <td>0.0</td>\n",
       "      <td>-0.000473</td>\n",
       "      <td>-0.000005</td>\n",
       "      <td>0.0</td>\n",
       "      <td>0.000081</td>\n",
       "      <td>-0.000908</td>\n",
       "      <td>0.000380</td>\n",
       "      <td>0.000242</td>\n",
       "      <td>...</td>\n",
       "      <td>0.000102</td>\n",
       "      <td>0.000851</td>\n",
       "      <td>-0.000027</td>\n",
       "      <td>0.0</td>\n",
       "      <td>0.0</td>\n",
       "      <td>-0.000060</td>\n",
       "      <td>-0.000273</td>\n",
       "      <td>0.000173</td>\n",
       "      <td>0.000053</td>\n",
       "      <td>0.0</td>\n",
       "    </tr>\n",
       "    <tr>\n",
       "      <th>ACH-002669</th>\n",
       "      <td>-0.000177</td>\n",
       "      <td>0.0</td>\n",
       "      <td>0.0</td>\n",
       "      <td>0.000097</td>\n",
       "      <td>0.000007</td>\n",
       "      <td>0.0</td>\n",
       "      <td>0.000038</td>\n",
       "      <td>-0.000044</td>\n",
       "      <td>-0.000757</td>\n",
       "      <td>-0.000028</td>\n",
       "      <td>...</td>\n",
       "      <td>0.000113</td>\n",
       "      <td>0.000822</td>\n",
       "      <td>0.000553</td>\n",
       "      <td>0.0</td>\n",
       "      <td>0.0</td>\n",
       "      <td>0.000049</td>\n",
       "      <td>-0.000273</td>\n",
       "      <td>-0.000128</td>\n",
       "      <td>0.000053</td>\n",
       "      <td>0.0</td>\n",
       "    </tr>\n",
       "    <tr>\n",
       "      <th>ACH-001858</th>\n",
       "      <td>-0.000177</td>\n",
       "      <td>0.0</td>\n",
       "      <td>0.0</td>\n",
       "      <td>0.000082</td>\n",
       "      <td>-0.000053</td>\n",
       "      <td>0.0</td>\n",
       "      <td>0.000081</td>\n",
       "      <td>-0.000033</td>\n",
       "      <td>-0.000842</td>\n",
       "      <td>-0.000043</td>\n",
       "      <td>...</td>\n",
       "      <td>0.000057</td>\n",
       "      <td>0.000872</td>\n",
       "      <td>0.000553</td>\n",
       "      <td>0.0</td>\n",
       "      <td>0.0</td>\n",
       "      <td>0.000082</td>\n",
       "      <td>0.000292</td>\n",
       "      <td>-0.000195</td>\n",
       "      <td>0.000053</td>\n",
       "      <td>0.0</td>\n",
       "    </tr>\n",
       "    <tr>\n",
       "      <th>ACH-001997</th>\n",
       "      <td>-0.000092</td>\n",
       "      <td>0.0</td>\n",
       "      <td>0.0</td>\n",
       "      <td>0.000074</td>\n",
       "      <td>0.000007</td>\n",
       "      <td>0.0</td>\n",
       "      <td>0.000040</td>\n",
       "      <td>0.000062</td>\n",
       "      <td>0.000361</td>\n",
       "      <td>-0.000028</td>\n",
       "      <td>...</td>\n",
       "      <td>0.000057</td>\n",
       "      <td>0.000851</td>\n",
       "      <td>0.000094</td>\n",
       "      <td>0.0</td>\n",
       "      <td>0.0</td>\n",
       "      <td>0.001246</td>\n",
       "      <td>-0.000686</td>\n",
       "      <td>-0.000114</td>\n",
       "      <td>-0.001620</td>\n",
       "      <td>0.0</td>\n",
       "    </tr>\n",
       "    <tr>\n",
       "      <th>ACH-000052</th>\n",
       "      <td>-0.001585</td>\n",
       "      <td>0.0</td>\n",
       "      <td>0.0</td>\n",
       "      <td>0.000082</td>\n",
       "      <td>-0.000053</td>\n",
       "      <td>0.0</td>\n",
       "      <td>0.000081</td>\n",
       "      <td>0.000683</td>\n",
       "      <td>0.000265</td>\n",
       "      <td>0.000033</td>\n",
       "      <td>...</td>\n",
       "      <td>-0.000291</td>\n",
       "      <td>0.000808</td>\n",
       "      <td>-0.000051</td>\n",
       "      <td>0.0</td>\n",
       "      <td>0.0</td>\n",
       "      <td>0.000049</td>\n",
       "      <td>0.000116</td>\n",
       "      <td>-0.000038</td>\n",
       "      <td>0.000053</td>\n",
       "      <td>0.0</td>\n",
       "    </tr>\n",
       "  </tbody>\n",
       "</table>\n",
       "<p>14197 rows × 3769 columns</p>\n",
       "</div>"
      ],
      "text/plain": [
       "                              ESR1  EP400  SULT1A4     EDEM1       GSS  PFKL  \\\n",
       "Index                                                                          \n",
       "TH40_2202_S02             0.000074    0.0      0.0  0.000081  0.001265   0.0   \n",
       "TH40_2202_S03            -0.000119    0.0      0.0  0.000095 -0.000213   0.0   \n",
       "TH27_1241_S01            -0.000324    0.0      0.0  0.000099  0.000062   0.0   \n",
       "TH40_2202_S01            -0.000042    0.0      0.0  0.000081 -0.000027   0.0   \n",
       "TARGET-40-0A4I65-01A-01R -0.001550    0.0      0.0  0.000136 -0.000053   0.0   \n",
       "...                            ...    ...      ...       ...       ...   ...   \n",
       "ACH-000285               -0.001605    0.0      0.0 -0.000473 -0.000005   0.0   \n",
       "ACH-002669               -0.000177    0.0      0.0  0.000097  0.000007   0.0   \n",
       "ACH-001858               -0.000177    0.0      0.0  0.000082 -0.000053   0.0   \n",
       "ACH-001997               -0.000092    0.0      0.0  0.000074  0.000007   0.0   \n",
       "ACH-000052               -0.001585    0.0      0.0  0.000082 -0.000053   0.0   \n",
       "\n",
       "                             RRAGA   CTDNEP1     EIF4H    CYP4V2  ...  \\\n",
       "Index                                                             ...   \n",
       "TH40_2202_S02             0.000081 -0.000095  0.000493 -0.000028  ...   \n",
       "TH40_2202_S03             0.000081 -0.000044  0.000235  0.000052  ...   \n",
       "TH27_1241_S01             0.000081  0.000182 -0.000626 -0.000028  ...   \n",
       "TH40_2202_S01             0.000081 -0.001583  0.000233 -0.000043  ...   \n",
       "TARGET-40-0A4I65-01A-01R  0.000081  0.000032 -0.000043  0.000153  ...   \n",
       "...                            ...       ...       ...       ...  ...   \n",
       "ACH-000285                0.000081 -0.000908  0.000380  0.000242  ...   \n",
       "ACH-002669                0.000038 -0.000044 -0.000757 -0.000028  ...   \n",
       "ACH-001858                0.000081 -0.000033 -0.000842 -0.000043  ...   \n",
       "ACH-001997                0.000040  0.000062  0.000361 -0.000028  ...   \n",
       "ACH-000052                0.000081  0.000683  0.000265  0.000033  ...   \n",
       "\n",
       "                            MAP2K5       MYB     CLCF1  RPL24  GTF2A2  \\\n",
       "Index                                                                   \n",
       "TH40_2202_S02             0.000057  0.000863 -0.000070    0.0     0.0   \n",
       "TH40_2202_S03             0.000113  0.000895 -0.000046    0.0     0.0   \n",
       "TH27_1241_S01            -0.000128  0.000970 -0.000051    0.0     0.0   \n",
       "TH40_2202_S01             0.000245  0.000915 -0.000027    0.0     0.0   \n",
       "TARGET-40-0A4I65-01A-01R  0.000057  0.000950 -0.000139    0.0     0.0   \n",
       "...                            ...       ...       ...    ...     ...   \n",
       "ACH-000285                0.000102  0.000851 -0.000027    0.0     0.0   \n",
       "ACH-002669                0.000113  0.000822  0.000553    0.0     0.0   \n",
       "ACH-001858                0.000057  0.000872  0.000553    0.0     0.0   \n",
       "ACH-001997                0.000057  0.000851  0.000094    0.0     0.0   \n",
       "ACH-000052               -0.000291  0.000808 -0.000051    0.0     0.0   \n",
       "\n",
       "                              PLD2  PPP1R12A       GHR    LPCAT1  ATG9B  \n",
       "Index                                                                    \n",
       "TH40_2202_S02            -0.000059  0.000116  0.000342 -0.000044    0.0  \n",
       "TH40_2202_S03            -0.000083 -0.000273  0.000319 -0.000044    0.0  \n",
       "TH27_1241_S01            -0.000084  0.000292 -0.000055  0.000035    0.0  \n",
       "TH40_2202_S01             0.000034 -0.000686  0.000342 -0.000044    0.0  \n",
       "TARGET-40-0A4I65-01A-01R  0.000034  0.000292 -0.000172 -0.000044    0.0  \n",
       "...                            ...       ...       ...       ...    ...  \n",
       "ACH-000285               -0.000060 -0.000273  0.000173  0.000053    0.0  \n",
       "ACH-002669                0.000049 -0.000273 -0.000128  0.000053    0.0  \n",
       "ACH-001858                0.000082  0.000292 -0.000195  0.000053    0.0  \n",
       "ACH-001997                0.001246 -0.000686 -0.000114 -0.001620    0.0  \n",
       "ACH-000052                0.000049  0.000116 -0.000038  0.000053    0.0  \n",
       "\n",
       "[14197 rows x 3769 columns]"
      ]
     },
     "execution_count": 27,
     "metadata": {},
     "output_type": "execute_result"
    }
   ],
   "source": [
    "#create the dataframe of the shap values\n",
    "shap_df = pd.DataFrame()\n",
    "#values are inside results['shap_values'].values, whereas columns are inside results['shap_values'].feature_names\n",
    "shap_df['Index'] = data_dict['external_indexes']\n",
    "shap_df['Source'] = data_dict['loader'].get_indexes_sources(data_dict['external_indexes'].tolist())\n",
    "shap_df = pd.concat([shap_df, pd.DataFrame(results['shap_values'].values, columns=results['shap_values'].feature_names)], axis=1)\n",
    "shap_df = pd.DataFrame(results['shap_values'].values, columns=results['shap_values'].feature_names)\n",
    "shap_df['Index'] = data_dict['external_indexes']\n",
    "shap_df = shap_df.set_index('Index')\n",
    "shap_df"
   ]
  },
  {
   "cell_type": "markdown",
   "metadata": {},
   "source": [
    "Making use of the shap library we can than visualize these shap values observation by observation"
   ]
  },
  {
   "cell_type": "code",
   "execution_count": 28,
   "metadata": {},
   "outputs": [
    {
     "data": {
      "image/png": "[encoded data removed]",
      "text/plain": [
       "<Figure size 2000x300 with 1 Axes>"
      ]
     },
     "metadata": {},
     "output_type": "display_data"
    }
   ],
   "source": [
    "import shap\n",
    "\n",
    "# Select an index from the shap_df dataframe\n",
    "sample_index = shap_df.index[0]  # Using the first index as an example\n",
    "\n",
    "# Get the SHAP values for the selected sample\n",
    "shap_values = shap_df.loc[sample_index]\n",
    "\n",
    "# Create an Explanation object\n",
    "explanation = shap.Explanation(values=shap_values.values,\n",
    "                               base_values=np.zeros(len(shap_values)),\n",
    "                               data=shap_values.values,\n",
    "                               feature_names=shap_values.index.tolist())\n",
    "\n",
    "# Visualize the SHAP values using a force plot\n",
    "shap.plots.force(explanation, matplotlib=True)\n"
   ]
  },
  {
   "cell_type": "markdown",
   "metadata": {},
   "source": [
    "We can also compute the absolute average shap importance"
   ]
  },
  {
   "cell_type": "code",
   "execution_count": 29,
   "metadata": {},
   "outputs": [
    {
     "data": {
      "image/png": "[encoded data removed]",
      "text/plain": [
       "<Figure size 800x950 with 1 Axes>"
      ]
     },
     "metadata": {},
     "output_type": "display_data"
    }
   ],
   "source": [
    "import matplotlib.pyplot as plt\n",
    "\n",
    "# Calculate mean absolute SHAP values for overall feature importance\n",
    "mean_abs_shap = np.abs(shap_df).mean()\n",
    "\n",
    "# Sort features by importance\n",
    "feature_importance = mean_abs_shap.sort_values(ascending=False)\n",
    "\n",
    "# Plot feature importance\n",
    "shap.summary_plot(shap_df.values, shap_df.columns, plot_type=\"bar\", max_display=20)"
   ]
  },
  {
   "cell_type": "code",
   "execution_count": null,
   "metadata": {},
   "outputs": [],
   "source": []
  }
 ],
 "metadata": {
  "kernelspec": {
   "display_name": "fgeom",
   "language": "python",
   "name": "python3"
  },
  "language_info": {
   "codemirror_mode": {
    "name": "ipython",
    "version": 3
   },
   "file_extension": ".py",
   "mimetype": "text/x-python",
   "name": "python",
   "nbconvert_exporter": "python",
   "pygments_lexer": "ipython3",
   "version": "3.11.9"
  }
 },
 "nbformat": 4,
 "nbformat_minor": 2
}
